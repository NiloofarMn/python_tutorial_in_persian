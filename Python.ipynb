{
 "cells": [
  {
   "cell_type": "markdown",
   "metadata": {},
   "source": [
    "<div dir=\"rtl\" style=\"line-height:300%;\"><font face=\"XB Nazanin\" size=5>\n",
    "<div dir=\"rtl\" align=center>\n",
    "<font face=\"IranNastaliq\" size=40 color=#C35513>\n",
    "<p></p>\n",
    "به نام خدا\n",
    "</font>\n",
    "<br>\n",
    "<font>\n",
    "دانشگاه علامه طباطبائی - دانشکده آمار، علوم ریاضی و کامپیوتر\n",
    "</font>\n",
    "<br>\n",
    "<font color=blue>\n",
    "آموزش پایتون\n",
    "</font>\n",
    "<br>\n",
    "نویسنده: نیلوفر مینوئی\n",
    "، دکتر محمدرضا اصغری اسکوئی\n",
    "    <br>\n",
    "    استاد مدرس:  دکتر محمدرضا اصغری اسکوئی\n",
    "    </div>\n",
    "<hr/>\n",
    "</font>\n",
    "</div></div>"
   ]
  },
  {
   "cell_type": "markdown",
   "metadata": {},
   "source": [
    "<div dir=\"rtl\" style=\"line-height:300%;\"><font face=\"XB Nazanin\" size=5>\n",
    "<div dir=\"rtl\" align=center>\n",
    "<font color=#C35513>\n",
    "معرفی درس و هدف درس\n",
    "</font><p></p> \n",
    "</div>\n",
    " هدف از درس برنامه سازی (پایتون) توسعه و تعمیق دانش و مهارت دانشجویان در زمینه تفکر سیستمی، آلگوریتم و برنامه نویسی در محیط پایتون است. اهداف اصلی در این درس عبارتند از:\n",
    "<br>\n",
    "<ul>\n",
    "<li>آشنائی با مبانی برنامه نویسی و ساختارهای برنامه سازی در پایتون </li>   \n",
    "<li>آشنائی با توابع و ساختارهای پیشرفته از جمله لیست، دیکشنری، کلاس و آبجکت و ساختار توابع بازگشتی</li> \n",
    "<li>آشنائی با برنامه نویسی شی گرا، وراثت، برنامه های مرتب سازی و جستجو و مفهوم پیچیدگی محاسباتی </li>\n",
    "<li>آشنائی با کتابخانه های پایتون Python, Numpy, Matplotlib … </li> \n",
    "<li> پیاده سازی و کسب مهارت انجام پروژه‌های درسی </li> \n",
    "</ul>\n",
    "<hr> \n",
    "</font>\n",
    "</div>"
   ]
  },
  {
   "cell_type": "markdown",
   "metadata": {},
   "source": [
    "<div dir=\"rtl\" style=\"line-height:300%;\"><font face=\"XB Zar\" size=4>\n",
    "<h3><a  name=\"menu\"> فهرست محتویات</a></h3>\n",
    "<ol style=\"margin-right: 0;\">\n",
    "<li><a href=\"#section1\">مقدمه بر ساختار رایانه و مبانی زبان های برنامه نویسی \t</a></li>\n",
    "<li><a href=\"#section2\">ویژگی‌های زبان پایتون و برنامه سازی و نصب محیط ژوپیتر پایتون \t</a></li>\n",
    "<li><a href=\"#section3\">متغیر، عبارت (Expression) و دستور (Statement)، اولین برنامه</a></li>\n",
    "<li><a href=\"#section4\">ساختار کنترل شرطی if و چند نمونه برنامه </a></li>\n",
    "<li><a href=\"#section5\">ساختار کنترل حلقه while, for  و چند نمونه برنامه </a></li>\n",
    "<li><a href=\"#section6\">تابع و انواع توابع، کتابخانه‌ای، ماجول و پکیج، تعریف تابع</a></li>\n",
    "<li><a href=\"#section7\">متغیر، عبارت عملگرهای محاسباتی و اعشاری </a></li>\n",
    "<li><a href=\"#section8\">متغیر، عبارترشته های حرفی (Strings) </a></li>\n",
    "<li><a href=\"#section9\">ساختارهای تاپل و لیست (List, Tuples) و ماتریس </a></li>\n",
    "<li><a href=\"#section10\">ماجول‌های محاسباتی، تصادفی و رسم نمودار  </a></li>\n",
    "<li><a href=\"#section11\">کار با فایل‌ها و ذخیره و بازیابی داده در فایل </a></li>\n",
    "<li><a href=\"#section12\">توابع بازگشتی و ساختار مجموعه و دیکشنری (Set, Dictionary) </a></li>\n",
    "<li><a href=\"#section13\">مفهوم کلاس و برنامه سازی شی گرا </a></li>\n",
    "<li><a href=\"#section14\">الگوریتم جستجو و مرتب سازی </a></li>\n",
    "<li><a href=\"#section15\">محاسبات ماتریسی با کتابخانه Numpy  و Scipy</a></li>\n",
    "<li><a href=\"#section16\">مروری بر مباحث </a></li>\n",
    "</ol>\n",
    "</font>\n",
    "</div>"
   ]
  },
  {
   "cell_type": "markdown",
   "metadata": {},
   "source": [
    "<font color=135FC3 size=6>\n",
    "<p></p>\n",
    "<div align=center><a  name=\"section1\" href=\"#menu\">فصل 1: مقدمه بر ساختار رایانه و مبانی زبان های برنامه نویسی</a></div>\n",
    "</font>\n",
    "<div dir=\"rtl\" style=\"line-height:300%;\"><font face=\"XB Nazanin\" size=5>\n",
    "<font color=#C31330>\n",
    "<br>\n",
    "در این بخش با مطالب زیر آشنا می‌شویم:\n",
    "<ol>\n",
    " <li><a  href=\"#sub1sec1\">برنامه چیست</a></li>\n",
    " <li><a  href=\"#sub2sec1\">زبان برنامه‌نویسی چیست</a></li>\n",
    "</ol>\n",
    "</font>\n",
    "<font color=#C31330>\n",
    "<a  href=\"#menu\">بازگشت به فهرست</a>\n",
    "</font>\n",
    "</font></div>"
   ]
  },
  {
   "cell_type": "markdown",
   "metadata": {},
   "source": [
    "<div dir=\"rtl\" style=\"line-height:300%;\"><font face=\"XB Nazanin\" size=5>\n",
    "<font color=#C31330 size=5>\n",
    "    <p></p>\n",
    "    <div dir=\"rtl\" align=center><a  name=\"sub1sec1\">برنامه چیست</a>\n",
    "    </div></font>\n",
    "    <p></p>\n",
    "    برنامه یک سری فعالیت ها و دستورات است که شما را به هدف یا جوابی که می‌خواهید می‌رساند. برای یک برنامه ابتدا باید یک مسئله وجود داشته باشد. سپس برای آن مسئله یک برنامه نوشته می‌شود که بتواند شما را به جواب برساند. \n",
    "    ممکن از یک جواب حدودی برای شما معیین شده باشد؛ اما در اکثر موارد جوابی در دست شما نیست و برنامه را به قصد یافتن جواب می‌نویسید. \n",
    "    <br>\n",
    "</font>\n",
    "</div>\n"
   ]
  },
  {
   "cell_type": "markdown",
   "metadata": {},
   "source": [
    "<div dir=\"rtl\" style=\"line-height:300%;\"><font face=\"XB Nazanin\" size=5>\n",
    "    <font color=#C31330 size=5>\n",
    "    <p></p>\n",
    "    <div align=center><a  name=\"sub2sec1\">زبان برنامه‌نویسی چیست</a>\n",
    "    </div></font>\n",
    "    <p></p>\n",
    "    زبان برنامه نویسی دستورات مد نظر شما در یک برنامه را به طوری تعریف می‌کند که برای یک سیستم قابل فهم باشد.\n",
    "    برخی زبان‌ها بسیار پایه‌ای هستند و برخی زبان‌ها در سطح‌های بسیار بالا و قابل فهم‌تر برای انسان تعریف شده‌اند.\n",
    "    <br>\n",
    "    به طور کلی زبان‌ها شامل 2 دسته سطح بالا و سطح پایین می‌شوند.\n",
    "    در زبان های سطح بالا کاربر یا برنامه‌نویس دخالتی در مدیریت حافظه ندارد و به زبان انسان بسیار نزدیکتر است. پایتون، جاوا، جاوا اسکریپت، c# و بسیاری از زبان‌های دیگر در این دسته از زبان‌ها قرار می‌گیرند.\n",
    "    در زبان‌های سطح پایین زبان اسمبلی(assembly) جزو این دسته از زبان‌ها است.\n",
    "    اما دسته دیگری از زبان‌ها موجود است که در بین این دو قرار دارد. هم ویژگی‌های زبان‌های سطح بالا را دارد و هم ویژگی‌های زبان‌های سطح پایین.\n",
    "    زبان C و C++ در این دسته قرار می‌گیرند.\n",
    "    <br>\n",
    "    از طرفی دیگر زبان های سطح بالا خود دارای 2 نوع مختلف هستند: مفسری و کامپایلری.\n",
    "    <br>\n",
    "    در زبان های مفسری کد خط به خط به زبان سطح پایین تبدیل می‌شود و اگر آن خط ایرادی نداشته باشد توسط سیستم اجرا می‌شود تا زمانی که خطی دارای خطا باشد.\n",
    "    در زبان‌های کامپایلری کل کد یکجا به زبان سطح پایین تبدیل شده و در صورت نداشتن خطا در هیچ یک از خط ها اجرا می‌شود.\n",
    "    <br>\n",
    "    اما زبان پایتون می‌تواند در هر دو دسته قرار بگیرد. بسته به تنظیمات می‌تواند به صورت مفسری و یا کامپایلری اجرا شود.\n",
    "    <br>\n",
    "    <br>\n",
    "</font>\n",
    "</div>"
   ]
  },
  {
   "cell_type": "markdown",
   "metadata": {},
   "source": [
    "<font face=\"XB Nazanin\" color=135FC3 size=6>\n",
    "<p></p>\n",
    "\n",
    "<div  dir=\"rtl\" align=center><a  name=\"section2\" href=\"#menu\">فصل 2: ویژگی‌های زبان پایتون و برنامه سازی و نصب محیط ژوپیتر پایتون</a></div>\n",
    "</font>\n",
    "<div dir=\"rtl\" style=\"line-height:300%;\"><font face=\"XB Nazanin\" size=5>\n",
    "<font color=#C31330>\n",
    "مقدمه\n",
    "</font><p></p>\n",
    "زبان پایتون یکی از محبوب‌ترین زبان‌های برنامه نویسی است. این زبان از سال 2017 در صدرجدول محبوب ترین زبان‌های برنامه‌نویسی دنیا قرار دارد. علت آن سادگی این زبان  نسبت به زبان‌های محبوب و پرکاربرد دیگر مانند جاوا، سی و سی پلاس پلاس است. برای تولید برنامه اگر زبان انگیلیسی را به عنوان زبان گفتاری در نظر بگیرید، برنامه نوشتن با زبان پایتون مانند صحبت به این زبان است.<br>\n",
    "برنامه‌نویسی نیز نوعی از تفکر است که با آن می‌توان انجام کاری را به کامپیوتر یا سیستم تحت فرمان شما القا کرد. در آغاز درک این بخش می‌تواند یکی از سخت‌ترین قسمت‌های کد نویسی باشد زیرا درک چگونگی عملکرد مغز کامپیوتری در این بخش قرار دارد.<br>\n",
    "در ادامه با نصب محیط برنامه نویسی آناکندا و جزئیات بیشتر در مورد پایتون و درک زبان کامپیوتر آشنا می‌شویم: <br>\n",
    "<a  name=\"section2menu\">فهرست این فصل:</a>\n",
    "<ol>\n",
    " <li><a  href=\"#sub1sec2\">نصب آناکندا</a></li>\n",
    " <li><a  href=\"#sub2sec2\">درک زبان کامپیوتر</a></li>\n",
    " <li><a  href=\"#sub3sec2\">آشنایی مقدماتی با پایتون</a></li>\n",
    "</ol>\n",
    "</font>\n",
    "<br>\n",
    "<font color=#C31330>\n",
    "<a  href=\"#menu\">بازگشت به فهرست</a>\n",
    "</font></div>"
   ]
  },
  {
   "cell_type": "markdown",
   "metadata": {},
   "source": [
    "<font color=#C31330 size=5>\n",
    "<p></p>\n",
    "<div align=center><a  name=\"sub1sec2\">نصب آناکندا</a></div></font>\n",
    "<div dir=\"rtl\" style=\"line-height:300%;\"><font face=\"XB Nazanin\" size=5>\n",
    "<p></p>\n",
    "در پایین 3 مرحله دانلود آناکندا را مشاهده می‌کنید: <br>\n",
    "<br />\n",
    "<table cellspacing=\"0\" cellpadding=\"0\" border=\"0\">\n",
    "    <tr>\n",
    "        <td style=\"text-align: center;\">\n",
    "            <img src=\"Pics/1.png\" alt=\"\" />\n",
    "            <br />\n",
    "            مرحله 1: <a href=\"https://www.anaconda.com/products/individual\">سایت آناکندا</a>\n",
    "        </td>\n",
    "        <td style=\"text-align: center;\">\n",
    "            <img src=\"Pics/2.png\" alt=\"\" />\n",
    "            <br />\n",
    "            مرحله 2\n",
    "        </td>\n",
    "    </tr>\n",
    "    <tr>\n",
    "        <td style=\"text-align: center;\">\n",
    "            <img src=\"Pics/4.png\" alt=\"\" />\n",
    "            <br />\n",
    "            مرحله 3\n",
    "        </td>\n",
    "    </tr>\n",
    "</table>\n",
    "<br>\n",
    "با توجه به سیستم خود نسخه مورد نظر را دانلود کنید. سپس با استفاده از مراحل زیر اقدام به نصب آناکندا کنید:<br>\n",
    "    <br />\n",
    "<table cellspacing=\"0\" cellpadding=\"0\" border=\"0\">\n",
    "    <tr>\n",
    "        <td style=\"text-align: center;\">\n",
    "            <img src=\"Pics/5.png\" width=\"400\" height=\"400\" alt=\"\" />\n",
    "            <br />\n",
    "            مرحله 1\n",
    "        </td>\n",
    "        <td style=\"text-align: center;\">\n",
    "            <img src=\"Pics/6.png\" width=\"400\" height=\"400\" alt=\"\" />\n",
    "            <br />\n",
    "            مرحله 2\n",
    "        </td>\n",
    "    </tr>\n",
    "    <tr>\n",
    "        <td style=\"text-align: center;\">\n",
    "            <img src=\"Pics/7.png\" width=\"400\" height=\"400\" alt=\"\" />\n",
    "            <br />\n",
    "            مرحله 3\n",
    "        </td>\n",
    "        <td style=\"text-align: center;\">\n",
    "            <img src=\"Pics/8.png\" width=\"400\" height=\"400\" alt=\"\" />\n",
    "            <br />\n",
    "            مرحله 4\n",
    "        </td>\n",
    "    </tr>\n",
    "    <tr>\n",
    "        <td style=\"text-align: center;\">\n",
    "            <img src=\"Pics/9.png\" width=\"400\" height=\"400\" alt=\"\" />\n",
    "            <br />\n",
    "            مرحله 5\n",
    "        </td>\n",
    "        <td style=\"text-align: center;\">\n",
    "            <img src=\"Pics/10.png\" width=\"400\" height=\"400\" alt=\"\" />\n",
    "            <br />\n",
    "            مرحله 6\n",
    "        </td>\n",
    "    </tr>\n",
    "    <tr>\n",
    "        <td style=\"text-align: center;\">\n",
    "            <img src=\"Pics/11.png\" width=\"400\" height=\"400\" alt=\"\" />\n",
    "            <br />\n",
    "            مرحله 7\n",
    "        </td>\n",
    "        <td style=\"text-align: center;\">\n",
    "            <img src=\"Pics/12.png\" width=\"400\" height=\"400\" alt=\"\" />\n",
    "            <br />\n",
    "            مرحله 8\n",
    "        </td>\n",
    "    </tr>\n",
    "</table>\n",
    "<br>\n",
    "با استفاده از مراحل بالا قادر به نسب آناکندا خواهید بود. آناکندا یک محیط کلی است که در آن می‌توانید به محیط های مختلف برای برنامه نویسی پایتون دسترسی پیدا کنید.\n",
    "برای مثال در تصویر آخر 3 محیط مختلف مشاهده می‌کنید که هر کدام دسترسی‌های  خاصی را در اختیار شما قرار می‌دهند. در این کلاس بیشتر از دو محیط ژوپیتر نوت بوک و ژوپیتر لب استفاده می‌شود. این دو محیط سبک بوده و امکان اجرای جز به جز کد را برای ما فراهم می‌آورد. <br>\n",
    "اسپایدر عموما برای اجرای یک فایل کامل پایتون به صورت یکجا مورد استفاده قرار می‌گیرد. فرمت فایل های ایجاد شده در ژوپیتر .ipynb\n",
    "است و فرمت فایل های پایتون که در اسپایدر ایجاد می‌شوند عموما .py \n",
    "است که به عنوان فایل پایتون شناخته می‌شوند.\n",
    "<br>\n",
    "</font>\n",
    "<br>\n",
    "<font color=#C31330>\n",
    "<a  href=\"#section2menu\">بازگشت به فهرست</a>\n",
    "</font></div>"
   ]
  },
  {
   "cell_type": "markdown",
   "metadata": {},
   "source": [
    "<font face=\"XB Nazanin\"  color=#C31330 size=5>\n",
    "<p></p>\n",
    "<div dir=\"rtl\" align=center><a name=\"sub2sec2\">درک زبان کامپیوتر</a></div></font>\n",
    "<div dir=\"rtl\" style=\"line-height:300%;\"><font face=\"XB Nazanin\" size=5>\n",
    "<p></p>\n",
    "برای برنامه نویسی نیاز است ابتدا هدف خود را مشخص کنید سپس آن را دسته بندی کنید. دسته بندی کار به صورت مرحله ای خواهد بود. هیچگاه نیاز نیست از ابتدای کار برنامه شما کامل و بدون ایراد باشد. برنامه کامل در ابتدا همیشه با آزمون و خطا به وجود می‌آید.\n",
    "<br>\n",
    "برای حل یک مسئله ابتدا باید مسئله را درک کرده، سپس یک راه حل اولیه برای آن در ذهن خود طراحی کنیم. پس از این مراحل نوبت به برنامه نویسی اولیه طرح ما می‌رسد. در نهایت برنامه را می‌آزماییم و در صورتی که نیاز به تغییرات داشت و یا خطایی در حین اجرای آن به وجود آمد، به مرحله قبل برمی‌گردیم و برنامه را بازنویسی می‌کنیم. در صورتی که در بازنویسی برنامه هیچ روند صعودی‌ای مشاهده نشود باید به مرحله قبل تر باز گشت و در طراحی اولیه بازبینی انجام شود.\n",
    "<br>\n",
    "برای مثال به نمونه زیر توجه کنید:\n",
    "<img src=\"Pics/f1.png\" width=\"500\" height=\"700\" alt=\"\" /> \n",
    "<br>\n",
    " یک مسئله ساده روشن نشدن چراغ می‌تواند مثال خوبی از فهم روند کار باشد. اولین روشی که به ذهن میرسد بررسی اتصال به برق است. در صورت جدا بودن از برق آن را روشن می‌کنیم. در صورتی که اتصال برقرار باشد و همچنان برق روشن نشود، سوختگی لامپ را بررسی می‌کنیم. اگر سوخته باشد لامپ را تعویض می‌کنیم. در غیر این صورت نیاز به یک چراغ جدید است.\n",
    "<br>\n",
    "نمونه دیگری از برنامه که به کد نویسی و زبان کامپیوتر نزدیک تر است نمونه برنامه زیر است که اعداد بزرگتر از صفر را تشخیص می‌دهد: \n",
    "<img src=\"Pics/f2.png\" width=\"500\" height=\"700\" alt=\"\" /> \n",
    "<br>\n",
    "ساده ترین کار برای تشخیص یک عدد مثبت استفاده از نماد ریاضی «بزرگتری» است. اگر عدد از صفر بزرگتر باشد به عنوان عدد بزرگتر از صفر یا مثبت اعلام می‌شود. در غیر این صورت هیچگونه اعلامی وجود ندارد.\n",
    "<br>\n",
    "اگر نیاز به اعلام عددهای کوچک تر از صفر بود به مراحل بالا چه چیزی اضافه می‌شد؟\n",
    "<br>\n",
    "کمی فراتر برویم. اگر بخواهیم 2 عدد را با هم جمع کنیم چه؟\n",
    "<br>\n",
    "ابتدا نیاز داریم 2 عدد را بگیریم (یا بخوانیم) سپس آن دو عدد را با هم جمع کنیم و در آخر مجموع را نمایش دهیم. فلوچارت این روند مشابه تصویر زیر خواهد بود:\n",
    "<img src=\"Pics/f3.png\" width=\"500\" height=\"700\" alt=\"\" />    \n",
    "<br>\n",
    "حال فلوچارت بالا را به زبان خود توضیح دهید.\n",
    "<br>\n",
    "<font color=#C31330 size=4>\n",
    "(یادگیری فلوچارت ضروری نیست و فقط برای درک بهتر از زبان کامپیوتر مورد استفاده قرار گرفته است)\n",
    "</font>\n",
    "<br>\n",
    "حال روند مثال های زیر را به زبان خود بیان کنید:\n",
    "<ol>\n",
    "    <li>تبدیل دما از فارنهایت به درجه سانتیگراد</li>\n",
    "    <li>عددی را به توان 2 رساندن</li>\n",
    "    <li>به دست آوردن محیط یک مثلث</li>\n",
    "</ol>\n",
    "</font>\n",
    "<br>\n",
    "<font color=#C31330>\n",
    "<a  href=\"#section2menu\">بازگشت به فهرست</a>\n",
    "</font></div>"
   ]
  },
  {
   "cell_type": "markdown",
   "metadata": {},
   "source": [
    "<font color=#C31330 size=5>\n",
    "<p></p>\n",
    "<div align=center><a name=\"sub3sec2\">آشنایی مقدماتی با پایتون</a></div></font>\n",
    "<div style=\"direction:rtl;line-height:300%;\"><font face=\"XB Nazanin\" size=5>\n",
    "<p></p>\n",
    "    برای آن که با پایتون آشنایی اولیه پیدا کنیم، نیاز است ابتدا با برخی از تعریف‌های اولیه آشنا شویم:\n",
    "    <br>\n",
    "    <img src=\"Pics/keywords.png\" width=\"700\" height=\"700\" alt=\"\" />\n",
    "    برخی از کلمات خاص در زبان پایتون هستند که با آنها در آینده بیشتر آشنا می‌شویم.\n",
    "    <br>\n",
    "    برای مثال کلمه print از جمله این کلمات است که کاربرد آن نمایش هر آنچه درون آن نوشته شده است می‌باشد.\n",
    "</font>\n",
    "</div>"
   ]
  },
  {
   "cell_type": "code",
   "execution_count": 2,
   "metadata": {},
   "outputs": [
    {
     "name": "stdout",
     "output_type": "stream",
     "text": [
      "به کلاس پایتون خوش آمدید\n"
     ]
    }
   ],
   "source": [
    "print(\"به کلاس پایتون خوش آمدید\")"
   ]
  },
  {
   "cell_type": "code",
   "execution_count": 5,
   "metadata": {},
   "outputs": [
    {
     "name": "stdout",
     "output_type": "stream",
     "text": [
      "مقدار شما میتواند عدد باشد: \n",
      "123\n",
      "-5\n",
      "3.14\n"
     ]
    }
   ],
   "source": [
    "print(\"مقدار شما میتواند عدد باشد: \")\n",
    "print(123)\n",
    "print(-5)\n",
    "print(3.14)"
   ]
  },
  {
   "cell_type": "code",
   "execution_count": 6,
   "metadata": {},
   "outputs": [
    {
     "name": "stdout",
     "output_type": "stream",
     "text": [
      "شما میتوانید ابتدا عدد را به عنوان متغیر تعریف کنید و سپس آن را چاپ کنید\n",
      "12\n"
     ]
    }
   ],
   "source": [
    "print(\"شما میتوانید ابتدا عدد را به عنوان متغیر تعریف کنید و سپس آن را چاپ کنید\")\n",
    "a = 12\n",
    "print(a)"
   ]
  },
  {
   "cell_type": "markdown",
   "metadata": {},
   "source": [
    "<div dir=\"rtl\" style=\"line-height:300%;\"><font face=\"XB Nazanin\" size=5>\n",
    "در واقع تابع \n",
    "    <code>print()</code> \n",
    "        برای خروجی در پایتون استفاده می‌شود.\n",
    "<br>\n",
    "    برای گرفتن ورودی از کاربر برنامه از کلمه \n",
    "    <code>input</code>\n",
    "    همانند نمونه زیر استفاده می‌شود:\n",
    "</font></div>"
   ]
  },
  {
   "cell_type": "code",
   "execution_count": 7,
   "metadata": {},
   "outputs": [
    {
     "name": "stdout",
     "output_type": "stream",
     "text": [
      "12\n"
     ]
    },
    {
     "data": {
      "text/plain": [
       "'12'"
      ]
     },
     "execution_count": 7,
     "metadata": {},
     "output_type": "execute_result"
    }
   ],
   "source": [
    "input()"
   ]
  },
  {
   "cell_type": "markdown",
   "metadata": {},
   "source": [
    "<div dir=\"rtl\" style=\"line-height:300%;\"><font face=\"XB Nazanin\" size=5>\n",
    "برای نگهداری مقدار ورودی آن را در یک متغیر ذخیره می‌کنیم. در این حالت بعدا میتوانید از آن استفاده کنید.\n",
    "    <br>\n",
    "     برای درک بهتر مثال جمع دو عدد را در نظر بگیرید. آن را به صورت زیر پیاده سازی می‌کنیم:\n",
    "</font></div>"
   ]
  },
  {
   "cell_type": "code",
   "execution_count": 8,
   "metadata": {},
   "outputs": [
    {
     "name": "stdout",
     "output_type": "stream",
     "text": [
      "2\n",
      "عدد دوم را وارد کنید 3\n",
      "23\n"
     ]
    }
   ],
   "source": [
    "number1 = input()\n",
    "number2 = input('عدد دوم را وارد کنید ')\n",
    "sum_of_2_numbers = number1+number2\n",
    "print(sum_of_2_numbers)"
   ]
  },
  {
   "cell_type": "markdown",
   "metadata": {},
   "source": [
    "<div dir=\"rtl\" style=\"line-height:300%;\"><font face=\"XB Nazanin\" size=5>\n",
    "با آن که راه حل ما درست به نظر می‌رسد اما جواب ما درست نیست. دلیل آن این است که ورودی ها در پایتون به صورت رشته هستند.\n",
    "    <br>\n",
    "    اما رشته چیست؟\n",
    "    <br>\n",
    "    تمام مقادیر در پایتون به شکلی تعریف می‌شوند. انواع متغیرها شامل رشته، اعداد(عدد صحیح، عدد اعشار و عدد مختلط) و انواع دیگری از مقادیر مانند لیست، دیکشنری و ... هستند.\n",
    "    <br>\n",
    "    با توجه به توضیحات برای آن که یک مقدار را به نوع دیگری از مقدار تبدیل کنیم نیاز به کَست کردن یا تبدیل یک نوع به نوع دیگر داریم.\n",
    "</font></div>"
   ]
  },
  {
   "cell_type": "code",
   "execution_count": 14,
   "metadata": {},
   "outputs": [
    {
     "name": "stdout",
     "output_type": "stream",
     "text": [
      "enter first number: 2\n",
      "enter second number: 3\n",
      "The sum is  5\n"
     ]
    }
   ],
   "source": [
    "number1 = input(\"enter first number: \")\n",
    "number2 = input('enter second number: ')\n",
    "n1 = int(number1)\n",
    "n2 = int(number2)\n",
    "sum_of_2_numbers = n1+n2\n",
    "print(\"The sum is \",sum_of_2_numbers)"
   ]
  },
  {
   "cell_type": "markdown",
   "metadata": {},
   "source": [
    "<font color=#C31330>\n",
    "<a  href=\"#section2menu\">بازگشت به فهرست</a>\n",
    "</font>"
   ]
  },
  {
   "cell_type": "markdown",
   "metadata": {},
   "source": [
    "<div dir=\"rtl\" style=\"line-height:300%;\"><font face=\"XB Nazanin\" size=5>\n",
    "    <font color=135FC3 size=6>\n",
    "<p></p>\n",
    "<div align=center><a  name=\"section3\" href=\"#menu\">فصل 3: متغیر، عبارت (Expression) و دستور (Statement)، اولین برنامه</a></div>\n",
    "</font>\n",
    "<font color=#C31330>\n",
    "مقدمه\n",
    "</font><p></p>\n",
    "در فصل گذشته با تعدادی از متغیرها آشنا شدیم. در این فصل مثال‌های بیشتری از آنها می‌بینیم. سپس عبارات بیشتر و دستورهای بیشتری را مرور کرده و برنامه های ساده‌ای را می‌نویسیم.<br>\n",
    "<a  name=\"section3menu\">فهرست این فصل:</a>\n",
    "<ol>\n",
    " <li><a  href=\"#sub1sec3\">انواع متغیر</a></li>\n",
    " <li><a  href=\"#sub2sec3\">عبارت و دستور</a></li>\n",
    " <li><a  href=\"#sub3sec3\">برنامه‌های ساده</a></li>\n",
    "</ol>\n",
    "</font>\n",
    "<br>\n",
    "<font color=#C31330>\n",
    "<a  href=\"#menu\">بازگشت به فهرست اصلی</a>\n",
    "</font></div>"
   ]
  },
  {
   "cell_type": "markdown",
   "metadata": {},
   "source": [
    "<font color=#C31330 size=5>\n",
    "<p></p>\n",
    "<div align=center><a name=\"sub1sec3\">انواع متغیر</a></div></font>\n",
    "<div style=\"direction:rtl;line-height:300%;\"><font face=\"XB Nazanin\" size=5>\n",
    "<p></p>\n",
    "    همان طور که در فصل گذشته به آن اشاره شد، انواع متغیرها در پایتون شامل اعداد، رشته ها، لیست، تاپل و دیکشنری است. برخلاف برخی دیگر از زبان‌های برنامه نویسی مانند cو java ، در پایتون نیاز به مشخص کردن نوع متغیر هنگام تعریف آن نیست. بسته به مقداری که برای متغیر تعیین می‌شود، نوع متغیر برای زبان پایتون مشخص می‌شود.\n",
    "    بنابراین در صورتی که به متغیر به طور مثال a مقدار 2 تعریف شود، پایتون نوع آن را \n",
    "    <code>int</code>\n",
    "    در نظر می‌گیرد که عدد صحیح است.\n",
    "    اگر برای آن مقدار 2.1 در نظر گرفته شود، متغیر a به عنوان \n",
    "    <code>float</code>\n",
    "    در نظر گرفته می‌شود که به معنای اعداد اعشاری است.\n",
    "    اگر به آن مقدار '2' داده شود، آن را به عنوان یک رشته در نظر می‌گیرد.\n",
    "    <br>\n",
    "    به مثال های زیر در مورد انواع متغیر ها توجه کنید:\n",
    "</font>\n",
    "</div>"
   ]
  },
  {
   "cell_type": "code",
   "execution_count": 15,
   "metadata": {},
   "outputs": [
    {
     "data": {
      "text/plain": [
       "int"
      ]
     },
     "execution_count": 15,
     "metadata": {},
     "output_type": "execute_result"
    }
   ],
   "source": [
    "a = 2\n",
    "type(a) # عدد صحیح"
   ]
  },
  {
   "cell_type": "code",
   "execution_count": 16,
   "metadata": {},
   "outputs": [
    {
     "data": {
      "text/plain": [
       "float"
      ]
     },
     "execution_count": 16,
     "metadata": {},
     "output_type": "execute_result"
    }
   ],
   "source": [
    "a = 2.0\n",
    "type(a) # عدد اعشار"
   ]
  },
  {
   "cell_type": "code",
   "execution_count": 17,
   "metadata": {},
   "outputs": [
    {
     "data": {
      "text/plain": [
       "str"
      ]
     },
     "execution_count": 17,
     "metadata": {},
     "output_type": "execute_result"
    }
   ],
   "source": [
    "a = '2'\n",
    "type(a) # رشته"
   ]
  },
  {
   "cell_type": "markdown",
   "metadata": {},
   "source": [
    "<div dir=\"rtl\" style=\"line-height:300%;\"><font face=\"XB Nazanin\" size=5>\n",
    "<p></p>\n",
    "    همان طور که مشاهده می‌کنید، متغیری به نام a سه مقدار متفاوت گرفته و با هر بار تعلق متغیر به آن، نوع آن نیز تغییر کرده است.\n",
    "    بنابراین اگر در حین برنامه مقدار یک متغیر را تغییر بدهید دیگر نمی‌توانید به عملکرد سابق آن بازگردید.\n",
    "    <br>\n",
    "    <font color=#C31330>\n",
    "    به همین دلیل از استفاده از کلمات کلیدی به عنوان نام متغیر خودداری کنید.\n",
    "    </font>\n",
    "    زیرا این کار باعث می‌شود این نام‌ها کارایی خود را از دست بدهند.\n",
    "    <br>\n",
    "    همچنین کلمه \n",
    "    <code>type</code>\n",
    "    که یکی از کلمات کلیدی هستند برای تشخیص نوع یک متغیر یا به طور کلی یک نام مورد استفاده قرار می‌گیرد.\n",
    "    <code>type</code>\n",
    "    می‌تواند انواع دیگری مانند توابع، کلاس‌ها و ... را نیز تشخیص بدهد.\n",
    "    <br>\n",
    "    <br>\n",
    "    در برخی از توابع از پیش تعیین شده مانند <code>print</code> می‌توانید بیش از یک مقدار قرار دهید:\n",
    "</font>\n",
    "</div>"
   ]
  },
  {
   "cell_type": "code",
   "execution_count": 23,
   "metadata": {},
   "outputs": [
    {
     "name": "stdout",
     "output_type": "stream",
     "text": [
      "a string 123\n",
      "a is a string and b is 123\n"
     ]
    }
   ],
   "source": [
    "a = \"a string\"\n",
    "b = 123\n",
    "print(a,b)\n",
    "print('a is',a , 'and b is', b)"
   ]
  },
  {
   "cell_type": "markdown",
   "metadata": {},
   "source": [
    "<div style=\"direction:rtl;line-height:300%;\"><font face=\"XB Nazanin\" size=5>\n",
    "<p></p>\n",
    "    همچنین امکان کَست دو مقدار به هم (در صورت امکان تبدیل دو مثدار به هم) را نیز داریم. به این معنا که اگر عددی در غالب رشته باشد توانایی تبدیل آن به عدد را داریم.\n",
    "    یا میتوانیم در صورت نیاز عددی را به رشته تبدیل کنیم. \n",
    "    <br>\n",
    "    همچنین در برخی موارد پیش می‌آید که نیاز داریم در یک عدد اعشار تنها از قسمت صحیح آن استفاده کنیم. این کار هم با استفاده از کَست قابل انجام است:\n",
    "</font>\n",
    "</div>"
   ]
  },
  {
   "cell_type": "code",
   "execution_count": 34,
   "metadata": {},
   "outputs": [
    {
     "name": "stdout",
     "output_type": "stream",
     "text": [
      "2.3 before casting <class 'str'>\n",
      "2.3 after casting <class 'float'>\n"
     ]
    }
   ],
   "source": [
    "a = '2.3'\n",
    "print(a,'before casting',type(a))\n",
    "a = float(a)\n",
    "print(a,'after casting',type(a))"
   ]
  },
  {
   "cell_type": "code",
   "execution_count": 37,
   "metadata": {},
   "outputs": [
    {
     "name": "stdout",
     "output_type": "stream",
     "text": [
      "3.14 before casting <class 'float'>\n",
      "3.14 after casting <class 'str'>\n",
      "3.14 after casting again <class 'float'>\n",
      "3 after casting again from float to int <class 'int'>\n"
     ]
    }
   ],
   "source": [
    "a = 3.14\n",
    "print(a,'before casting',type(a))\n",
    "a = str(a)\n",
    "print(a,'after casting',type(a))\n",
    "a = float(a)\n",
    "print(a,'after casting again',type(a))\n",
    "a = int(a)\n",
    "print(a,'after casting again from float to int',type(a))"
   ]
  },
  {
   "cell_type": "markdown",
   "metadata": {},
   "source": [
    "<div dir=\"rtl\" style=\"line-height:300%;\"><font face=\"XB Nazanin\" size=5>\n",
    "<p></p>\n",
    "     به خاطر داشته باشید برخی از توابع در حالت عادی خروجی چاپی ندارند مانند <code>type</code>، به این معنا که اگر چند مورد از این توابع را پشت هم صدا کنید تنها آخرین عمل شما نمایش داده می‌شود.\n",
    "    نمایش آخرین مقدار هم تنها به دلیل استفاده شما از ژوپیتر است زیرا ژوپیتر این امکان را به شما می‌دهد که خروجی یک تابع را بدون استفاده از تابع \n",
    "    <code>print</code>\n",
    "    ببینید.\n",
    "    بنابراین برای مشاهده تمام خروجی‌ها حتما از <code>print</code> استفاده کنید.\n",
    "    <br>\n",
    "</font>\n",
    "</div>"
   ]
  },
  {
   "cell_type": "code",
   "execution_count": 24,
   "metadata": {},
   "outputs": [
    {
     "data": {
      "text/plain": [
       "int"
      ]
     },
     "execution_count": 24,
     "metadata": {},
     "output_type": "execute_result"
    }
   ],
   "source": [
    "a = \"a string\"\n",
    "b = 123\n",
    "type(a)\n",
    "type(b)"
   ]
  },
  {
   "cell_type": "code",
   "execution_count": 26,
   "metadata": {},
   "outputs": [
    {
     "name": "stdout",
     "output_type": "stream",
     "text": [
      "a's type is <class 'str'>\n",
      "b's type is <class 'int'>\n"
     ]
    }
   ],
   "source": [
    "print(\"a's type is\",type(a))\n",
    "print(\"b's type is\", type(b))"
   ]
  },
  {
   "cell_type": "markdown",
   "metadata": {},
   "source": [
    "<div dir=\"rtl\" style=\"line-height:300%;\"><font face=\"XB Nazanin\" size=5>\n",
    "<p></p>\n",
    "    انواع دیگری از متغیرها که بعدا با آنها بیشتر آشنا می‌شوید به صورت زیر هستند:    \n",
    "</font>\n",
    "</div>"
   ]
  },
  {
   "cell_type": "code",
   "execution_count": 38,
   "metadata": {},
   "outputs": [
    {
     "name": "stdout",
     "output_type": "stream",
     "text": [
      "True <class 'bool'>\n"
     ]
    }
   ],
   "source": [
    "b = True #  بولین که دو مقدار درست و غلط را به خود میگیرد\n",
    "print(b, type(b))"
   ]
  },
  {
   "cell_type": "code",
   "execution_count": 30,
   "metadata": {},
   "outputs": [
    {
     "name": "stdout",
     "output_type": "stream",
     "text": [
      "[1, 2, 3, 4] <class 'list'>\n"
     ]
    }
   ],
   "source": [
    "l = [1,2,3,4] #لیست\n",
    "print(l, type(l))"
   ]
  },
  {
   "cell_type": "code",
   "execution_count": 29,
   "metadata": {},
   "outputs": [
    {
     "name": "stdout",
     "output_type": "stream",
     "text": [
      "(1, 2, 3, 4) <class 'tuple'>\n"
     ]
    }
   ],
   "source": [
    "t = (1,2,3,4) # تاپل\n",
    "print(t, type(t))"
   ]
  },
  {
   "cell_type": "code",
   "execution_count": 31,
   "metadata": {},
   "outputs": [
    {
     "name": "stdout",
     "output_type": "stream",
     "text": [
      "{1, 2, 3, 4, 5} <class 'set'>\n"
     ]
    }
   ],
   "source": [
    "st = {1,2,2,3,4,5} # مجموعه\n",
    "print(st, type(st))"
   ]
  },
  {
   "cell_type": "code",
   "execution_count": 32,
   "metadata": {},
   "outputs": [
    {
     "name": "stdout",
     "output_type": "stream",
     "text": [
      "{'key1': 1, 'key2': 2} <class 'dict'>\n"
     ]
    }
   ],
   "source": [
    "d = {'key1':1, 'key2':2} # دیکشنری\n",
    "print(d, type(d))"
   ]
  },
  {
   "cell_type": "markdown",
   "metadata": {},
   "source": [
    "<font color=#C31330>\n",
    "<a  href=\"#section3menu\">بازگشت به فهرست</a>\n",
    "</font>"
   ]
  },
  {
   "cell_type": "markdown",
   "metadata": {},
   "source": [
    "<font face=\"XB Nazanin\" color=#C31330 size=5>\n",
    "<p></p>\n",
    "<div dir=\"rtl\" align=center><a name=\"sub2sec3\">عبارت و دستور</a></div></font>\n",
    "<div dir=\"rtl\" style=\"line-height:300%;\"><font face=\"XB Nazanin\" size=5>\n",
    "<p></p>\n",
    "    در پایتون و تمامی زبان‌های برنامه نویسی دیگر، برای نوشتن یک کد نیاز به مجموعه ای از عبارات و دستورات دارید. هر خطی از کد که نوشته می‌شود مجموعه‌ای از دستورات و عبارات است.\n",
    "    برای مثال کلمه <code>print</code> یک دستور و مقادیری که درون پرانتز آن قرار می‌گیرند عبارت است.\n",
    "    <br>\n",
    "    تمامی کلمات کلیدی نوعی دستور هستند. برای مثال کلمه بررسی شرط یا \n",
    "    <code>if</code>\n",
    "    یک نوع دستور است که مسئولیت آن بررسی درستی عبارتی است که درون آن قرار می‌گیرد.\n",
    "    برخی از عبارات را در ادامه با هم می‌بینیم:\n",
    "</font>\n",
    "</div>"
   ]
  },
  {
   "cell_type": "code",
   "execution_count": 39,
   "metadata": {},
   "outputs": [
    {
     "data": {
      "text/plain": [
       "False"
      ]
     },
     "execution_count": 39,
     "metadata": {},
     "output_type": "execute_result"
    }
   ],
   "source": [
    "1>2"
   ]
  },
  {
   "cell_type": "code",
   "execution_count": 41,
   "metadata": {},
   "outputs": [
    {
     "data": {
      "text/plain": [
       "True"
      ]
     },
     "execution_count": 41,
     "metadata": {},
     "output_type": "execute_result"
    }
   ],
   "source": [
    "1<2"
   ]
  },
  {
   "cell_type": "code",
   "execution_count": 40,
   "metadata": {},
   "outputs": [
    {
     "data": {
      "text/plain": [
       "True"
      ]
     },
     "execution_count": 40,
     "metadata": {},
     "output_type": "execute_result"
    }
   ],
   "source": [
    "1==1"
   ]
  },
  {
   "cell_type": "code",
   "execution_count": 42,
   "metadata": {},
   "outputs": [
    {
     "data": {
      "text/plain": [
       "True"
      ]
     },
     "execution_count": 42,
     "metadata": {},
     "output_type": "execute_result"
    }
   ],
   "source": [
    "2<=2"
   ]
  },
  {
   "cell_type": "code",
   "execution_count": 43,
   "metadata": {},
   "outputs": [
    {
     "data": {
      "text/plain": [
       "False"
      ]
     },
     "execution_count": 43,
     "metadata": {},
     "output_type": "execute_result"
    }
   ],
   "source": [
    "2<2"
   ]
  },
  {
   "cell_type": "markdown",
   "metadata": {},
   "source": [
    "<div dir=\"rtl\" style=\"line-height:300%;\"><font face=\"XB Nazanin\" size=5>\n",
    "<p></p>\n",
    "    برخی عبارات بسیار ساده هستند. برای مثال عملیاتی مانند + و یا - برخی از عملگرهای ساده‌ای هستند که کار مشخص خود را انجام می‌دهند. \n",
    "    <br>\n",
    "    <code>*</code> عملگرمربوط به ضرب دو مقدار\n",
    "    <br>\n",
    "    <code>/</code> عملگر مربوط به تقسیم\n",
    "    <br>\n",
    "    <code>**</code> عملگر مربوط به توان\n",
    "    <br>\n",
    "    <code>%</code> باقی مانده عدد اول نسبت به عدد دوم را نشان میدهد\n",
    "    <br>\n",
    "    <code>//</code> خارج قسمت عدد اول نسبت به عدد دوم را نشان میدهد\n",
    "    <br>\n",
    "    <br>\n",
    "    همچنین عملگرهای دیگری هم هستند که برای بررسی صحیح یا غلط بودنِ وضعیت دو مقدار نسبت به هم از آنها استفاده می‌شود. برای مثال:\n",
    "    <br>\n",
    "    <code>==</code> آیا دو مقدار با هم برابرند\n",
    "    <br>\n",
    "    <code>=!</code> آیا دو مقدار با هم برابر نیستند\n",
    "    <br>\n",
    "    <code>&lt;</code> آیا مقدار اول بزرگتر از مقدار دوم است\n",
    "    <br>\n",
    "    <code>&gt;</code> آیا مقدار اول کوچکتر از مقدار دوم است\n",
    "    <br>\n",
    "    <code>=&lt;</code> آیا مقدار اول بزرگتر مساوی از مقدار دوم است\n",
    "    <br>\n",
    "    <code>=&gt;</code>   آیا مقدار اول کوچکتر مساوی از مقدار دوم است                \n",
    "<br>\n",
    "<br>\n",
    "    از جمله برخی دستورات ساده می‌توان به دستورات شرطی و دستور حلقه اشاره کرد.\n",
    "    دستور شرطی با عبارت ifشروع می‌شود. همانطور که در انگلیسی نیز از این کلمه استفاده می‌شود، در صورت استفاده از آن به دنبال درستی و یا نا درستی عبارت بعد آن هستیم:\n",
    "    <br>\n",
    "    برای مثال اگر عدد 1 بزرگتر از 2 باشد:\n",
    "    <br>\n",
    "    <div dir=\"ltr\" style=\"line-height:300%;\">\n",
    "    <code>if 1>2:</code>\n",
    "    </div>\n",
    "    <br>\n",
    "    همانطور که مشخص است منتظر یک عبار آنگاه هستیم ...\n",
    "    <br>\n",
    "    به عبارت بعد if عبارت شرطی می‌گویند که در صورت درست بودن آن وارد مرحله بعد در شرط می‌شود که همان عبارت آنگاه است و همچنین اگر عبارت شرطی درست نباشد، از دستورات داخل شرط صرف نظر می‌شود.\n",
    "    <br>\n",
    "     به مرور با این مطالب با مثال‌های متعدد بیشتر آشنا می‌شویم. به مثال‌های زیر توجه کنید:\n",
    "</font>\n",
    "</div>"
   ]
  },
  {
   "cell_type": "code",
   "execution_count": 2,
   "metadata": {},
   "outputs": [
    {
     "name": "stdout",
     "output_type": "stream",
     "text": [
      "a is smaller than b\n"
     ]
    }
   ],
   "source": [
    "a = 1\n",
    "b = 1.1\n",
    "if a>b: #عبارت شرطی درست نیست پس وارد عبارت آنگاه که پرینت است نمیشویم\n",
    "    print('a is bigger than b')\n",
    "if a<b:# عبارت شرطی درست است پس وارد آنگاه میشویم\n",
    "    print('a is smaller than b')\n",
    "    "
   ]
  },
  {
   "cell_type": "markdown",
   "metadata": {},
   "source": [
    "<font color=#C31330 size=4>\n",
    "<a  href=\"#section3menu\">بازگشت به فهرست</a>\n",
    "</font>"
   ]
  },
  {
   "cell_type": "markdown",
   "metadata": {},
   "source": [
    "<font face=\"XB Nazanin\" color=#C31330 size=5>\n",
    "<p></p>\n",
    "<div dir=\"rtl\" align=center><a name=\"sub2sec3\">برنامه‌های ساده</a></div></font>\n",
    "<div dir=\"rtl\" style=\"line-height:300%;\"><font face=\"XB Nazanin\" size=5>\n",
    "<p></p>\n",
    "    با دانستن اطلاعات بالا می‌توانیم برخی از برنامه‌های ساده را نوشته و اجرا کنیم.\n",
    "    <br>\n",
    "</font>\n",
    "</div>"
   ]
  },
  {
   "cell_type": "code",
   "execution_count": 3,
   "metadata": {},
   "outputs": [
    {
     "name": "stdout",
     "output_type": "stream",
     "text": [
      "15.205295600000001\n"
     ]
    }
   ],
   "source": [
    "# محاسبه مساحت دایره\n",
    "pi = 3.14159 # تعریف عدد پی\n",
    "radius = 2.2 # تعریف اندازه شعاع\n",
    "area = pi*(radius**2) # محاسبه مساحت با فرمول مریوطه\n",
    "print(area) # نمایش مقدار مساحت"
   ]
  },
  {
   "cell_type": "code",
   "execution_count": 4,
   "metadata": {},
   "outputs": [
    {
     "name": "stdout",
     "output_type": "stream",
     "text": [
      "15.205295600000001\n",
      "32.169881600000004\n"
     ]
    }
   ],
   "source": [
    "# حال استفاده از مقادیر بالا که از قبل تعیین شده\n",
    "radius = radius + 1 # افزودن 1 به مقدار قبلی\n",
    "print(area)     # در حال حاضر مقدار مساحت تغییری نکرده است\n",
    "area = pi*(radius**2) # مساحت را دوباره حساب میکنیم \n",
    "print(area) # حال مساحت تغییر میکند"
   ]
  },
  {
   "cell_type": "code",
   "execution_count": 1,
   "metadata": {},
   "outputs": [
    {
     "name": "stdout",
     "output_type": "stream",
     "text": [
      "Enter value of x: 10\n",
      "Enter value of y: 5\n",
      "The value of x after swapping: 5\n",
      "The value of y after swapping: 10\n"
     ]
    }
   ],
   "source": [
    "#  جا به جایی دو متغیر با هم\n",
    "x = input('Enter value of x: ')\n",
    "y = input('Enter value of y: ')\n",
    "temp = x\n",
    "x = y\n",
    "y = temp\n",
    "\n",
    "print('The value of x after swapping: {}'.format(x)) # نوعی دیگر از روش های پرینت کردن\n",
    "print('The value of y after swapping: {}'.format(y))"
   ]
  },
  {
   "cell_type": "code",
   "execution_count": 2,
   "metadata": {},
   "outputs": [
    {
     "name": "stdout",
     "output_type": "stream",
     "text": [
      "x = 10\n",
      "y = 5\n"
     ]
    }
   ],
   "source": [
    "# نوعی دیگر از جا به جایی دو متغیر با هم\n",
    "x = 5\n",
    "y = 10\n",
    "\n",
    "x, y = y, x\n",
    "print(\"x =\", x)\n",
    "print(\"y =\", y)"
   ]
  },
  {
   "cell_type": "markdown",
   "metadata": {},
   "source": [
    "<font color=#C31330 size=4>\n",
    "<a  href=\"#menu\">بازگشت به فهرست اصلی</a>\n",
    "</font>"
   ]
  },
  {
   "cell_type": "markdown",
   "metadata": {},
   "source": [
    "<div dir=\"rtl\" style=\"line-height:300%;\"><font face=\"XB Nazanin\" size=5>\n",
    "    <font color=135FC3 size=6>\n",
    "<p></p>\n",
    "<div align=center><a  name=\"section4\" href=\"#menu\">فصل 4: ساختار کنترل شرطی if چند نمونه برنامه</a></div>\n",
    "</font>\n",
    "<font color=#C31330>\n",
    "مقدمه\n",
    "</font><p></p>\n",
    "    در فصل گذشته با شرط کمی آشنا شدیم. در این فصل آن را به دقت مورد بررسی قرار می‌دهیم و با چند نمونه برنامه با استفاده از if پیاده‌سازی می‌کنیم.<br>\n",
    "    ابتدا از تعاریف اولیه عبارات شرطی شروع می‌کنیم و سپس به سراغ نمونه‌های ساده تا پیشرفته از عبارات شرطی می‌رویم.<br>\n",
    "    همانطور که در فصل گذشته خواندیم، در if یک شرط قرار داده می‌شود. اگر این شرط برقرار باشد و جواب درست بدهد وارد شرط می‌شویم و کد آن را اجرا می‌کنیم.\n",
    "    اگر این شرط برقرار نباشد از کدهای داخل شرط if رد می‌شویم و آنها را نادیده می‌گیریم.\n",
    "    درک بهتری از این توصیفات در تصویر زیر قابل مشاهده است:\n",
    "    <br>\n",
    "    <img src=\"Pics/ifclause.png\" width=\"700\" height=\"700\" alt=\"\" />\n",
    "    <br>\n",
    "    به چند مثال ساده زیر توجه کنید:\n",
    "</font>\n",
    "</div>"
   ]
  },
  {
   "cell_type": "code",
   "execution_count": 3,
   "metadata": {},
   "outputs": [
    {
     "name": "stdout",
     "output_type": "stream",
     "text": [
      "یک اتفاق همیشگی\n"
     ]
    }
   ],
   "source": [
    "if 1>2:\n",
    "    print('یک محال')\n",
    "if 2>1:\n",
    "    print('یک اتفاق همیشگی')"
   ]
  },
  {
   "cell_type": "code",
   "execution_count": 4,
   "metadata": {},
   "outputs": [
    {
     "name": "stdout",
     "output_type": "stream",
     "text": [
      "Your name is Niloofar\n"
     ]
    }
   ],
   "source": [
    "name = 'Niloofar'\n",
    "if name=='Niloofar': # بررسی برابری عبارت با استفاده از دو مساوی\n",
    "    print('Your name is Niloofar')\n",
    "else: # در صورتی که عبارت شرطی برقرار نباشد وارد این قسمت میشود\n",
    "    print('Your name in not Niloofar but '+name)# نوعی دیگر از چاپ"
   ]
  },
  {
   "cell_type": "markdown",
   "metadata": {},
   "source": [
    "<div style=\"direction:rtl;line-height:300%;\"><font face=\"XB Nazanin\" size=5>\n",
    "<p></p>\n",
    "    در نمونه بالا عبارتی جدید مشاهده می‌کنید.\n",
    "    در کل دستور if با دو عبارت elif و else همراه است.\n",
    "    دستور elif به معنای \"اگرنه\" است و در صورتی بررسی می‌شود که عبارت شرطی قبلی درست نباشد.\n",
    "    دستور else نیز حالتی است که هیچ یک از دستورات شرطی قبلی بر قرار نباشند و در نهایت به این دستور می‌رسیم. بنابراین بدون هیچ شرطی وارد این دستور می‌شود.\n",
    "    <br>\n",
    "    <font color='C31330'>\n",
    "    به خاطر داشته باشید که این دو دستور همیشه به دنبال دستور if می‌آیند و بدون آن بی معنی هستند.\n",
    "    </font><br>\n",
    "    به مثال‌های زیر توجه کنید:\n",
    "</font>\n",
    "</div>"
   ]
  },
  {
   "cell_type": "code",
   "execution_count": 7,
   "metadata": {},
   "outputs": [
    {
     "name": "stdout",
     "output_type": "stream",
     "text": [
      "Enter a number: 0\n",
      "Your number is 0\n"
     ]
    }
   ],
   "source": [
    "n = input('Enter a number: ') #به خاطر داشته باشید عددی که وارد میکنید به صورت رشته است و باید به عدد تبدیل شود\n",
    "n = int(n)\n",
    "if n>0:\n",
    "    print('Your number is positive')\n",
    "elif n<0:\n",
    "    print('Your number is negative')\n",
    "else:\n",
    "    print('Your number is 0')\n"
   ]
  },
  {
   "cell_type": "markdown",
   "metadata": {},
   "source": [
    "<div style=\"direction:rtl;line-height:300%;\"><font face=\"XB Nazanin\" size=5>\n",
    "<p></p>\n",
    "    در مثال بالا در صورتی که عدد مثبت وارد کنید، عبارت داخل if اجرا می‌شود و دیگر دستورات بعدی که elif و else هستند خوانده نمی‌شوند.\n",
    "    اگر عدد وارد شده منفی باشد، دستور if بررسی می‌شود و چون برقرار نیست بدون وارد شدن به کد داخل آن به بررسی دستور بعدی می‌رود.\n",
    "    از آنجایی که عدد منفی است و این شرط برقرار می‌شود برنامه های داخل آن خوانده می‌شوند و از دستورات شرطی بعدی صرف نظر می‌شود.\n",
    "    در صورتی که عدد وارد شده صفر باشد، دستور if بررسی می‌شود سپس دستور elif بررسی می‌شود و در آخر بدون هیچ بررسی اضافه‌ای وارد else می‌شود و دستورات آن را اجرا می‌کند.\n",
    "    <br>\n",
    "    حال یک بازی میسازیم.\n",
    "    در این بازی یک عدد به طور تصادفی توسط کامپیوتر بین 1 تا 10 انتخاب می‌شود. سپس از شما خواسته می‌شود که عدد را حدس بزنید.\n",
    "    در نهایت حدس شما با حدس برنامه مقایسه می‌شود و نتیجه به شما اعلام می‌شود.\n",
    "</font>\n",
    "</div>"
   ]
  },
  {
   "cell_type": "code",
   "execution_count": 28,
   "metadata": {},
   "outputs": [
    {
     "name": "stdout",
     "output_type": "stream",
     "text": [
      "Enter your guess: 2\n",
      "حدس شما کمتر از عدد بود\n",
      "The number was  8\n"
     ]
    }
   ],
   "source": [
    "### این قسمت مربوط به حدس است و فعلا نیازی به یادگیری آن نیست ####\n",
    "from numpy.random import randint\n",
    "n = randint(1,11)\n",
    "################################################################\n",
    "guess = int(input('Enter your guess: ')) # عدد حدسی خود را وارد میکنید. این عدد همینجا تبدیل به اینت میشود\n",
    "\n",
    "if guess==n:\n",
    "    print('حدس شما درست بود')\n",
    "elif guess<1 or guess>10:\n",
    "    print('شما بین 1 تا 10 حدس نزدید')\n",
    "elif guess>n:\n",
    "    print('حدس شما بیشتر از عدد بود')\n",
    "else:\n",
    "    print('حدس شما کمتر از عدد بود')\n",
    "    \n",
    "print('The number was',n)"
   ]
  },
  {
   "cell_type": "markdown",
   "metadata": {},
   "source": [
    "<div style=\"direction:rtl;line-height:300%;\"><font face=\"XB Nazanin\" size=5>\n",
    "<p></p>\n",
    "    با استفاده از شرط‌های تو در تو می‌توان حالت های بیشتری را بررسی کرد.\n",
    "    <br>\n",
    "    شرط‌های تو در تو را می‌توان به طورت زیر پیاده‌سازی کرد:\n",
    "</font>\n",
    "</div>"
   ]
  },
  {
   "cell_type": "code",
   "execution_count": 2,
   "metadata": {},
   "outputs": [
    {
     "name": "stdout",
     "output_type": "stream",
     "text": [
      "Enter your guess: 5\n",
      "حدس شما کمتر از عدد بود\n",
      "یک عدد دیگر بین 5 و 10 انتخاب کنید\n",
      "Enter your new guess: 9\n",
      "حدس شما بیشتر از عدد بود\n",
      "The number was 7\n"
     ]
    }
   ],
   "source": [
    "### این قسمت مربوط به حدس است و فعلا نیازی به یادگیری آن نیست ####\n",
    "from numpy.random import randint\n",
    "n = randint(1,11)\n",
    "################################################################\n",
    "guess = int(input('Enter your guess: ')) # عدد حدسی خود را وارد میکنید. این عدد همینجا تبدیل به اینت میشود\n",
    "\n",
    "if guess==n:\n",
    "    print('حدس شما درست بود')\n",
    "elif guess<1 or guess>10:\n",
    "    print('شما بین 1 تا 10 حدس نزدید')\n",
    "elif guess>n:\n",
    "    print('حدس شما بیشتر از عدد بود')\n",
    "    print(\"یک عدد دیگر بین 1 و  \"+str(guess)+\" انتخاب کنید\")\n",
    "    newguess = int(input('Enter your new guess: '))\n",
    "    if guess==n:\n",
    "        print('حدس شما درست بود')\n",
    "    elif newguess<1 or newguess>10:\n",
    "        print('شما بین 1 تا 10 حدس نزدید')\n",
    "    elif newguess>n:\n",
    "        print('حدس شما بیشتر از عدد بود')\n",
    "    else:\n",
    "        print('حدس شما کمتر از عدد بود')\n",
    "else:\n",
    "    print('حدس شما کمتر از عدد بود')\n",
    "    print(\"یک عدد دیگر بین \"+str(guess)+\" و 10 انتخاب کنید\")\n",
    "    newguess = int(input('Enter your new guess: '))\n",
    "    if guess==n:\n",
    "        print('حدس شما درست بود')\n",
    "    elif newguess<1 or newguess>10:\n",
    "        print('شما بین 1 تا 10 حدس نزدید')\n",
    "    elif newguess>n:\n",
    "        print('حدس شما بیشتر از عدد بود')\n",
    "    else:\n",
    "        print('حدس شما کمتر از عدد بود')\n",
    "    \n",
    "print('The number was',n)"
   ]
  },
  {
   "cell_type": "markdown",
   "metadata": {},
   "source": [
    "<div dir=\"rtl\" style=\"line-height:300%;\"><font face=\"XB Nazanin\" size=5>\n",
    "<p></p>\n",
    "    در مثال بالا در نگاه اول یک پیچیدگی در کد میبینیم. اما در صورت دقت بیشتر به میبینیم که در هر یک از شرایط بالا بار دیگر از همان روند حدسی استفاده شده است و به این صورت برای بار دیگر عدد حدسی بررسی می‌شود و نتیجه را به بیننده اعلام می‌کند.\n",
    "</font>\n",
    "    <br>\n",
    "<font color=#C31330 size=4>\n",
    "<a  href=\"#menu\">بازگشت به فهرست اصلی</a>\n",
    "</font>\n",
    "</div>"
   ]
  },
  {
   "cell_type": "markdown",
   "metadata": {},
   "source": [
    "<div dir=\"rtl\" style=\"line-height:300%;\"><font face=\"XB Nazanin\" size=5>\n",
    "    <font color=135FC3 size=6>\n",
    "<p></p>\n",
    "<div align=center><a  name=\"section5\" href=\"#menu\">فصل 5: ساختار کنترل حلقه while, for و چند نمونه برنامه</a></div>\n",
    "</font>\n",
    "<font color=#C31330>\n",
    "مقدمه\n",
    "</font><p></p>\n",
    "    در فصل قبل در مورد عبارت های شرطی صحبت کردیم و یک بازی نوشتیم که در آن باید یک عدد را که توسط کامپیوتر انتخاب شده بود را حدس می‌زدیم.\n",
    "    پیش بردن این برنامه تنها با عبارت های شرطی بسیار زمانبر است. برای آنکه بتوانیم با شیوه بهتری کد بنویسیم نیازمند حلقه‌ها نیز هستیم.\n",
    "    <br>\n",
    "    حلقه‌ها در پیاده سازی برنامه‌ها به شدت به کمک برنامه نویس می‌آیند. یکی از استفاده‌های آنها(همانطور که گفته شد) در پیاده‌سازی برنامه‌هایی است که نیازمند تکرار یک سری کد هستند.\n",
    "    <br>\n",
    "    برای مثال فرض کنید می‌خواهید اعداد 1 تا 10 را به ترتیب چاپ کنید و یا یک دنباله را پیاده‌سازی کنید و یا کارهایی از این دست؛ در این حالت‌ها نیازمند استفاده از حلقه‌ها هستید.\n",
    "    <br>\n",
    "    برای نوشتن حلقه در پایتون می‌توان از دو مدل \n",
    "    <code>for</code>\n",
    "    و\n",
    "    <code>while</code>\n",
    "    استفاده کرد.\n",
    "    هر یک از این حلقه‌ها، ویژگی مربوط به خود را دارند و بنا به این ویژگی و کاری که می‌خواهید در آن از این دو استفاده کنید می‌توانند گزینه بهتری برای کد شما باشند.\n",
    "    در این فصل با هر دوی این نمونه‌ها آشنا می‌شویم.\n",
    "    <br>\n",
    "    <br>\n",
    "    حال با هم دو نمونه ساده از یک برنامه ساده جهت چاپ اعداد از 0 تا 9 را می‌بینیم و آنها را به دقت و ریز به ریز بررسی می‌کنیم:\n",
    "</font>\n",
    "</div>"
   ]
  },
  {
   "cell_type": "code",
   "execution_count": 1,
   "metadata": {},
   "outputs": [
    {
     "name": "stdout",
     "output_type": "stream",
     "text": [
      "0\n",
      "1\n",
      "2\n",
      "3\n",
      "4\n",
      "5\n",
      "6\n",
      "7\n",
      "8\n",
      "9\n"
     ]
    }
   ],
   "source": [
    "for i in range(10):\n",
    "    print(i)"
   ]
  },
  {
   "cell_type": "markdown",
   "metadata": {},
   "source": [
    "<div dir=\"rtl\" style=\"line-height:300%;\"><font face=\"XB Nazanin\" size=5>\n",
    "<p></p>\n",
    "در این کد بالا برای نوشتن اعداد از 0 تا 9 تنها از 2 خط کد استفاده شده است.\n",
    "در خط اول عبارت\n",
    "<code>for</code>\n",
    "را داریم. برای پیاده‌سازی حلقه\n",
    "<code>for</code>\n",
    "به چند قسمت نیاز داریم:\n",
    "    <br>\n",
    "    1. متغیری که آن را در حلقه جلو می‌بریم (در اینجا از i استفاده شده است)\n",
    "    <br>\n",
    "    2. یک ویژگی  قابل جلو بردن، برای مثال یک لیست یا ماژول <code>range</code>* که یک ویژگی از پیش تعیین شده است و در آن می‌توان تکرار** را تعریف کرد.\n",
    "    <br>\n",
    "    <br>\n",
    "    با استفاده از این ویژگی‌ها می‌توان یک حلقه را نوشت و از آن استفاده کرد.\n",
    "    <br>\n",
    "    <br>\n",
    "    * عبارت \n",
    "    <code>range</code>\n",
    "    یک تابع است (با توابع در ادامه درس بیشتر آشنا می‌شویم) که در آن می‌توانیم به چند روش پیش برویم. ساده‌ترین حالت استفاده از آن که در این کد از آن بهره گرفته شده است آوردن تنها مقدار پایانی است.\n",
    "    برای مثال \n",
    "    <code>range(10)</code>\n",
    "    به این معنا است که از 0 شروع کن و تا یکی قبل از 10 پیش برو که همان 9 است.\n",
    "    حالت بعدی زمانی است که هم شروع و هم پایان رو برای آن تعیین می‌کنیم.\n",
    "    برای مثال\n",
    "    <code>range(1,11)</code>\n",
    "     که در این حالت عدد ما به جای شروع از 0، از 1 شروع می‌شود و تا 10 جلو می‌رود و دیگر به 11 نمی‌رسد.\n",
    "    و در حالت آخر می‌توانیم قدم را هم برای آن مشخص کنیم. برای مثال می‌گوییم دوتا دوتا جلو برود.\n",
    "    در این صورت داریم\n",
    "    <code>range(1,11,2)</code>\n",
    "    که در آن 2 عدد قدم است و بعد از 1، 3 و سپس 5 و ...، تا 9 را داریم و دیگر 11 اجرا نمی‌شود.\n",
    "    <br>\n",
    "    <font color='C31330'>\n",
    "    نکته: به خاطر داشته باشید که در <code>range</code> تنها اعداد صحیح قرار می‌گیرند و به محض اعشاری شدن، به شما خطا می‌دهد.\n",
    "    </font>\n",
    "    <br>\n",
    "    ** منظور از تکرار کلمه iteration است. در iterator ها یک اتفاق به ترتیبی که در آن تعریف شده جلو می‌رود. range یک نوع iterator است.\n",
    "    <br>\n",
    "    <br>\n",
    "    در پایین همان برنامه بالا را با استفاده از حلقه\n",
    "    <code>while</code>\n",
    "    تعریف کرده‌ایم:\n",
    "</font>\n",
    "</div>"
   ]
  },
  {
   "cell_type": "code",
   "execution_count": 2,
   "metadata": {},
   "outputs": [
    {
     "name": "stdout",
     "output_type": "stream",
     "text": [
      "0\n",
      "1\n",
      "2\n",
      "3\n",
      "4\n",
      "5\n",
      "6\n",
      "7\n",
      "8\n",
      "9\n"
     ]
    }
   ],
   "source": [
    "i = 0\n",
    "while i<10:\n",
    "    print(i)\n",
    "    i=i+1"
   ]
  },
  {
   "cell_type": "markdown",
   "metadata": {},
   "source": [
    "<div dir=\"rtl\" style=\"line-height:300%;\"><font face=\"XB Nazanin\" size=5>\n",
    "<p></p>\n",
    "    حلقه \n",
    "    <code>while</code>\n",
    "    مانند یک عبارت شرطی می‌ماند؛ با این تقاوت که تا زمانی که شرط آن برقرار نشود از محدوده آن بیرون نمی‌آید. بنابراین اگر بنویسید\n",
    "    <code>while(True):</code>\n",
    "    یا هر شرطی که هیچ وقت اتفاق نمی‌افتد را به عنوان شرط خروجی بگذارید، هیچگاه از این حلقه خارج نمی‌شود و رم شما بعد از مدتی پر شده و پیام خطا دریافت می‌کنید.\n",
    "    <font color='C31330'>\n",
    "    به خاطر داشته باشید که این عبارت مانند if است و اگر عبارت غلطی در ورودی آن بگذارید وارد while نخواهد شد.\n",
    "    </font>\n",
    "    <br>\n",
    "    بنابراین برای تولید یک حلقه با استفاده از\n",
    "    <code>while</code>\n",
    "    تنها به یک شرط نیاز داریم؛ اما باید حواسمان باشد در داخل این حلقه طوری برنامه نوشته شود که به آن شرط برسیم.\n",
    "    مثلا در برنامه بالا، شرط ما رساندن متغیر تعریف شده i به عدد 9 است ( از آنجایی که گفته‌ایم i اکید کوچکتر از 10 باشد).\n",
    "    سپس با استفاده از عبارت\n",
    "    <code>i = i+1</code>\n",
    "    در هر بار تکرار حلقه یک واحد به آن اضافه کردیم تا زمانی که به 10 برسد و حلقه دیگر ادامه پیدا نکند و قبل از چاپ از آن خارج شود.\n",
    "    <br>\n",
    "    <br>\n",
    "    حال چند مثال دیگر را با هم در زیر می‌بینیم:\n",
    "    <br>\n",
    "    ابتدا دنباله زیر را پیاده‌سازی می‌کنیم:\n",
    "    <br>\n",
    "    <code>a(n) = 2*a(n-1), a(1) = 1</code>\n",
    "    <br>\n",
    "    در دنباله بالا بنا به عددی که انتخاب می‌شود به همان تعداد 2 در مقدار قبلی ضرب می‌شود. به طور کلی 2 به توان عدد n می‌رسد.\n",
    "</font>\n",
    "</div>"
   ]
  },
  {
   "cell_type": "code",
   "execution_count": 4,
   "metadata": {},
   "outputs": [
    {
     "name": "stdout",
     "output_type": "stream",
     "text": [
      "1024\n"
     ]
    }
   ],
   "source": [
    "# پیاده سازی با for\n",
    "a = 1\n",
    "n = 10\n",
    "for i in range(n):\n",
    "    a = 2*a\n",
    "print(a)"
   ]
  },
  {
   "cell_type": "code",
   "execution_count": 6,
   "metadata": {},
   "outputs": [
    {
     "name": "stdout",
     "output_type": "stream",
     "text": [
      "1024\n"
     ]
    }
   ],
   "source": [
    "# پیاده سازی با while\n",
    "a = 1\n",
    "n = 10\n",
    "i = 0\n",
    "while i<n:\n",
    "    a=2*a\n",
    "    i+=1 #همان i=i+1\n",
    "    # عبارت بالا نوعی دیگر برای پیاده سازی این نوع عبارت ها است و برای تمامی اعمال ریاضی کاربردی است\n",
    "print(a)"
   ]
  },
  {
   "cell_type": "markdown",
   "metadata": {},
   "source": [
    "<div dir=\"rtl\" style=\"line-height:300%;\"><font face=\"XB Nazanin\" size=5>\n",
    "<p></p>\n",
    "    حال فرض کنید می‌خواهیم اعداد را با یک فاصله کنار هم چاپ کنیم. اینجا تنها مهارتی که لازم است نوع استفاده از print است:\n",
    "</font>\n",
    "</div>"
   ]
  },
  {
   "cell_type": "code",
   "execution_count": 9,
   "metadata": {},
   "outputs": [
    {
     "name": "stdout",
     "output_type": "stream",
     "text": [
      "0\t1\t2\t3\t4\t"
     ]
    }
   ],
   "source": [
    "# with for:\n",
    "n=5\n",
    "for i in range(n):\n",
    "    print(i, end='\\t')# اند مشخص میکند که پس از چاپ تابع چه کاری انجام دهد و ما به آن گفتیم که از تَب استفاده کند\n",
    "    "
   ]
  },
  {
   "cell_type": "code",
   "execution_count": 11,
   "metadata": {},
   "outputs": [
    {
     "name": "stdout",
     "output_type": "stream",
     "text": [
      "0\t1\t2\t3\t4\t"
     ]
    }
   ],
   "source": [
    "# with while:\n",
    "n = 5\n",
    "i = 0\n",
    "while i<n:\n",
    "    print(i, end = '\\t')\n",
    "    i+=1"
   ]
  },
  {
   "cell_type": "markdown",
   "metadata": {},
   "source": [
    "<div dir=\"rtl\" style=\"line-height:300%;\"><font face=\"XB Nazanin\" size=5>\n",
    "<p></p>\n",
    "    با دانستن مراحل بالا به سراغ چاپ یک ماتریس می‌رویم.\n",
    "    همانطور که می‌دانید برای نوشتن یک ماتریس(منظور نوشتن اعداد به شکل ماتریسی است و نه خود ماتریس در پایتون) نیاز است تا اعداد به تعداد کنار هم و به تعدادی زیر هم نوشته شوند.\n",
    "    <font color='C31330'>\n",
    "    در این حالت نیاز است از حلقه‌های تو در تو استفاده شود.\n",
    "    </font>\n",
    "    در ادامه با استفاده از for یک نوشتار ماتریسی را پیاده سازی می‌کنیم.\n",
    "</font>\n",
    "</div>"
   ]
  },
  {
   "cell_type": "code",
   "execution_count": 12,
   "metadata": {},
   "outputs": [
    {
     "name": "stdout",
     "output_type": "stream",
     "text": [
      "1\t1\t1\t\n",
      "1\t1\t1\t\n",
      "1\t1\t1\t\n"
     ]
    }
   ],
   "source": [
    "# پیاده سازی نوشتاری یک ماتریس 3 در 3\n",
    "for i in range(3):# تعداد سطر ها را مشخص میکند\n",
    "    for j in range(3):# تعداد ستون ها را مشخص میکند\n",
    "        print(1, end = '\\t')\n",
    "    print()#برای آن که در انتهای خط یک اینتر داشته باشیم و به خط بعد برویم"
   ]
  },
  {
   "cell_type": "markdown",
   "metadata": {},
   "source": [
    "<div dir=\"rtl\" style=\"line-height:300%;\"><font face=\"XB Nazanin\" size=5>\n",
    "<p></p>\n",
    "    با استفاده از مثال بالا یک ماتریس 4 در 4 بنویسید که درایه های آن از 1 تا 16 برود.\n",
    "    (این مثال را خود پیاده سازی کنید)\n",
    "</font>\n",
    "</div>"
   ]
  },
  {
   "cell_type": "code",
   "execution_count": null,
   "metadata": {},
   "outputs": [],
   "source": []
  },
  {
   "cell_type": "markdown",
   "metadata": {},
   "source": [
    "<div dir=\"rtl\" style=\"line-height:300%;\"><font face=\"XB Nazanin\" size=5>\n",
    "<p></p>\n",
    "    حال بازی قبل را که حدس زدن عدد بود با استفاده از حلقه تکمیل می‌کنیم.\n",
    "    من در اینجا از حلقه while استفاده می‌کنم.\n",
    "</font>\n",
    "</div>"
   ]
  },
  {
   "cell_type": "code",
   "execution_count": 14,
   "metadata": {},
   "outputs": [
    {
     "name": "stdout",
     "output_type": "stream",
     "text": [
      "Enter your guess: 5\n",
      "حدس شما کمتر از عدد بود\n",
      "Enter your guess: 7\n",
      "حدس شما درست بود\n",
      "The number was 7\n"
     ]
    }
   ],
   "source": [
    "### این قسمت مربوط به حدس است و فعلا نیازی به یادگیری آن نیست ####\n",
    "from numpy.random import randint\n",
    "n = randint(1,11)\n",
    "################################################################\n",
    "guess = int(input('Enter your guess: ')) # عدد حدسی خود را وارد میکنید. این عدد همینجا تبدیل به اینت میشود\n",
    "\n",
    "while guess!=n: #تبدیل ایف به وایل\n",
    "    if guess<1 or guess>10:\n",
    "        print('شما بین 1 تا 10 حدس نزدید')\n",
    "    elif guess>n:\n",
    "        print('حدس شما بیشتر از عدد بود')\n",
    "    else:\n",
    "        print('حدس شما کمتر از عدد بود')\n",
    "    guess = int(input('Enter your guess: ')) # گرفتن دوباره حدس قبل از تکرار دوباره حلقه\n",
    "    \n",
    "\n",
    "print('حدس شما درست بود')\n",
    "print('The number was',n)"
   ]
  },
  {
   "cell_type": "markdown",
   "metadata": {},
   "source": [
    "<div dir=\"rtl\" style=\"line-height:300%;\"><font face=\"XB Nazanin\" size=5>\n",
    "<p></p>\n",
    "    در پایان نیاز است در مورد عملگر break و کاربرد آن در حلقه ها نیز صحبت کنیم.\n",
    "    در برخی موارد نمی‌توانیم شرط خاصی در ابتدا برای حلقه while تعیین کنیم و یا پس از اتفاقی می‌خواهیم به کار حلقه پایان بدهیم.\n",
    "    در این صورت می‌توانیم با استفاده از عبارت شرطی if، اگر اتفاق مورد نظر افتاد به کار حلقه پایان بدهیم و این کار بدون در نظر گرفتن شرط while و ادامه تکرارهای for اتفاق می‌افتد.\n",
    "    نمونه ای از این عملکرد را در زیر می‌بینیم:\n",
    "</font>\n",
    "</div>"
   ]
  },
  {
   "cell_type": "code",
   "execution_count": 1,
   "metadata": {},
   "outputs": [
    {
     "name": "stdout",
     "output_type": "stream",
     "text": [
      "2\n",
      "3\n",
      "4\n",
      "5\n",
      "6\n",
      "7\n",
      "8\n",
      "9\n",
      "10\n",
      "11\n",
      "12\n",
      "13\n",
      "14\n",
      "15\n",
      "16\n",
      "17\n",
      "18\n",
      "19\n",
      "20\n",
      "21\n",
      "22\n",
      "23\n",
      "24\n",
      "25\n",
      "26\n",
      "27\n",
      "28\n",
      "29\n",
      "30\n",
      "31\n",
      "32\n",
      "33\n",
      "34\n",
      "35\n",
      "36\n",
      "37\n",
      "38\n",
      "39\n",
      "40\n",
      "41\n",
      "42\n",
      "43\n",
      "44\n",
      "45\n",
      "46\n",
      "47\n",
      "48\n",
      "49\n",
      "50\n",
      "51\n",
      "52\n",
      "53\n",
      "54\n",
      "55\n",
      "56\n",
      "57\n",
      "58\n",
      "59\n",
      "60\n",
      "61\n",
      "62\n",
      "63\n",
      "64\n",
      "65\n",
      "66\n",
      "67\n",
      "68\n",
      "69\n",
      "70\n",
      "71\n",
      "72\n",
      "73\n",
      "74\n",
      "75\n",
      "76\n",
      "77\n",
      "78\n",
      "79\n",
      "80\n",
      "81\n",
      "82\n",
      "83\n",
      "84\n",
      "85\n",
      "86\n",
      "87\n",
      "88\n",
      "89\n",
      "90\n",
      "91\n",
      "92\n",
      "93\n",
      "94\n",
      "95\n",
      "96\n",
      "97\n"
     ]
    }
   ],
   "source": [
    "# نمونه ای ساده در استفاده از برک در فور\n",
    "for i in range(2,100000):\n",
    "    print(i)\n",
    "    if i%97==0:\n",
    "        break\n"
   ]
  },
  {
   "cell_type": "code",
   "execution_count": 1,
   "metadata": {},
   "outputs": [
    {
     "name": "stdout",
     "output_type": "stream",
     "text": [
      "Enter your guess: 3\n",
      "حدس شما کمتر از عدد بود\n",
      "Enter your guess: 11\n",
      "شما بین 1 تا 10 حدس نزدید. از بازی خارج میشوید\n",
      "The number was 7\n"
     ]
    }
   ],
   "source": [
    "# حال بازی خود را جوری طراحی میکنیم که اگر کاربر بین 1 تا 10 انتخاب نکرد جریمه شود\n",
    "### این قسمت مربوط به حدس است و فعلا نیازی به یادگیری آن نیست ####\n",
    "from numpy.random import randint\n",
    "n = randint(1,11)\n",
    "################################################################\n",
    "guess = int(input('Enter your guess: ')) \n",
    "\n",
    "while guess!=n:\n",
    "    if guess<1 or guess>10:# اگر کاربر قوانین بازی را رعایت نکند از بازی منع میشود\n",
    "        print('شما بین 1 تا 10 حدس نزدید. از بازی خارج میشوید')\n",
    "        break # در اینجا از حلقه خارج میشویم \n",
    "    elif guess>n:\n",
    "        print('حدس شما بیشتر از عدد بود')\n",
    "    else:\n",
    "        print('حدس شما کمتر از عدد بود')\n",
    "    guess = int(input('Enter your guess: ')) \n",
    "\n",
    "if guess == n: # به این شرط نیاز داریم تا اگر کاربر از قوانین سرپیچی کرد و از حلقه خارج شد چاپ پایین اجرا نشود\n",
    "    print('حدس شما درست بود')\n",
    "\n",
    "print('The number was',n)"
   ]
  },
  {
   "cell_type": "markdown",
   "metadata": {},
   "source": [
    "<div dir=\"rtl\" style=\"line-height:300%;\"><font face=\"XB Nazanin\" size=5>\n",
    "<p></p>\n",
    "    بنابراین جا چند خط ساده بازی خودمان را تکمیل کردیم.\n",
    "    در فصل آینده با توابع آشنا می‌شویم که یکی از کاربردی‌ترین و اصلی‌ترین بخش‌های برنامه نویسی است.\n",
    "    <br>\n",
    "    <a  href=\"#menu\">بازگشت به فهرست اصلی</a>\n",
    "</font>\n",
    "</div>"
   ]
  },
  {
   "cell_type": "markdown",
   "metadata": {},
   "source": [
    "<div dir=\"rtl\" style=\"line-height:300%;\"><font face=\"XB Nazanin\" size=5>\n",
    "<font color=135FC3 size=6>\n",
    "<p></p>\n",
    "<div align=center><a  name=\"section6\" href=\"#menu\">فصل 6: تابع و انواع توابع کتابخانه‌ای، ماجول و پکیج، تعریف تابع</a></div>\n",
    "</font>\n",
    "<font color=#C31330>\n",
    "مقدمه\n",
    "</font><p></p>\n",
    "    تا اینجا با دانستن شرط و حلقه توانستیم برخی برنامه‌های ساده را بنویسیم. همچنین از برخی ویژگی‌های از پیش تعیین شده مانند print نیز استفاده کردیم.\n",
    "    همانطور که گفتم print یک تابع است. از توابع استفاده‌های زیادی می‌شود.\n",
    "    گاهی خودمان آنها را می‌نویسیم و گاهی از نمونه‌های از پیش تعیین شده مانند print استفاده می‌کنیم.\n",
    "    توابع مانند حلقه‌ها دارای چند قسمت اساسی هستند.\n",
    "    به شکل زیر توجه کنید:\n",
    "    <br>\n",
    "    <img src=\"Pics/functions.png\" width=\"500\" height=\"300\" alt=\"\" />\n",
    "    <br>\n",
    "    برای تعریف یک تابع نیازمند چند بخش هستیم.\n",
    "    <br>\n",
    "    1. تعریف کلمه کلیدی def\n",
    "    <br>\n",
    "    2. نامی که برای آن تابع در نظر داریم\n",
    "    <br>\n",
    "    3. تعریف نام برای ورودی هایی که قرار است در تابع از آن ها استفاده کنیم\n",
    "    <br>\n",
    "    4. دو نقطه که در تمامی تعاریف ( همانطور که قبلا در شرط و حلقه هم دیدیم) باید حتما آورده شود\n",
    "    <br>\n",
    "    5. تعریف بدنه تابع یا همان عملیاتی که قرار است برروی ورودی انجام گیرد\n",
    "    <br>\n",
    "    6. و در نهایت برگرداندن خروجی مد نظر با استفاده از کلمه کلیدی return\n",
    "    <br>\n",
    "    <br>\n",
    "    تابع پرینت نیز یکی از همین انواع است.\n",
    "    یک یا چند مقدار را به عنوان ورودی می‌گیرد و کار آن نمایش این ورودی‌ها در خروجی سیستم است. غیر از ورودی های نمایشی متغیرهای دیگری هم می‌تواند بگیرد که تنظیمات نمایش خروجی را تغییر می‌دهند؛ مانند تغییر کاراکتر پایانی از enter به tab و یا space و بسیاری ویژگی‌های دیگر که قابل تغییر هستند.\n",
    "    <br>\n",
    "    برای درک بهتر آنچه گفته شده به چند مثال ساده زیر توجه کنید:\n",
    "</font>\n",
    "</div>"
   ]
  },
  {
   "cell_type": "code",
   "execution_count": 2,
   "metadata": {},
   "outputs": [
    {
     "data": {
      "text/plain": [
       "7"
      ]
     },
     "execution_count": 2,
     "metadata": {},
     "output_type": "execute_result"
    }
   ],
   "source": [
    "# برنامه ای برای بازگرداندن جمع 3 عدد\n",
    "def add3(a,b,c):\n",
    "    s = a+b+c\n",
    "    return s\n",
    "add3(1,2,3)# توجه کنید که این خط نمایش داده نمیشود زیرا آن زا پرینت نکرده ایم و این باعث میشود نمایش داده نشود\n",
    "add3(2,2,3)"
   ]
  },
  {
   "cell_type": "code",
   "execution_count": 3,
   "metadata": {},
   "outputs": [
    {
     "name": "stdout",
     "output_type": "stream",
     "text": [
      "6\n",
      "12\n"
     ]
    }
   ],
   "source": [
    "print(add3(2,2,2))\n",
    "print(add3(3,4,5))"
   ]
  },
  {
   "cell_type": "code",
   "execution_count": 4,
   "metadata": {},
   "outputs": [
    {
     "name": "stdout",
     "output_type": "stream",
     "text": [
      "6\n"
     ]
    }
   ],
   "source": [
    "# شما همچنین میتوانید خروجی را در یک متغیر ذخیره کنید و سپس از آن متغیر استفاده کنید\n",
    "khoruji = add3(1,2,3)\n",
    "print(khoruji)"
   ]
  },
  {
   "cell_type": "code",
   "execution_count": 5,
   "metadata": {},
   "outputs": [
    {
     "name": "stdout",
     "output_type": "stream",
     "text": [
      "Enter value in kilometers: 12\n",
      "12.00 kilometers is equal to 7.46 miles\n"
     ]
    }
   ],
   "source": [
    "# تابعی برای تبدیل کیلومتر به مایل\n",
    "\n",
    "def KM2ML(kilometers):\n",
    "    # conversion factor\n",
    "    conv_fac = 0.621371\n",
    "    # calculate miles\n",
    "    miles = kilometers * conv_fac\n",
    "    return miles\n",
    "\n",
    "# مقدار کیلومتر را از کاربر میگیریم\n",
    "kilometers = float(input(\"Enter value in kilometers: \"))\n",
    "# خروجی تابع را در متغیر زیر ذخیره میکنیم\n",
    "ml = KM2ML(kilometers) # به خاطر داشته باشید که متغیری که در تابع تعریف میکنید میتواند هم نام متغیری باشد که به آن میفرستید\n",
    "#                       اما این دو متغیر در حافظه دو متغیر جدا هستند و تنها نام مشابه دارند\n",
    "# در نهایت آن ها را نمایش میدهیم\n",
    "print('%0.2f kilometers is equal to %0.2f miles' %(kilometers,ml))"
   ]
  },
  {
   "cell_type": "markdown",
   "metadata": {},
   "source": [
    "<div dir=\"rtl\" style=\"line-height:300%;\"><font face=\"XB Nazanin\" size=5>\n",
    "<p></p>\n",
    "    حال شما یک برنامه بنویسید که برعکس کار بالا را انجام بدهد.\n",
    "    به این معنا که مایل را به کیلومتر تغییر دهید:\n",
    "    <br>\n",
    "</font>\n",
    "</div>"
   ]
  },
  {
   "cell_type": "code",
   "execution_count": null,
   "metadata": {},
   "outputs": [],
   "source": []
  },
  {
   "cell_type": "markdown",
   "metadata": {},
   "source": [
    "<div dir=\"rtl\" style=\"line-height:300%;\"><font face=\"XB Nazanin\" size=5>\n",
    "<p></p>\n",
    "    تا اینجا به جز تابع print که بسیار از آن استفاده کردیم، توابع دیگری نیز بودند که بدون آن که بدانیم از آن ها استفاده کردیم.\n",
    "    تابع \n",
    "    <code>type()</code>\n",
    "    یکی دیگر از این توابع است.\n",
    "    همچنین تمامی کست ها با استفاده از نوعی تابع انجام می‌گیرند:\n",
    "    <br>\n",
    "    <code>int, float, str</code>\n",
    "    <br>\n",
    "    برخی توابع دیگر هم هستند که هنوز با آنها آشنا نشدیم و به صورت ویژگی‌هایی درون یک ویژگی دیگر قرار دارند. برای مثال وقتی یک رشته را تعریف می‌کنیم، توابعی از پیش تعیین شده برای آن وجود دارد که می‌تواند تغییراتی در آن به وجود بیاورد و یا بخش خاصی از آن را برگرداند.\n",
    "    در لیست‌ها نیز این توابع وجود دارند. تابعی داخلی در لیست موجود است که آن را مرتب می‌کند و یا جایگاه یک مقدار را به شما می‌دهد.\n",
    "    <br>\n",
    "    از این دست توابع به وفور در کلاس‌های مختلف پایتون یافت می‌شوند.\n",
    "    در فصل‌های آتی که با این کلاس‌های مختلف آشنا می‌شویم، با توابع آنها نیز بیشتر آشنا می‌شویم.\n",
    "    <br>\n",
    "    با هم چند مثال دیگر از برنامه‌های ترکیبی از مطالبی که تا اینجا خوانده ایم را ببینیم:\n",
    "</font>\n",
    "</div>"
   ]
  },
  {
   "cell_type": "code",
   "execution_count": 6,
   "metadata": {},
   "outputs": [],
   "source": [
    "# در این برنامه میبینیم که آیا یک عدد زوج است یا نه:\n",
    "def is_even(number):\n",
    "    if number%2==0:\n",
    "        return True\n",
    "    return False #در این خط از اِلس استفاده نکردیم زیرا درصورتی که عبارت شرطی بالا درست باشد ریترن میشود و دیگر به این خط نمیرسد"
   ]
  },
  {
   "cell_type": "code",
   "execution_count": 8,
   "metadata": {},
   "outputs": [
    {
     "name": "stdout",
     "output_type": "stream",
     "text": [
      "True False\n"
     ]
    }
   ],
   "source": [
    "print(is_even(2), is_even(3))"
   ]
  },
  {
   "cell_type": "code",
   "execution_count": 9,
   "metadata": {},
   "outputs": [],
   "source": [
    "# در این برنامه از برنامه بالا استفاده میکنیم و برای یک تعداد خاص پرینت میکنیم که آیا عدد فرد است یا زوج\n",
    "def check_odd_even(n):\n",
    "    for i in range(n):\n",
    "        if is_even(i): # استفاده از تابع قبلی در درون این تابع\n",
    "            print(i, 'زوج است')\n",
    "        else:\n",
    "            print(i, 'فرد است')"
   ]
  },
  {
   "cell_type": "code",
   "execution_count": 10,
   "metadata": {},
   "outputs": [
    {
     "name": "stdout",
     "output_type": "stream",
     "text": [
      "0 زوج است\n",
      "1 فرد است\n",
      "2 زوج است\n",
      "3 فرد است\n",
      "4 زوج است\n",
      "5 فرد است\n",
      "6 زوج است\n",
      "7 فرد است\n",
      "8 زوج است\n",
      "9 فرد است\n"
     ]
    }
   ],
   "source": [
    "check_odd_even(10)"
   ]
  },
  {
   "cell_type": "code",
   "execution_count": 11,
   "metadata": {},
   "outputs": [
    {
     "name": "stdout",
     "output_type": "stream",
     "text": [
      "The factors of 10 are:\n",
      "1\n",
      "2\n",
      "5\n",
      "10\n"
     ]
    }
   ],
   "source": [
    "# چاپ کردن تمام فاکتور های یک عدد:\n",
    "def print_factors(x):\n",
    "    print(\"The factors of\",x,\"are:\")\n",
    "    for i in range(1, x + 1):\n",
    "        if x % i == 0:\n",
    "            print(i)\n",
    "print_factors(10)"
   ]
  },
  {
   "cell_type": "markdown",
   "metadata": {},
   "source": [
    "<div dir=\"rtl\" style=\"line-height:300%;\"><font face=\"XB Nazanin\" size=5>\n",
    "<p></p>\n",
    "    به جز توابعی که تا اینجا تعریف شدند، کلاس‌هایی وجود دارند که دارای توابع بسیاری هستند و برای کمک و راحت سازی برنامه‌نویسی در اختیار ما قرار داده شده‌اند.\n",
    "    کتابخانه numpy و random از کتابخانه های بسیار اولیه هستند که هر برنامه‌نویسی در مقطعی به آنها نیاز پیدا می‌کند.\n",
    "    کتابخانه numpy مربوط به عملیات ریاضی است و یک کتابخانه بسیار بزرگ و جامع شامل کلاس‌های بسیار است که هر کدام توابع مخصوص به خود را دارند.\n",
    "    برای مثال برخی از توابع ریاضی به راحتی توسط نامپای قابل دسترسی هستند. نمونه های زیر را در نظر بگیرید:\n",
    "</font>\n",
    "</div>"
   ]
  },
  {
   "cell_type": "code",
   "execution_count": 22,
   "metadata": {},
   "outputs": [
    {
     "name": "stdout",
     "output_type": "stream",
     "text": [
      "sqrt(4) : 2.0\n",
      "abs(-10) : 10\n",
      "sin(pi/2) : 1.0\n",
      "matrix zeros 2x2: [[0. 0.]\n",
      " [0. 0.]]\n"
     ]
    }
   ],
   "source": [
    "# ابتدا نیاز داریم تا نامپای را صدا بزنیم و آن را فراخوانی کنیم تا بتوانیم از آن استفاده کنیم\n",
    "import numpy\n",
    "# حال میتوانیم از بخش های مختلف آن استفاده کنیم\n",
    "print('sqrt(4) :', numpy.sqrt(4)) # تابع مربوط به جذر\n",
    "print('abs(-10) :',numpy.abs(-10)) # قدرمطلق\n",
    "print('sin(pi/2) :',numpy.sin(numpy.pi/2)) # محاسبه سینوس 90 درجه یا پی دوم\n",
    "print('matrix zeros 2x2:', numpy.zeros((2,2))) # ساخت یک ماتریس صفر 2 در 2"
   ]
  },
  {
   "cell_type": "markdown",
   "metadata": {},
   "source": [
    "<div dir=\"rtl\" style=\"line-height:300%;\"><font face=\"XB Nazanin\" size=5>\n",
    "<p></p>\n",
    "    بنا به استفاده میتوانید با یک سرچ ساده از توابع بسیار متنوع نامپای استفاده کنید.\n",
    "    همچنین کتابخانه رندم با آن که به صورت جداگانه قابل فراخوانی و استفاده است، در داخل نامپای نیز وجود دارد و میتوانید از آن نیز استفاده کنید.\n",
    "    اما اگر بخواهیم random را فراخوانی کنیم به صورت زیر خواهد بود:\n",
    "</font>\n",
    "</div>"
   ]
  },
  {
   "cell_type": "code",
   "execution_count": 25,
   "metadata": {},
   "outputs": [
    {
     "name": "stdout",
     "output_type": "stream",
     "text": [
      "4\n",
      "2\n",
      "7\n",
      "9\n",
      "3\n",
      "9\n",
      "8\n",
      "7\n",
      "1\n",
      "10\n"
     ]
    }
   ],
   "source": [
    "import random\n",
    "for _ in range(10):\n",
    "    print(random.randint(1,10))"
   ]
  },
  {
   "cell_type": "markdown",
   "metadata": {},
   "source": [
    "<div dir=\"rtl\" style=\"line-height:300%;\"><font face=\"XB Nazanin\" size=5>\n",
    "<p></p>\n",
    "    در کد بالا برخی موارد متفاوت وجود دارند. ابتدا از for استفاده کردیم و به جای متغیر مربوط به شمارنده از _ استفاده کردیم. از آنجایی که نیاز به متغیر شمارنده نداریم، می‌توانیم به جای تعریف یک متغیر در این جایگاه از _ استفاده کنیم و آن را ندید بگیریم.\n",
    "    در قسمت بعد از \n",
    "    <code>randint</code>\n",
    "    استفاده کرده‌ایم؛ به این معنی که یک عدد تصادفی صحیح می‌خواهیم و عدد 1 و 10 نیز بازه بسته مورد نظر ما برای این کار است.\n",
    "    تابع <code>random</code> نیز خود یک عدد تصادفی بین 0 تا 1 در اختیار شما قرار می‌دهد:\n",
    "</font>\n",
    "</div>"
   ]
  },
  {
   "cell_type": "code",
   "execution_count": 26,
   "metadata": {},
   "outputs": [
    {
     "data": {
      "text/plain": [
       "0.06604910926804664"
      ]
     },
     "execution_count": 26,
     "metadata": {},
     "output_type": "execute_result"
    }
   ],
   "source": [
    "random.random()"
   ]
  },
  {
   "cell_type": "markdown",
   "metadata": {},
   "source": [
    "<div dir=\"rtl\" style=\"line-height:300%;\"><font face=\"XB Nazanin\" size=5>\n",
    "<p></p>\n",
    "    بنابراین با دانستن پایه مطالب تا اینجا پیاده‌سازی بسیاری از برنامه‌های ساده امکان پذیر هستند.\n",
    "    در فصل آینده بیشتر در مورد عملگرها و اعداد اعشاری صحبت می‌کنیم و آشنا می‌شویم.\n",
    "</font>\n",
    "    <br>\n",
    "<font color=#C31330 size=4>\n",
    "<a  href=\"#menu\">بازگشت به فهرست اصلی</a>\n",
    "</font>\n",
    "</div>"
   ]
  },
  {
   "cell_type": "markdown",
   "metadata": {},
   "source": [
    "<div dir=\"rtl\" style=\"line-height:300%;\"><font face=\"XB Nazanin\" size=5>\n",
    "<font color=135FC3 size=6>\n",
    "<p></p>\n",
    "\n",
    "<div align=center><a  name=\"section7\" href=\"#menu\">فصل 7: متغیر، عبارت عملگرهای محاسباتی و اعشاری</a></div>\n",
    "</font>\n",
    "<font color=#C31330>\n",
    "مقدمه\n",
    "</font><p></p>\n",
    "    تا اینجا با ساخت عبارت‌های اعشاری آشنا شدیم. در این فصل چند مثال ساده و پیچیده از برنامه‌نویسی و کار با این نوع متغیر‌ها می‌بینیم.\n",
    "    <br>\n",
    "    <br>\n",
    "    در مثال زیر میخواهیم یک بهره وامی ساده را با استفاده از فرمول زیر محاسبه کنیم:\n",
    "    <br>\n",
    "    Simple Interest = (P x T x R)/100\n",
    "    <br>\n",
    "    که در آن P مقدار وامی که می‌گیرید، T مدت زمانی است که پول را باز می‌گردانید و در نهایت R درصد بهره است.\n",
    "    اگر بخواهیم این مقادیر را به صورت ورودی به یک تابع بدهیم،\n",
    "    کد مربوط به آن به صورت زیر خواهد بود:\n",
    "</font>\n",
    "</div>"
   ]
  },
  {
   "cell_type": "code",
   "execution_count": 3,
   "metadata": {},
   "outputs": [
    {
     "name": "stdout",
     "output_type": "stream",
     "text": [
      "Enter principle amount: 1000000\n",
      "Enter time(days): 30\n",
      "Enter rate: 8.5\n"
     ]
    },
    {
     "data": {
      "text/plain": [
       "2550000.0"
      ]
     },
     "execution_count": 3,
     "metadata": {},
     "output_type": "execute_result"
    }
   ],
   "source": [
    "p = float(input('Enter principle amount: ')) # آن را به عدد اعشار کست کردیم\n",
    "t = int(input('Enter time(days): ')) # آن را به عدد صحیح کست کردیم\n",
    "r = float(input('Enter rate: ')) # آن را به عدد اعشار کست کردیم\n",
    "\n",
    "def cal_interest(p,t,r):\n",
    "    return (p*t*r)/100\n",
    "\n",
    "cal_interest(p,t,r)"
   ]
  },
  {
   "cell_type": "markdown",
   "metadata": {},
   "source": [
    "<div dir=\"rtl\" style=\"line-height:300%;\"><font face=\"XB Nazanin\" size=5>\n",
    "    حال اگر نوع بهره را به یک حالت پیچیده تر تبدیل کنیم، تابع را برای آن پیاده سازی کنید. فرمول آن به صورت زیر است:\n",
    "    <br>\n",
    "    <div dir=\"ltr\" style=\"line-height:300%;\">\n",
    "    A = P(1 + R/100)^t \n",
    "    <br>\n",
    "    Compound Interest = A – P \n",
    "    </div>\n",
    "</font>\n",
    "</div>"
   ]
  },
  {
   "cell_type": "code",
   "execution_count": null,
   "metadata": {},
   "outputs": [],
   "source": []
  },
  {
   "cell_type": "markdown",
   "metadata": {},
   "source": [
    "<div dir=\"rtl\" style=\"line-height:300%;\"><font face=\"XB Nazanin\" size=5>\n",
    "    حال فرض کنید می‌خواهید نمرات یک کلاس را بگیرید و میانگین و واریانس آنها را حساب کنید.\n",
    "    <br>\n",
    "    این کار را به صورت زیر انجام می‌دهید:\n",
    "</font>\n",
    "</div>"
   ]
  },
  {
   "cell_type": "code",
   "execution_count": 4,
   "metadata": {},
   "outputs": [
    {
     "name": "stdout",
     "output_type": "stream",
     "text": [
      "What is your score? 10\n",
      "What is your score? 15\n",
      "What is your score? 17\n",
      "What is your score? 14\n",
      "What is your score? 9\n",
      "معدل کلاس برابر است با : 13.0\n"
     ]
    }
   ],
   "source": [
    "# ابتدا فرض میکنیم کلاس شامل 5 نفر است و نمرات آن ها را با استفاده از فور میگیریم\n",
    "n = 5\n",
    "s = 0 # یک متغیر برای جمع تمامی نمرات تعریف میکنیم.\n",
    "# میخواهیم نمرات را دانه دانه از افراد بپرسیم و بالافاصله جمع بزنیم\n",
    "for _ in range(n):\n",
    "    newScore = float(input('What is your score? '))\n",
    "    s = s+newScore\n",
    "# حال معدل کلاس را در زیر نمایش میدهیم\n",
    "print('معدل کلاس برابر است با :', s/n)"
   ]
  },
  {
   "cell_type": "markdown",
   "metadata": {},
   "source": [
    "<div dir=\"rtl\" style=\"line-height:300%;\"><font face=\"XB Nazanin\" size=5>\n",
    "    یکم آن را پیچیده تر می‌کنیم. این بار واریانس را نیز حساب می‌کنیم\n",
    "    برای آن به جای استفاده از فرمول معروف و اولیه، از فرمول زیر استفاده می‌کنیم\n",
    "    که اثبات تبدیل از فرمول اولیه آن نیز قابل مشاهده است:\n",
    "    <img src=\"Pics/var.svg\" width=\"500\" height=\"300\" alt=\"\" />\n",
    "</font>\n",
    "</div>"
   ]
  },
  {
   "cell_type": "code",
   "execution_count": 5,
   "metadata": {},
   "outputs": [
    {
     "name": "stdout",
     "output_type": "stream",
     "text": [
      "What is your score? 20\n",
      "What is your score? 15\n",
      "What is your score? 16\n",
      "What is your score? 13\n",
      "What is your score? 17\n",
      "معدل کلاس برابر است با : 16.2\n",
      "واریانس کلاس برابر است با : 5.360000000000014\n"
     ]
    }
   ],
   "source": [
    "n = 5\n",
    "s = 0\n",
    "varInsideSum = 0 # متغیر اولیه برای محاسبه سام داخلی را نیز تغریف میکنیم\n",
    "for _ in range(n):\n",
    "    newScore = float(input('What is your score? '))\n",
    "    s = s+newScore\n",
    "    varInsideSum = varInsideSum+ newScore**2\n",
    "# حال معدل کلاس را در زیر نمایش میدهیم\n",
    "mean = s/n\n",
    "print('معدل کلاس برابر است با :', mean)\n",
    "print('واریانس کلاس برابر است با :', (varInsideSum/n) - mean**2)\n"
   ]
  },
  {
   "cell_type": "markdown",
   "metadata": {},
   "source": [
    "<div dir=\"rtl\" style=\"line-height:300%;\"><font face=\"XB Nazanin\" size=5>\n",
    "    حال با دانستن این داده ها به سراغ مرحله بعد می‌رویم.\n",
    "    این بار به جای آن که از <code>for</code>\n",
    "    استفاده کنیم، از \n",
    "    <code>while</code>\n",
    "    استفاده می‌کنیم و می‌گوییم تا زمانی محاسبه را ادامه بدهد که عبارت ورودی برابر عدد -1 است.\n",
    "    <br>\n",
    "    آیا می‌توانید این برنامه را خود پیاده سازی کنید؟\n",
    "</font>\n",
    "</div>"
   ]
  },
  {
   "cell_type": "code",
   "execution_count": null,
   "metadata": {},
   "outputs": [],
   "source": []
  },
  {
   "cell_type": "markdown",
   "metadata": {},
   "source": [
    "<div dir=\"rtl\" style=\"line-height:300%;\"><font face=\"XB Nazanin\" size=5>\n",
    "    در برنامه بعد یک تابع مینویسیم که با توجه به شعاع داده شده به آن، مساحت یک دایره را محاسبه کند:\n",
    "</font>\n",
    "</div>"
   ]
  },
  {
   "cell_type": "code",
   "execution_count": 6,
   "metadata": {},
   "outputs": [
    {
     "data": {
      "text/plain": [
       "314.1592653589793"
      ]
     },
     "execution_count": 6,
     "metadata": {},
     "output_type": "execute_result"
    }
   ],
   "source": [
    "def circle_area(r):\n",
    "    import numpy as np # در اینجا به نامپای نام ان پی دادیم تا در صدا کردن آن راحت تر باشم\n",
    "    return np.pi*r*r\n",
    "\n",
    "radius = 10\n",
    "circle_area(radius)"
   ]
  },
  {
   "cell_type": "code",
   "execution_count": 7,
   "metadata": {},
   "outputs": [],
   "source": [
    "# حال برای محیط دایره مانند کد بالا پیاده سازی کنید:\n",
    "def circle_perimeter(r):\n",
    "    # در اینجا پَس را پاک کنید و کد خود را بنویسید\n",
    "    pass \n",
    "\n",
    "radius = 10\n",
    "circle_perimeter(radius)"
   ]
  },
  {
   "cell_type": "markdown",
   "metadata": {},
   "source": [
    "<div dir=\"rtl\" style=\"line-height:300%;\"><font face=\"XB Nazanin\" size=5>\n",
    "<p></p>\n",
    "    بنابراین، یک نگاه اجمالی دیگر به اعداد اعشار و استفاده از آنها داشتیم.\n",
    "    در فصل آینده به طور مفصل با رشته و و انواع توابع آن آشنا می‌شویم.\n",
    "</font>\n",
    "    <br>\n",
    "<font color=#C31330 size=4>\n",
    "<a  href=\"#menu\">بازگشت به فهرست اصلی</a>\n",
    "</font>\n",
    "</div>"
   ]
  },
  {
   "cell_type": "markdown",
   "metadata": {},
   "source": [
    "<div dir=\"rtl\" style=\"line-height:300%;\"><font face=\"XB Nazanin\" size=5>\n",
    "    <font color=135FC3 size=6>\n",
    "<p></p>\n",
    "<div dir=\"rtl\" align=center><a  name=\"section8\" href=\"#menu\">فصل 8:متغیر، عبارت رشته های حرفی (Strings)</a></div>\n",
    "</font>\n",
    "<font color=#C31330>\n",
    "مقدمه\n",
    "</font><p></p>\n",
    "    پس از آشنایی با برخی مبانی برنامه نویسی به سراغ آشنایی کامل‌تر با رشته‌ها، برخی توابع موجود در آن و استفاده‌های متفاوتی که می‌توان از یک رشته داشت، می‌رویم.\n",
    "    از جمله کارهایی که می‌توان با رشته ها کرد جدا کردن قسمتی از آن است؛ یا گشتن به دنبال یک کاراکتر خاص در آن، بررسی تعداد یک کاراکتر در آن، بزرگ کردن و یا کوچک کردن تمامی کاراکترها، چسباندن دو رشته و یا قسمتی از دو رشته  به هم و بسیاری از کارهای دیگر که در این فصل با آنها آشنا می‌شویم.\n",
    "    <br>\n",
    "    <br>\n",
    "    در ادامه به سراغ انواع ترکیب رشته‌ها با هم می‌رویم:\n",
    "</font>\n",
    "</div>"
   ]
  },
  {
   "cell_type": "code",
   "execution_count": 3,
   "metadata": {},
   "outputs": [
    {
     "data": {
      "text/plain": [
       "\"I'm here to learn how to code with Java.\""
      ]
     },
     "execution_count": 3,
     "metadata": {},
     "output_type": "execute_result"
    }
   ],
   "source": [
    "s = \"I'm here to learn how to code with Java.\"\n",
    "s"
   ]
  },
  {
   "cell_type": "code",
   "execution_count": 2,
   "metadata": {},
   "outputs": [
    {
     "data": {
      "text/plain": [
       "40"
      ]
     },
     "execution_count": 2,
     "metadata": {},
     "output_type": "execute_result"
    }
   ],
   "source": [
    "#اندازه یک رشته را بر میگرداند \n",
    "len(s)"
   ]
  },
  {
   "cell_type": "code",
   "execution_count": 3,
   "metadata": {},
   "outputs": [
    {
     "data": {
      "text/plain": [
       "\"I'm here to learn how to code with Java.\""
      ]
     },
     "execution_count": 3,
     "metadata": {},
     "output_type": "execute_result"
    }
   ],
   "source": [
    "# میگوییم که اول تا اخر یک رشته را به ما بدهد\n",
    "s[0:len(s)]"
   ]
  },
  {
   "cell_type": "code",
   "execution_count": 4,
   "metadata": {},
   "outputs": [
    {
     "data": {
      "text/plain": [
       "\"I'm here to learn how to code with Java.\""
      ]
     },
     "execution_count": 4,
     "metadata": {},
     "output_type": "execute_result"
    }
   ],
   "source": [
    "# همان عملکرد بالا را دارد که به زبان ساده تر بیان شده است\n",
    "s[:]"
   ]
  },
  {
   "cell_type": "code",
   "execution_count": 7,
   "metadata": {},
   "outputs": [
    {
     "data": {
      "text/plain": [
       "True"
      ]
     },
     "execution_count": 7,
     "metadata": {},
     "output_type": "execute_result"
    }
   ],
   "source": [
    "# چک میکنیم که آیا با هم برابرند یا نه؟\n",
    "s[0:len(s)]==s[:]"
   ]
  },
  {
   "cell_type": "code",
   "execution_count": 8,
   "metadata": {},
   "outputs": [
    {
     "data": {
      "text/plain": [
       "\"I'm here to learn how to code with \""
      ]
     },
     "execution_count": 8,
     "metadata": {},
     "output_type": "execute_result"
    }
   ],
   "source": [
    "#حذف 5 کاراکتر آخر شامل جاوا و نقطه\n",
    "s[:-5]"
   ]
  },
  {
   "cell_type": "code",
   "execution_count": 10,
   "metadata": {},
   "outputs": [
    {
     "data": {
      "text/plain": [
       "\"I'm here to learn how to code with python.\""
      ]
     },
     "execution_count": 10,
     "metadata": {},
     "output_type": "execute_result"
    }
   ],
   "source": [
    "# حال به جای جاوا کلمه پایتون را جایگذاری میکنیم\n",
    "s[:-5]+'python.'\n",
    "# همانطور که میبینید در اینجا از جمع استفاده کردیم تا دو رشته را به هم بچسبانیم"
   ]
  },
  {
   "cell_type": "code",
   "execution_count": 11,
   "metadata": {},
   "outputs": [
    {
     "name": "stdout",
     "output_type": "stream",
     "text": [
      "I'm here to learn how to code with python.\n"
     ]
    }
   ],
   "source": [
    "# حال این جایگذینی را ذخیره میکنیم و آن را نمایش میدهیم\n",
    "new_s = s[:-5] + 'python.'\n",
    "print(new_s)"
   ]
  },
  {
   "cell_type": "code",
   "execution_count": 18,
   "metadata": {},
   "outputs": [
    {
     "data": {
      "text/plain": [
       "\"i'm here to learn how to code with python.\""
      ]
     },
     "execution_count": 18,
     "metadata": {},
     "output_type": "execute_result"
    }
   ],
   "source": [
    "# با دستور زیر تمامی حروف در رشته کوچک میشوند\n",
    "s_lowered = new_s.lower()\n",
    "s_lowered"
   ]
  },
  {
   "cell_type": "code",
   "execution_count": 21,
   "metadata": {},
   "outputs": [
    {
     "data": {
      "text/plain": [
       "\"I'M HERE TO LEARN HOW TO CODE WITH PYTHON.\""
      ]
     },
     "execution_count": 21,
     "metadata": {},
     "output_type": "execute_result"
    }
   ],
   "source": [
    "# با دستور زیر، تمامی حروف در رشته بزرگ میشوند\n",
    "s_uppered = s_lowered.upper()\n",
    "s_uppered"
   ]
  },
  {
   "cell_type": "code",
   "execution_count": 22,
   "metadata": {},
   "outputs": [
    {
     "data": {
      "text/plain": [
       "\"I'm here to learn how to code with python.\""
      ]
     },
     "execution_count": 22,
     "metadata": {},
     "output_type": "execute_result"
    }
   ],
   "source": [
    "#و در دستور زیر جمله به حالت اصلی خود برمیگردد، به این منظور که کلمه اول در جمله با حرف بزرگ آغاز میشود\n",
    "s_cap = s_uppered.capitalize()\n",
    "s_cap"
   ]
  },
  {
   "cell_type": "code",
   "execution_count": 23,
   "metadata": {},
   "outputs": [
    {
     "data": {
      "text/plain": [
       "3"
      ]
     },
     "execution_count": 23,
     "metadata": {},
     "output_type": "execute_result"
    }
   ],
   "source": [
    "#در دستور زیر تعداد یک کاراکتر و یا یک زیر رشته در رشته اصلی شمرده و نمایش داده میشود\n",
    "s.count('a')"
   ]
  },
  {
   "cell_type": "code",
   "execution_count": 27,
   "metadata": {},
   "outputs": [
    {
     "data": {
      "text/plain": [
       "9"
      ]
     },
     "execution_count": 27,
     "metadata": {},
     "output_type": "execute_result"
    }
   ],
   "source": [
    "# دستور زیر جایگاه شروع اولین اتفاق یک کاراکتر و یا زیررشته را نشان میدهد\n",
    "s.index('to')"
   ]
  },
  {
   "cell_type": "code",
   "execution_count": 34,
   "metadata": {},
   "outputs": [
    {
     "name": "stdout",
     "output_type": "stream",
     "text": [
      "I'm here to learn how to code with Java.\n",
      "I'm here to learn how to code with python.\n"
     ]
    }
   ],
   "source": [
    "#حال در دستور زیر همان عملکرد جایگذینی بالا به صورت اتوماتیک توسط توابع آماده اتفاق می افتد.\n",
    "new_s = s.replace('Java','python')\n",
    "print(s)\n",
    "print(new_s)"
   ]
  },
  {
   "cell_type": "code",
   "execution_count": 2,
   "metadata": {},
   "outputs": [
    {
     "name": "stdout",
     "output_type": "stream",
     "text": [
      "*--**--**--**--**--**--**--**--**--**--*\n"
     ]
    }
   ],
   "source": [
    "# حال اگر بخواهیم یک رشته را چندین بار تکرار کنیم کافی است آن را ضرب کنیم\n",
    "print('*--*'*10)\n",
    "# در زیر به عنوان خروجی رشته بالا 10 بار پشت هم تکرار میشود. انگار رشته را 10 بار به خودش چسبانده ایم"
   ]
  },
  {
   "cell_type": "code",
   "execution_count": 4,
   "metadata": {},
   "outputs": [
    {
     "data": {
      "text/plain": [
       "False"
      ]
     },
     "execution_count": 4,
     "metadata": {},
     "output_type": "execute_result"
    }
   ],
   "source": [
    "# میتوانید به راحتی وجود یک کاراکتر یا زیر رشته را در یک رشته بررسی کنید\n",
    "'am' in s"
   ]
  },
  {
   "cell_type": "code",
   "execution_count": 5,
   "metadata": {},
   "outputs": [
    {
     "data": {
      "text/plain": [
       "True"
      ]
     },
     "execution_count": 5,
     "metadata": {},
     "output_type": "execute_result"
    }
   ],
   "source": [
    "'Java' in s"
   ]
  },
  {
   "cell_type": "code",
   "execution_count": 6,
   "metadata": {},
   "outputs": [
    {
     "data": {
      "text/plain": [
       "True"
      ]
     },
     "execution_count": 6,
     "metadata": {},
     "output_type": "execute_result"
    }
   ],
   "source": [
    "#حتی اگر بخواهید ببینید آیا زیر رشته ای در یک رشته نیست نیز میتوانید از یک نات استفاده کنید\n",
    "'python' not in s"
   ]
  },
  {
   "cell_type": "markdown",
   "metadata": {},
   "source": [
    "<div dir=\"rtl\" style=\"line-height:300%;\"><font face=\"XB Nazanin\" size=5>\n",
    "    حال برخی توابع رشته را بررسی میکنیم که خود بررسی کننده هستند. این توابع می‌توانند چک کنند که آیا یک رشته به صورت کامل عددی است، حرفی است و یا تمام کاراکترهای آن کوچک هستند:\n",
    "</font>\n",
    "</div>"
   ]
  },
  {
   "cell_type": "code",
   "execution_count": 7,
   "metadata": {},
   "outputs": [
    {
     "data": {
      "text/plain": [
       "True"
      ]
     },
     "execution_count": 7,
     "metadata": {},
     "output_type": "execute_result"
    }
   ],
   "source": [
    "'1234'.isnumeric()"
   ]
  },
  {
   "cell_type": "code",
   "execution_count": 9,
   "metadata": {},
   "outputs": [
    {
     "data": {
      "text/plain": [
       "False"
      ]
     },
     "execution_count": 9,
     "metadata": {},
     "output_type": "execute_result"
    }
   ],
   "source": [
    "'1d3df'.isnumeric()"
   ]
  },
  {
   "cell_type": "code",
   "execution_count": 16,
   "metadata": {},
   "outputs": [
    {
     "data": {
      "text/plain": [
       "False"
      ]
     },
     "execution_count": 16,
     "metadata": {},
     "output_type": "execute_result"
    }
   ],
   "source": [
    "'3.14'.isnumeric() # then you can not use them to identify float numbers"
   ]
  },
  {
   "cell_type": "code",
   "execution_count": 8,
   "metadata": {},
   "outputs": [
    {
     "data": {
      "text/plain": [
       "False"
      ]
     },
     "execution_count": 8,
     "metadata": {},
     "output_type": "execute_result"
    }
   ],
   "source": [
    "'1234'.isalpha()"
   ]
  },
  {
   "cell_type": "code",
   "execution_count": 10,
   "metadata": {},
   "outputs": [
    {
     "data": {
      "text/plain": [
       "True"
      ]
     },
     "execution_count": 10,
     "metadata": {},
     "output_type": "execute_result"
    }
   ],
   "source": [
    "'abc'.isalpha()"
   ]
  },
  {
   "cell_type": "code",
   "execution_count": 11,
   "metadata": {},
   "outputs": [
    {
     "data": {
      "text/plain": [
       "True"
      ]
     },
     "execution_count": 11,
     "metadata": {},
     "output_type": "execute_result"
    }
   ],
   "source": [
    "'abc'.islower()"
   ]
  },
  {
   "cell_type": "code",
   "execution_count": 12,
   "metadata": {},
   "outputs": [
    {
     "data": {
      "text/plain": [
       "True"
      ]
     },
     "execution_count": 12,
     "metadata": {},
     "output_type": "execute_result"
    }
   ],
   "source": [
    "'ABC'.isupper()"
   ]
  },
  {
   "cell_type": "markdown",
   "metadata": {},
   "source": [
    "<div dir=\"rtl\" style=\"line-height:300%;\"><font face=\"XB Nazanin\" size=5>\n",
    "    برخی دیگر از توابع نیز هستند که می‌توان از آنها استفاده کرد و کاربرد های خود را دارند:\n",
    "    \n",
    "</font>\n",
    "</div>"
   ]
  },
  {
   "cell_type": "code",
   "execution_count": 20,
   "metadata": {},
   "outputs": [
    {
     "data": {
      "text/plain": [
       "['uberraschung', 'ist', 'schon']"
      ]
     },
     "execution_count": 20,
     "metadata": {},
     "output_type": "execute_result"
    }
   ],
   "source": [
    "'uberraschung ist schon'.split()"
   ]
  },
  {
   "cell_type": "markdown",
   "metadata": {},
   "source": [
    "<div dir=\"rtl\" style=\"line-height:300%;\"><font face=\"XB Nazanin\" size=5>\n",
    "    در دستور بالا تابع split را داریم که با استفاده از آن می‌توانیم یک جمله را به صورت کلمه کلمه و یا با استفاده از کاراکتر یا زیررشته دلخواه جدا کنیم.\n",
    "    برای مثال جدا سازی کاراکتری به نمونه زیر توجه کنید:\n",
    "</font>\n",
    "</div>"
   ]
  },
  {
   "cell_type": "code",
   "execution_count": 21,
   "metadata": {},
   "outputs": [
    {
     "data": {
      "text/plain": [
       "[\"let's see \", ' can we do with this sentence? ', '? ', ' can we create?']"
      ]
     },
     "execution_count": 21,
     "metadata": {},
     "output_type": "execute_result"
    }
   ],
   "source": [
    "\"let's see what can we do with this sentence? what? what can we create?\".split('what')"
   ]
  },
  {
   "cell_type": "markdown",
   "metadata": {},
   "source": [
    "<div dir=\"rtl\" style=\"line-height:300%;\"><font face=\"XB Nazanin\" size=5>\n",
    "    حالت معمول برای استفاده از کاراکترها برای جدا سازی، قرار دادن کاراکترهای علامت‌های پایانی به عنوان کاراکتر جداسازی هست؛ ولی همانطور که در بالا دیدیم هر چیزی قابل استفاده است.\n",
    "    <br>\n",
    "    خروجی این تابع یک لیست است که تمام زیر رشته های جدا شده را در یک لیست به شما تحویل می‌دهد. با لیست ها در فصل بعد بیشتر آشنا می‌شویم.\n",
    "    <br>\n",
    "    <br>\n",
    "    حال وقت آن است که تعدادی مثال از رشته ها با هم حل کنیم:\n",
    "    <br>\n",
    "    1.یک رشته را به صورت برعکس چاپ کنیم:\n",
    "</font>\n",
    "</div>"
   ]
  },
  {
   "cell_type": "code",
   "execution_count": 1,
   "metadata": {},
   "outputs": [
    {
     "name": "stdout",
     "output_type": "stream",
     "text": [
      "First approach: \n",
      "g f e d c b a \n",
      "Second approach: \n",
      "gfedcba\n"
     ]
    }
   ],
   "source": [
    "s = 'abcdefg'\n",
    "print('First approach: ')\n",
    "for i in range(len(s)-1,-1,-1):\n",
    "    print(s[i], end=' ')\n",
    "print()\n",
    "print('Second approach: ')\n",
    "print(s[::-1]) # اینجا میگوییم تمام رشته را به از -1 به عقب برود که در واقع همان آخرین مقدار است\n"
   ]
  },
  {
   "cell_type": "markdown",
   "metadata": {},
   "source": [
    "<div dir=\"rtl\" style=\"line-height:300%;\"><font face=\"XB Nazanin\" size=5>\n",
    "    2. اندازه یک رشته را بدون استفاده از تابع len به دست بیاورید:\n",
    "</font>\n",
    "</div>"
   ]
  },
  {
   "cell_type": "code",
   "execution_count": 2,
   "metadata": {},
   "outputs": [
    {
     "name": "stdout",
     "output_type": "stream",
     "text": [
      "length of String is 18\n"
     ]
    }
   ],
   "source": [
    "s = 'Python  Claassss !'\n",
    "counter = 0\n",
    "for ch in s:\n",
    "    counter+=1 # same as --> counter=counter+1\n",
    "print('length of String is '+str(counter))"
   ]
  },
  {
   "cell_type": "markdown",
   "metadata": {},
   "source": [
    "<div dir=\"rtl\" style=\"line-height:300%;\"><font face=\"XB Nazanin\" size=5>\n",
    "    3. تابعی برای پیدا کردن تعداد یک کاراکتر خاص در رشته بدون استفاده از تابع آماده:\n",
    "</font>\n",
    "</div>"
   ]
  },
  {
   "cell_type": "code",
   "execution_count": 5,
   "metadata": {},
   "outputs": [
    {
     "name": "stdout",
     "output_type": "stream",
     "text": [
      "Count of character 'a' in this sentence is 10\n"
     ]
    }
   ],
   "source": [
    "s = 'aaa, This is a sentence with a lot of a, aaaa.'\n",
    "def countCharacter(char):\n",
    "    counter = 0\n",
    "    for ch in s:\n",
    "        if ch==char:\n",
    "            counter+=1 # same as --> counter=counter+1\n",
    "    print('Count of character \\''+char+'\\' in this sentence is '+str(counter))\n",
    "    # \\' is a way to add ' in a string defined with ''\n",
    "countCharacter('a')"
   ]
  },
  {
   "cell_type": "markdown",
   "metadata": {},
   "source": [
    "<div dir=\"rtl\" style=\"line-height:300%;\"><font face=\"XB Nazanin\" size=5>\n",
    "    4. چک کنیم که یک رشته متقارن است یا خیر:\n",
    "    <br>\n",
    "    <font size=4>\n",
    "    در راه حل زیر نوع پیچیده تری از برنامه نویسی را می‌بینید.\n",
    "    برای بررسی متقارن بودن یا نبودن از یک بولین (boolean) استفاده شده است.\n",
    "    برای چاپ نیز از یک روش یک خطی جهت بررسی بولین بالا استفاده شده است که if و else را یکجا در خود دارد.\n",
    "    در حال حاضر نیاز به یادگیری این روش و فهم آن نیست اما بد نیست بدانیم روش‌های دیگری نیز برای کد زدن هستند.\n",
    "    </font>\n",
    "</font>\n",
    "</div>"
   ]
  },
  {
   "cell_type": "code",
   "execution_count": 7,
   "metadata": {},
   "outputs": [
    {
     "name": "stdout",
     "output_type": "stream",
     "text": [
      "\"asdsa\" is Palindrome\n"
     ]
    }
   ],
   "source": [
    "snt = s = 'asdsa'\n",
    "\n",
    "isPalindrome = True\n",
    "while len(s)>1:\n",
    "    if s[-1]!=s[0]:\n",
    "        isPalindrome = False\n",
    "        break\n",
    "    s = s[1:-1]\n",
    "print('\"'+snt+'\" is Palindrome') if isPalindrome else print('\"'+snt+'\" is not Palindrome')\n",
    "        "
   ]
  },
  {
   "cell_type": "markdown",
   "metadata": {},
   "source": [
    "<div dir=\"rtl\" style=\"line-height:300%;\"><font face=\"XB Nazanin\" size=5>\n",
    "    مثال های بسیاری در مورد رشته‌ها وجود دارند که می‌توانید خود آنها را حل کنید.\n",
    "    با یک سرچ کوچک در گوگل می‌توانید به تعداد بسیاری منبع دسترسی پیدا کنید که در آنها مثال‌های حل شده یافت می‌شوند.\n",
    "    در اینجا به همین چند مثال بسنده می‌کنیم.\n",
    "    <br>\n",
    "    در فصل آینده با لیست‌ها و تاپل‌ها آشنا می‌شویم و مثال‌های مختلف از آنها را می‌بینیم.\n",
    "    <br>\n",
    "    </font>\n",
    "<font color=#C31330 size=4>\n",
    "<a  href=\"#menu\">بازگشت به فهرست اصلی</a>\n",
    "</font>\n",
    "</div>"
   ]
  },
  {
   "cell_type": "markdown",
   "metadata": {},
   "source": [
    "<div dir=\"rtl\" style=\"line-height:300%;\"><font face=\"XB Nazanin\" size=5>\n",
    "    <font color=135FC3 size=6>\n",
    "<p></p>\n",
    "<div dir=\"rtl\" align=center><a  name=\"section9\" href=\"#menu\">فصل 9: ساختارهای تاپل و لیست (List, Tuples) و ماتریس</a></div>\n",
    "</font>\n",
    "<font color=#C31330>\n",
    "مقدمه\n",
    "</font><p></p>\n",
    "    در این فصل با مفهوم های پیچیده تری در زبان برنامه نویسی پایتون آشنا می‌شویم. لیست‌ها و تاپل‌ها کاربردهای بسیاری در برنامه نویسی دارند و در موارد مختلف از آنها استفاده می‌شود. در فصل قبل نیز مشاهده کردیم که برای جدا کردن اجزای یک جمله یا متن از متدی استفاده می‌شود که داده‌ها را در نهایت در یک لیست می‌ریزد.\n",
    "    <br>\n",
    "    در این فصل با زیر بخش‌های آشنا می‌شویم:\n",
    "    <br>\n",
    "    <a  name=\"section9menu\">فهرست این فصل:</a>\n",
    "    <ol>\n",
    "     <li><a  href=\"#sub1sec9\">لیست</a></li>\n",
    "     <li><a  href=\"#sub2sec9\">تاپل</a></li>\n",
    "     <li><a  href=\"#sub3sec9\">لیست و تاپل تودرتو و ماتریس</a></li>\n",
    "    </ol>\n",
    "</font>\n",
    "</div>"
   ]
  },
  {
   "cell_type": "markdown",
   "metadata": {},
   "source": [
    "<div dir=\"rtl\" style=\"line-height:300%;\"><font face=\"XB Nazanin\" size=5>\n",
    "<font color=#C31330 size=5>\n",
    "<p></p>\n",
    "<div align=center><a name=\"sub1sec9\">لیست</a></div></font>\n",
    "<p></p>\n",
    "    لیست‌ها یک کلاس از پیش تعریف شده در پایتون هستند که دارای ویژگی تکرار هستند.\n",
    "    به این معنا که در یک لیست می‌توان تعداد زیادی متغیر از هر نوع داشت.\n",
    "    برای تعریف آنها می‌توان از دو روش استفاده کرد که با هم در ادامه می‌بینیم.\n",
    "    <br>\n",
    "    این نکته را در خاطر داشته باشید که برای ذخیره لیست‌ها نیز، مانند هر متغیر دیگری نیاز به تعریف آنها با یک نام هست:\n",
    "</font>\n",
    "<br>\n",
    "<font color=#C31330>\n",
    "<a  href=\"#section9menu\">بازگشت به فهرست</a>\n",
    "</font></div>"
   ]
  },
  {
   "cell_type": "code",
   "execution_count": 2,
   "metadata": {},
   "outputs": [
    {
     "name": "stdout",
     "output_type": "stream",
     "text": [
      "l1 is  [1, 2, 3, 4]\n",
      "l2 is  [0, 1, 2, 3]\n"
     ]
    }
   ],
   "source": [
    "l1 = [1,2,3,4]# روش معمول تر برای تعریف یک لیست از پایه\n",
    "print('l1 is ',l1)\n",
    "l2 = list(range(4))# اینجا رینج را تبدیل به یک لیست کرده ایم. رینج خود یک ویژگی جدا است و با لیست متفاوت است\n",
    "print('l2 is ',l2)"
   ]
  },
  {
   "cell_type": "code",
   "execution_count": 10,
   "metadata": {},
   "outputs": [
    {
     "name": "stdout",
     "output_type": "stream",
     "text": [
      "[]\n"
     ]
    }
   ],
   "source": [
    "# تعریف یک لیست خالی\n",
    "l3 = []\n",
    "print(l3)"
   ]
  },
  {
   "cell_type": "code",
   "execution_count": 11,
   "metadata": {},
   "outputs": [
    {
     "name": "stdout",
     "output_type": "stream",
     "text": [
      "['an element', 'another element', 2, 13, 1.618]\n"
     ]
    }
   ],
   "source": [
    "# حال به لیست حالی مقدار اضافه میکنیم\n",
    "l3.append('an element')\n",
    "l3.append('another element')\n",
    "l3.append(2)\n",
    "l3.append(13)\n",
    "l3.append(1.618)\n",
    "print(l3)"
   ]
  },
  {
   "cell_type": "markdown",
   "metadata": {},
   "source": [
    "<div dir=\"rtl\" style=\"line-height:300%;\"><font face=\"XB Nazanin\" size=5>\n",
    "<p></p>\n",
    "    تابع append برای اضافه کردن المان در لیست ساخته شده و به راحتی هر نوع متغیری را به لیست اضافه می‌کند.\n",
    "    همانطور که در متغیرهای رشته ای نیز دیدیم، متغیرهای لیستی نیز دارای تعداد بسیاری توابع داخلی هستند که در ادامه با برخی از آنها آشنا می‌شویم:\n",
    "    <br>\n",
    "    این کار را با لیست l3 که در بالا تعریف کردیم ادامه می‌دهیم.\n",
    "    <font color=#C31330>\n",
    "    توجه داشته باشید که پس از تعریف یک متغیر و اجرای آن در یک session، تا زمان بستن آن session و یا ری استارت کردن کرنل آن متغیر قابل استفاده است. \n",
    "    </font>\n",
    "</font>\n",
    "</div>"
   ]
  },
  {
   "cell_type": "code",
   "execution_count": 12,
   "metadata": {},
   "outputs": [
    {
     "name": "stdout",
     "output_type": "stream",
     "text": [
      "['an element', 'another element', 2, 1.618]\n"
     ]
    }
   ],
   "source": [
    "l3.remove(13) #حذف یک المان خاص از لیست\n",
    "print(l3)"
   ]
  },
  {
   "cell_type": "code",
   "execution_count": 13,
   "metadata": {},
   "outputs": [
    {
     "ename": "ValueError",
     "evalue": "list.remove(x): x not in list",
     "output_type": "error",
     "traceback": [
      "\u001b[1;31m---------------------------------------------------------------------------\u001b[0m",
      "\u001b[1;31mValueError\u001b[0m                                Traceback (most recent call last)",
      "\u001b[1;32m<ipython-input-13-bc9b9c8fe723>\u001b[0m in \u001b[0;36m<module>\u001b[1;34m\u001b[0m\n\u001b[1;32m----> 1\u001b[1;33m \u001b[0ml3\u001b[0m\u001b[1;33m.\u001b[0m\u001b[0mremove\u001b[0m\u001b[1;33m(\u001b[0m\u001b[1;36m13\u001b[0m\u001b[1;33m)\u001b[0m \u001b[1;31m#\u001b[0m\u001b[1;33m\u001b[0m\u001b[1;33m\u001b[0m\u001b[0m\n\u001b[0m\u001b[0;32m      2\u001b[0m \u001b[0mprint\u001b[0m\u001b[1;33m(\u001b[0m\u001b[0ml3\u001b[0m\u001b[1;33m)\u001b[0m\u001b[1;33m\u001b[0m\u001b[1;33m\u001b[0m\u001b[0m\n",
      "\u001b[1;31mValueError\u001b[0m: list.remove(x): x not in list"
     ]
    }
   ],
   "source": [
    "l3.remove(13) # اگر چیزی که در لیست نیست را حذف کنیم به ارور بر میخوریم\n",
    "print(l3)"
   ]
  },
  {
   "cell_type": "code",
   "execution_count": 14,
   "metadata": {},
   "outputs": [
    {
     "name": "stdout",
     "output_type": "stream",
     "text": [
      "1.618\n",
      "['an element', 'another element', 2]\n"
     ]
    }
   ],
   "source": [
    "print(l3.pop()) # این دستور اخرین مقدار لیست را از آن خارج میکند و به عنوان یک مقدار به شما میدهد\n",
    "print(l3)"
   ]
  },
  {
   "cell_type": "code",
   "execution_count": 15,
   "metadata": {},
   "outputs": [
    {
     "name": "stdout",
     "output_type": "stream",
     "text": [
      "['an element', 'another element', 2, 3.14, 2, 2]\n",
      "There is 3 2s in l3.\n"
     ]
    }
   ],
   "source": [
    "l3.append(3.14)\n",
    "l3.append(2)\n",
    "l3.append(2)\n",
    "print(l3)\n",
    "# میتوانید تعداد یک مقدار را در لیست جست و جو کنید\n",
    "print('There is',l3.count(2),'2s in l3.')"
   ]
  },
  {
   "cell_type": "code",
   "execution_count": 16,
   "metadata": {},
   "outputs": [
    {
     "data": {
      "text/plain": [
       "2"
      ]
     },
     "execution_count": 16,
     "metadata": {},
     "output_type": "execute_result"
    }
   ],
   "source": [
    "l3.index(2) # مقدار اولین بار دیده شدنِ المانی که در ورودی برای آن مشخص کرده اید را برمیگرداند"
   ]
  },
  {
   "cell_type": "markdown",
   "metadata": {},
   "source": [
    "<div dir=\"rtl\" style=\"line-height:300%;\"><font face=\"XB Nazanin\" size=5>\n",
    "<p></p>\n",
    "    تا اینجا با برخی توابع داخلی لیست آشنا شدیم. دیگر توابع هستند که برخی از آنها را در ادامه می‌بینیم و باقی را می‌توانید خود با استفاده از \n",
    "    <font color=#C31330>\n",
    "    کلید های کمکی\n",
    "    </font>\n",
    "    در ژوپیتر ببینید و یا گوگل کنید.\n",
    "    <br>\n",
    "    کلید های کمکی به صورت زیر است.\n",
    "    <br>\n",
    "    نام مد نظر را می‌زنید برای مثال l3 و پس از گذاشتن . جلوی آن دکمه \n",
    "    <font color=#C31330>\n",
    "    shift + tab\n",
    "    </font>\n",
    "    را میزنید.\n",
    "    در این حالت انتخاب هایی که دارید به شما نمایش داده می‌شود و توابعی که برای آن کلاس تعریف شده است به شما نمایش داده می‌شود.\n",
    "    <br>\n",
    "    حال اگر بخواهیم به یک لیست تعدادی بیشتر از یک مقدار را اضافه کنیم به صورت زیر عمل می‌کنیم:\n",
    "</font>\n",
    "</div>"
   ]
  },
  {
   "cell_type": "code",
   "execution_count": 17,
   "metadata": {},
   "outputs": [
    {
     "name": "stdout",
     "output_type": "stream",
     "text": [
      "['an element', 'another element', 2, 3.14, 2, 2, 1.618, 123, 56, 26]\n"
     ]
    }
   ],
   "source": [
    "l3.extend([1.618, 123, 56, 26])\n",
    "print(l3)"
   ]
  },
  {
   "cell_type": "code",
   "execution_count": 18,
   "metadata": {},
   "outputs": [],
   "source": [
    "# or you can go with this method\n",
    "l3 = l3 + [1.618, 123, 56, 26]"
   ]
  },
  {
   "cell_type": "code",
   "execution_count": 19,
   "metadata": {},
   "outputs": [
    {
     "name": "stdout",
     "output_type": "stream",
     "text": [
      "['an element', 'another element', 2, 3.14, 2, 2, 1.618, 123, 56, 26, 1.618, 123, 56, 26]\n"
     ]
    }
   ],
   "source": [
    "print(l3)"
   ]
  },
  {
   "cell_type": "markdown",
   "metadata": {},
   "source": [
    "<div dir=\"rtl\" style=\"line-height:300%;\"><font face=\"XB Nazanin\" size=5>\n",
    "<p></p>\n",
    "    اما تا اینجا صرفا با توابع لیست آشنا شدیم و همانطور که متوجه شدید بسیار مشابه با رشته است.\n",
    "    در رشته ها هر یک از کارکترها یک المان از رشته کامل حساب می‌شوند.\n",
    "    تفاوت اصلی رشته و لیست در قابلیت تغییر در المان ها پس از تعریف آن است.\n",
    "    به این مفهوم mutability می‌گویند.\n",
    "    یک رشته immutable است اما یک لیست mutable است.\n",
    "    <br>\n",
    "    حال جا دارد که دسترسی به یک عضو و چگونگی تغییر آن را ببینیم:\n",
    "</font>\n",
    "</div>"
   ]
  },
  {
   "cell_type": "code",
   "execution_count": 22,
   "metadata": {},
   "outputs": [
    {
     "name": "stdout",
     "output_type": "stream",
     "text": [
      "first element of l3 is: an element\n",
      "The second one is: another element\n"
     ]
    }
   ],
   "source": [
    "print('first element of l3 is:', l3[0])\n",
    "print('The second one is:',l3[1])"
   ]
  },
  {
   "cell_type": "markdown",
   "metadata": {},
   "source": [
    "<div dir=\"rtl\" style=\"line-height:300%;\"><font face=\"XB Nazanin\" size=5>\n",
    "<p></p>\n",
    "    بنابراین تنها با نوشتن کروشه باز و بسته و قرار دادن عدد مکانی آنها می‌توانیم به متغیر مورد نظر دسترسی پیدا کنیم.\n",
    "    <br>\n",
    "    <font color=#C31330>\n",
    "    توجه کنید که درلیست ها، جایگاه از 0 شروع می‌شود. بنابراین عدد مکان مقدار اول برابر 0 است.\n",
    "    </font>\n",
    "    <br>\n",
    "    <font color=#C31330>\n",
    "        نکته دیگری که باید توجه شود توانایی استفاده از اعداد منفی برای دسترسی به داده از انتهای لیست است.\n",
    "    </font>\n",
    "    به مثال زیر دقت کنید:\n",
    "</font>\n",
    "</div>"
   ]
  },
  {
   "cell_type": "code",
   "execution_count": 24,
   "metadata": {},
   "outputs": [
    {
     "name": "stdout",
     "output_type": "stream",
     "text": [
      "['an element', 'another element', 2, 3.14, 2, 2, 1.618, 123, 56, 26, 1.618, 123, 56, 26]\n",
      "Last element is: 26\n"
     ]
    }
   ],
   "source": [
    "print(l3)\n",
    "print('Last element is:',l3[-1])"
   ]
  },
  {
   "cell_type": "markdown",
   "metadata": {},
   "source": [
    "<div dir=\"rtl\" style=\"line-height:300%;\"><font face=\"XB Nazanin\" size=5>\n",
    "<p></p>\n",
    "    همانطور که می‌بینید 1- مقدار آخر لیست است، به همین ترتیب باقی نیز از طریق اعداد منفی قابل دسترسی هستند.\n",
    "    <br>\n",
    "    اما اگر بخواهیم یک مقدار خاص در لیست را تغییر بدهیم کافی است بگوییم در جایگاهی که آن مقدار قرار دارن چیز دیگری جایگزین شود.\n",
    "</font>\n",
    "</div>"
   ]
  },
  {
   "cell_type": "code",
   "execution_count": 27,
   "metadata": {},
   "outputs": [
    {
     "name": "stdout",
     "output_type": "stream",
     "text": [
      "previous one:  ['an element', 'another element', 2, 3.14, 2, 2, 1.618, 123, 56, 26, 1.618, 123, 56, 26]\n",
      "after change:  ['an element', 'another element', 'changing 2 to this', 3.14, 2, 2, 1.618, 123, 56, 26, 1.618, 123, 56, 26]\n"
     ]
    }
   ],
   "source": [
    "print('previous one: ',l3)\n",
    "l3[2] = 'changing 2 to this'\n",
    "print('after change: ',l3)"
   ]
  },
  {
   "cell_type": "markdown",
   "metadata": {},
   "source": [
    "<div dir=\"rtl\" style=\"line-height:300%;\"><font face=\"XB Nazanin\" size=5>\n",
    "<p></p>\n",
    "    مرتب کردن و برعکس کردن نیز از توابعی است که به صورت پیش فرض برای لیست ها تعریف شده است:\n",
    "</font>\n",
    "</div>"
   ]
  },
  {
   "cell_type": "code",
   "execution_count": 30,
   "metadata": {},
   "outputs": [
    {
     "name": "stdout",
     "output_type": "stream",
     "text": [
      "[45, 9, 3, 7, 1, 5, 2]\n"
     ]
    }
   ],
   "source": [
    "l4 = [2,5,1,7,3,9,45]\n",
    "l4.reverse()\n",
    "print(l4)"
   ]
  },
  {
   "cell_type": "code",
   "execution_count": 31,
   "metadata": {},
   "outputs": [
    {
     "name": "stdout",
     "output_type": "stream",
     "text": [
      "[1, 2, 3, 5, 7, 9, 45]\n"
     ]
    }
   ],
   "source": [
    "l4.sort()\n",
    "print(l4)"
   ]
  },
  {
   "cell_type": "markdown",
   "metadata": {},
   "source": [
    "<div dir=\"rtl\" style=\"line-height:300%;\"><font face=\"XB Nazanin\" size=5>\n",
    "<p></p>\n",
    "    همانطور که می‌بینید این دو تابع برروی خود لیست تغییرات می‌دهد و اگر آنها را پرینت کنید ورودی null می‌دهند زیرا هیچ return ای برای آنها تعریف نشده است.\n",
    "    <br>\n",
    "    حال چند مثال را با هم حل می‌کنیم:\n",
    "    <br>\n",
    "    1. برنامه ای که مقدار اول و آخر یک لیست را با هم جا به جا کند:\n",
    "</font>\n",
    "</div>"
   ]
  },
  {
   "cell_type": "code",
   "execution_count": 32,
   "metadata": {},
   "outputs": [
    {
     "name": "stdout",
     "output_type": "stream",
     "text": [
      "[1, 4, 6, 3, 5, 2, 9, 7]\n"
     ]
    }
   ],
   "source": [
    "l = [7,4,6,3,5,2,9,1]\n",
    "temp = l[0]# مقدار اول را در یک متغیر موقت قرار میدهیم\n",
    "l[0] = l[-1]# مقدار اخر را در مقدار اول میگذاریم\n",
    "l[-1] = temp# مقدار موقت را در مقدار آخر میگذاریم\n",
    "print(l)"
   ]
  },
  {
   "cell_type": "code",
   "execution_count": 33,
   "metadata": {},
   "outputs": [
    {
     "name": "stdout",
     "output_type": "stream",
     "text": [
      "[1, 4, 6, 3, 5, 2, 9, 7]\n"
     ]
    }
   ],
   "source": [
    "l = [7,4,6,3,5,2,9,1]\n",
    "l[0],l[-1] = l[-1],l[0] # یکجا و قبل تغییر مقدار اول را در مقدار آخر و مقدار آخر را در مقدار اول میگذاریم\n",
    "print(l)"
   ]
  },
  {
   "cell_type": "markdown",
   "metadata": {},
   "source": [
    "<div dir=\"rtl\" style=\"line-height:300%;\"><font face=\"XB Nazanin\" size=5>\n",
    "<p></p>\n",
    "    کد بالا با استفاده از ویژگی های پایتون امکان پذیر است و کد نویسی را بسیار راحت تر می‌کند.\n",
    "    <br>\n",
    "    2. اندازه گیری تعداد المان ها در یک لیست:\n",
    "</font>\n",
    "</div>"
   ]
  },
  {
   "cell_type": "code",
   "execution_count": 34,
   "metadata": {},
   "outputs": [
    {
     "name": "stdout",
     "output_type": "stream",
     "text": [
      "Length of the list is 8\n"
     ]
    }
   ],
   "source": [
    "l = [7,4,6,3,5,2,9,1]\n",
    "counter = 0\n",
    "for x in l: # you can go into a list element by element like this\n",
    "    counter= counter+1\n",
    "print('Length of the list is',counter)"
   ]
  },
  {
   "cell_type": "code",
   "execution_count": 35,
   "metadata": {},
   "outputs": [
    {
     "data": {
      "text/plain": [
       "8"
      ]
     },
     "execution_count": 35,
     "metadata": {},
     "output_type": "execute_result"
    }
   ],
   "source": [
    "# ! with defult defs:\n",
    "len(l)"
   ]
  },
  {
   "cell_type": "markdown",
   "metadata": {},
   "source": [
    "<div dir=\"rtl\" style=\"line-height:300%;\"><font face=\"XB Nazanin\" size=5>\n",
    "<p></p>\n",
    "    3.اعداد فرد در یک لیست را نمایش دهید:\n",
    "</font>\n",
    "</div>"
   ]
  },
  {
   "cell_type": "code",
   "execution_count": 36,
   "metadata": {},
   "outputs": [
    {
     "name": "stdout",
     "output_type": "stream",
     "text": [
      "7\n",
      "3\n",
      "5\n",
      "9\n",
      "1\n"
     ]
    }
   ],
   "source": [
    "l = [7,4,6,3,5,2,9,1]\n",
    "for x in l:\n",
    "    if x%2==1:\n",
    "        print(x)"
   ]
  },
  {
   "cell_type": "code",
   "execution_count": 37,
   "metadata": {},
   "outputs": [
    {
     "name": "stdout",
     "output_type": "stream",
     "text": [
      "7\n",
      "3\n",
      "5\n",
      "9\n",
      "1\n"
     ]
    }
   ],
   "source": [
    "l = [7,4,6,3,5,2,9,1]\n",
    "# دسترسی مستقیم به مقادیر با استفاده از حلقه زیر امکانپذیر است\n",
    "for i in range(len(l)):\n",
    "    if l[i]%2==1:\n",
    "        print(l[i])"
   ]
  },
  {
   "cell_type": "markdown",
   "metadata": {},
   "source": [
    "<div dir=\"rtl\" style=\"line-height:300%;\"><font face=\"XB Nazanin\" size=5>\n",
    "<p></p>\n",
    "    <br>\n",
    "    4. مقادیر لیست را یکی در میان منفی کنید:\n",
    "</font>\n",
    "</div>"
   ]
  },
  {
   "cell_type": "code",
   "execution_count": 38,
   "metadata": {},
   "outputs": [
    {
     "name": "stdout",
     "output_type": "stream",
     "text": [
      "[7, -4, 6, -3, 5, -2, 9, -1]\n"
     ]
    }
   ],
   "source": [
    "l = [7,4,6,3,5,2,9,1]\n",
    "for i in range(len(l)):\n",
    "    if i%2==1:\n",
    "        l[i] = -l[i]\n",
    "print(l)"
   ]
  },
  {
   "cell_type": "markdown",
   "metadata": {},
   "source": [
    "<div dir=\"rtl\" style=\"line-height:300%;\"><font face=\"XB Nazanin\" size=5>\n",
    "<font color=#C31330 size=5>\n",
    "<p></p>\n",
    "<div align=center><a name=\"sub2sec9\">تاپل</a></div></font>\n",
    "<p></p>\n",
    "    اما پس از آشنایی با لیست، لازم است با تاپل ها نیز آشنا شویم.\n",
    "    تاپل بسیار شبیه به لیست است اما تفاوتی که دارد این است که مانند رشته، پس از تعریف غیرقابل تغییر یا immutable است.\n",
    "    برای تعریف آن از پرانتز استفاده می‌شود.\n",
    "    مانند لیست می‌تواند شامل هر نوع متغیری درون خود باشد.\n",
    "    <br>\n",
    "    چند نمونه از تاپل و توابع آن را در زیر می‌بینیم:\n",
    "</font>\n",
    "<br>\n",
    "<a  href=\"#section9menu\">بازگشت به فهرست</a>\n",
    "</div>"
   ]
  },
  {
   "cell_type": "code",
   "execution_count": 2,
   "metadata": {},
   "outputs": [
    {
     "name": "stdout",
     "output_type": "stream",
     "text": [
      "tup1: (1, 2, 3, 4)\n",
      "tup2: ('elem1', 'elem2', 'elem3')\n",
      "tup3: ('math', 12, 'science', 18.25)\n"
     ]
    }
   ],
   "source": [
    "tup1 = (1,2,3,4)\n",
    "print(\"tup1:\", tup1)\n",
    "tup2 = ('elem1', 'elem2','elem3')\n",
    "print('tup2:',tup2)\n",
    "tup3 = ('math',12,'science',18.25)\n",
    "print('tup3:',tup3)"
   ]
  },
  {
   "cell_type": "code",
   "execution_count": 3,
   "metadata": {},
   "outputs": [
    {
     "name": "stdout",
     "output_type": "stream",
     "text": [
      "<class 'tuple'>\n"
     ]
    }
   ],
   "source": [
    "# empty tuple:\n",
    "tup4 = ()\n",
    "print(type(tup4))"
   ]
  },
  {
   "cell_type": "code",
   "execution_count": 5,
   "metadata": {},
   "outputs": [
    {
     "name": "stdout",
     "output_type": "stream",
     "text": [
      "type tup5: <class 'int'>\n",
      "type tup5: <class 'tuple'>\n"
     ]
    }
   ],
   "source": [
    "# tuple with one emelent: !do not do this\n",
    "tup5 = (21)\n",
    "print('type tup5:',type(tup5))\n",
    "\n",
    "# do this\n",
    "tup5 = (21,)\n",
    "print('type tup5:',type(tup5))"
   ]
  },
  {
   "cell_type": "code",
   "execution_count": 7,
   "metadata": {},
   "outputs": [
    {
     "name": "stdout",
     "output_type": "stream",
     "text": [
      "tup[1:3]: (12, 'science')\n"
     ]
    }
   ],
   "source": [
    "#گرفتن بخش خاصی از تاپل\n",
    "tup3 = ('math',12,'science',18.25)\n",
    "print('tup[1:3]:', tup3[1:3])"
   ]
  },
  {
   "cell_type": "code",
   "execution_count": 9,
   "metadata": {},
   "outputs": [
    {
     "name": "stdout",
     "output_type": "stream",
     "text": [
      "tup6 (tup1 + tup2): (1, 2, 3, 4, 'elem1', 'elem2', 'elem3')\n"
     ]
    }
   ],
   "source": [
    "# افزودن دو تاپل به هم\n",
    "tup6 = tup1 + tup2\n",
    "print('tup6 (tup1 + tup2):',tup6)"
   ]
  },
  {
   "cell_type": "code",
   "execution_count": 10,
   "metadata": {},
   "outputs": [
    {
     "data": {
      "text/plain": [
       "1"
      ]
     },
     "execution_count": 10,
     "metadata": {},
     "output_type": "execute_result"
    }
   ],
   "source": [
    "#میتوانید به یک مقدار دسترسی پیدا کنید\n",
    "tup6[0]"
   ]
  },
  {
   "cell_type": "code",
   "execution_count": 11,
   "metadata": {},
   "outputs": [
    {
     "ename": "TypeError",
     "evalue": "'tuple' object does not support item assignment",
     "output_type": "error",
     "traceback": [
      "\u001b[1;31m---------------------------------------------------------------------------\u001b[0m",
      "\u001b[1;31mTypeError\u001b[0m                                 Traceback (most recent call last)",
      "\u001b[1;32m<ipython-input-11-68882d828b54>\u001b[0m in \u001b[0;36m<module>\u001b[1;34m\u001b[0m\n\u001b[0;32m      1\u001b[0m \u001b[1;31m#\u001b[0m\u001b[1;33m\u001b[0m\u001b[1;33m\u001b[0m\u001b[1;33m\u001b[0m\u001b[0m\n\u001b[1;32m----> 2\u001b[1;33m \u001b[0mtup6\u001b[0m\u001b[1;33m[\u001b[0m\u001b[1;36m0\u001b[0m\u001b[1;33m]\u001b[0m \u001b[1;33m=\u001b[0m \u001b[1;36m2\u001b[0m\u001b[1;33m\u001b[0m\u001b[1;33m\u001b[0m\u001b[0m\n\u001b[0m",
      "\u001b[1;31mTypeError\u001b[0m: 'tuple' object does not support item assignment"
     ]
    }
   ],
   "source": [
    "# اما نمیتوانید آن را تغییر دهید\n",
    "tup6[0] = 2"
   ]
  },
  {
   "cell_type": "code",
   "execution_count": 12,
   "metadata": {},
   "outputs": [
    {
     "data": {
      "text/plain": [
       "1"
      ]
     },
     "execution_count": 12,
     "metadata": {},
     "output_type": "execute_result"
    }
   ],
   "source": [
    "# برگرداندن تعداد یک مقدار خاص که در تاپل موجود است.\n",
    "tup6.count(2)"
   ]
  },
  {
   "cell_type": "code",
   "execution_count": 14,
   "metadata": {},
   "outputs": [
    {
     "data": {
      "text/plain": [
       "2"
      ]
     },
     "execution_count": 14,
     "metadata": {},
     "output_type": "execute_result"
    }
   ],
   "source": [
    "# برگرداندن اندیس یک مقدار که در تاپل وجود دارد\n",
    "tup6.index(3)"
   ]
  },
  {
   "cell_type": "markdown",
   "metadata": {},
   "source": [
    "<div dir=\"rtl\" style=\"line-height:300%;\"><font face=\"XB Nazanin\" size=5>\n",
    "<p></p>\n",
    "    در تاپل ها نمی‌توان مقداری را حذف کرد اما می‌توان همیشه با join دو تاپل به هم و ساخت تاپل جدید مقادیر را اضافه و کم کرد.\n",
    "    اضافه کردن یک مقدار به میان یک تاپل به صورت زیر انجام می‌شود.\n",
    "<br>\n",
    "    اما اگر بخواهیم با همین روش یک مقدار را حذف کنیم چه؟ پاسخ این پرسش با شما.\n",
    "</font>\n",
    "</div>"
   ]
  },
  {
   "cell_type": "code",
   "execution_count": 16,
   "metadata": {},
   "outputs": [
    {
     "name": "stdout",
     "output_type": "stream",
     "text": [
      "old tup6 : (1, 2, 3, 4, 'elem1', 'elem2', 'elem3')\n",
      "tup6 after adding 5 to it : (1, 2, 3, 4, 5, 'elem1', 'elem2', 'elem3')\n"
     ]
    }
   ],
   "source": [
    "print('old tup6 :',tup6)\n",
    "tup6 = tup6[:4]+(5,)+tup6[4:]\n",
    "print('tup6 after adding 5 to it :', tup6)"
   ]
  },
  {
   "cell_type": "markdown",
   "metadata": {},
   "source": [
    "<div dir=\"rtl\" style=\"line-height:300%;\"><font face=\"XB Nazanin\" size=5>\n",
    "<p></p>\n",
    "    بنابراین تاپل ها نیز به همین سادگی به پایان رسیدند.\n",
    "</font>\n",
    "</div>\n",
    "<br>\n",
    "<br>\n",
    "<div dir=\"rtl\" style=\"line-height:300%;\"><font face=\"XB Nazanin\" size=5>\n",
    "<font color=#C31330 size=5>\n",
    "<p></p>\n",
    "<div align=center><a name=\"sub3sec9\">ماتریس ها و تاپل های تو در تو</a></div></font>\n",
    "<p></p>\n",
    "    پس از آشنایی با تاپل ها و لیست ها، نوبت به استفاده آن ها به صورت تودرتو می‌رسد.\n",
    "    چند مثال زیر به عنوان نمونه برنامه هایی از لیست ها و تاپل های تو در تو است.\n",
    "</font>\n",
    "<br>\n",
    "<a  href=\"#section9menu\">بازگشت به فهرست</a>\n",
    "</div>"
   ]
  },
  {
   "cell_type": "code",
   "execution_count": 19,
   "metadata": {},
   "outputs": [
    {
     "name": "stdout",
     "output_type": "stream",
     "text": [
      "[[1, 2, 3], [4, 5, 6]]\n"
     ]
    }
   ],
   "source": [
    "#1 تعریف یک ماتریس:\n",
    "mat1 = [[1,2,3],[4,5,6]]\n",
    "print(mat1)"
   ]
  },
  {
   "cell_type": "code",
   "execution_count": 20,
   "metadata": {},
   "outputs": [
    {
     "name": "stdout",
     "output_type": "stream",
     "text": [
      "First approach:\n",
      "1\t2\t3\t\n",
      "4\t5\t6\t\n",
      "-*--*--*--*--*--*--*--*--*--*-\n",
      "Second approach:\n",
      "1\t2\t3\t\n",
      "4\t5\t6\t\n"
     ]
    }
   ],
   "source": [
    "#2 چاپ یک ماتریس تعریف شده:\n",
    "mat1 = [[1,2,3],[4,5,6]]\n",
    "\n",
    "print('First approach:')\n",
    "for x in mat1:\n",
    "    for y in x:\n",
    "        print(y, end='\\t')\n",
    "    print()\n",
    "    \n",
    "print('-*-'*10)\n",
    "print('Second approach:')\n",
    "for i in range(len(mat1)):\n",
    "    for j in range(len(mat1[i])):\n",
    "        print(mat1[i][j], end='\\t')\n",
    "    print()"
   ]
  },
  {
   "cell_type": "code",
   "execution_count": 22,
   "metadata": {},
   "outputs": [
    {
     "name": "stdout",
     "output_type": "stream",
     "text": [
      "Would you like to proceed: yes\n",
      "Enter person's name: Mohammad\n",
      "Add the score: 10\n",
      "Would you like to proceed: yes\n",
      "Enter person's name: Yasaman\n",
      "Add the score: 16.5\n",
      "Would you like to proceed: yes\n",
      "Enter person's name: Sasan\n",
      "Add the score: 20\n",
      "Would you like to proceed: y\n",
      "Enter person's name: Mina\n",
      "Add the score: 20\n",
      "Would you like to proceed: y\n",
      "Enter person's name: Sina\n",
      "Add the score: 13.75\n",
      "Would you like to proceed: no\n",
      "[('Mohammad', 10.0), ('Yasaman', 16.5), ('Sasan', 20.0), ('Mina', 20.0), ('Sina', 13.75)]\n"
     ]
    }
   ],
   "source": [
    "#3 یک ماتریس تعریف کنید که اسم و معدل افراد را به صورت تاپل در خود داشته باشد\n",
    "#آن را از کاربر بگیرید :\n",
    "\n",
    "students = []\n",
    "while True:\n",
    "    inpt = input('Would you like to proceed: ')\n",
    "    if inpt in ['No','no','','n']:\n",
    "        break\n",
    "    name = input('Enter person\\'s name: ')\n",
    "    score = float(input('Add the score: '))\n",
    "    students.append((name,score))\n",
    "print(students)"
   ]
  },
  {
   "cell_type": "code",
   "execution_count": 23,
   "metadata": {},
   "outputs": [
    {
     "name": "stdout",
     "output_type": "stream",
     "text": [
      "m1+m2: [[1, 1, 1], [1, 1, 1], [1, 23, 41], [65, 12, 9]]\n",
      "The right answer is: [[2, 24, 42], [66, 13, 10]]\n"
     ]
    }
   ],
   "source": [
    "#4 دو ماتریس را با هم جمع کنید :\n",
    "m1 = [[1,1,1],[1,1,1]]\n",
    "m2 = [[1,23,41],[65,12,9]]\n",
    "\n",
    "# این کار را نکنید\n",
    "m3 = m1+m2\n",
    "print('m1+m2:',m3)\n",
    "\n",
    "#از این روش یا هر روش مشابه استفاده کنید\n",
    "m3 = []\n",
    "for i in range(len(m1)):\n",
    "    temp = []\n",
    "    for j in range(len(m1[i])):\n",
    "        temp.append(m1[i][j]+m2[i][j])\n",
    "    m3.append(temp)\n",
    "print('The right answer is:',m3)\n",
    "    "
   ]
  },
  {
   "cell_type": "code",
   "execution_count": 27,
   "metadata": {},
   "outputs": [
    {
     "name": "stdout",
     "output_type": "stream",
     "text": [
      "Enter n for nxn matrix: 2\n",
      "you value for row 0, col 0 : 1\n",
      "you value for row 0, col 1 : 2\n",
      "you value for row 1, col 0 : 3\n",
      "you value for row 1, col 1 : 4\n",
      "[[1.0, 2.0], [3.0, 4.0]]\n"
     ]
    }
   ],
   "source": [
    "#5 یک تابع بسازید که ماتریس مربعی با اندازه دلخواه بسازد :\n",
    "def matn(n):\n",
    "    mat = []\n",
    "    for i in range(n):\n",
    "        temp = []\n",
    "        for j in range(n):\n",
    "            inpt = float(input('you value for row %i, col %i : '%(i,j)))\n",
    "            temp.append(inpt)\n",
    "        mat.append(temp)\n",
    "    return mat\n",
    "\n",
    "n = int(input('Enter n for nxn matrix: '))\n",
    "yourMat = matn(n)\n",
    "print(yourMat)"
   ]
  },
  {
   "cell_type": "code",
   "execution_count": 32,
   "metadata": {},
   "outputs": [
    {
     "name": "stdout",
     "output_type": "stream",
     "text": [
      "{32, 1, 2, 65, 4, 35, 6, 12, 21}\n"
     ]
    }
   ],
   "source": [
    "### 6 مقادیر یک تاپل تو در تو را نشان دهید\n",
    "# اینجا مقادیر منحصر به فرد مد نظر است بنابراین از مجموعه استفاده کنید :\n",
    "tup = ((2,1),(2,4),(21,4),(32,65),(35,4),(6,12))\n",
    "\n",
    "myNumbers = []\n",
    "for x,y in tup:\n",
    "    myNumbers = myNumbers + [x,y]\n",
    "mySet = set(myNumbers)\n",
    "print(mySet)"
   ]
  },
  {
   "cell_type": "code",
   "execution_count": 33,
   "metadata": {},
   "outputs": [
    {
     "name": "stdout",
     "output_type": "stream",
     "text": [
      "{32, 1, 2, 65, 4, 35, 12, 46, 21}\n"
     ]
    }
   ],
   "source": [
    "# نمونه دیگری از مثال بالا\n",
    "tup = ((2,1),(2,4,21,4),(32,65),(35,46,12))\n",
    "\n",
    "myNumbers = []\n",
    "for t in tup:\n",
    "    myNumbers = myNumbers + list(t)\n",
    "mySet = set(myNumbers)\n",
    "print(mySet)"
   ]
  },
  {
   "cell_type": "markdown",
   "metadata": {},
   "source": [
    "<div dir=\"rtl\" style=\"line-height:300%;\"><font face=\"XB Nazanin\" size=5>\n",
    "<p></p>\n",
    "    تا اینجا چند مثال ساده از ماتریس ها و تاپل های تو در تو حل کردیم. بنابراین تا حدی یاد گرفتیم که چگونه می‌توان با آنها برخورد کرد.\n",
    "    هرچند همیشه مطالبی برای یادگیری هست.\n",
    "    به نوع برنامه نویسی گفته شده در این متن بسنده نکنید.\n",
    "    کدنویسی مانند شخصیت است و بنا به هر فرد می‌تواند متفاوت باشد.\n",
    "    در اینجا ساده ترین و قابل‌فهمترین نوع کد نویسی برای مبتدی ها آورده شده اما برای اطلاعات بیشتر و کد نویسی ها متفاوت می‌توانید نمونه های نوشته شده توسط افراد مختلف را بخوانید و از آنها نوع کدنویسی مورد نظر خود را استخراج کنید.\n",
    "    گاهی راه حل های پیچیده تر می‌توانند در عین حال که خطوط کد نویسی شما را کمتر می‌کنند، ساده تر و قابل فهم تر باشند.\n",
    "<br>\n",
    "    در فصل آینده با چگونگی کشیدن نمودار ها و استفاده از مقادیر تصادفی آشنا می‌شویم.\n",
    "    <br>\n",
    "    <br>\n",
    "<a  href=\"#menu\">بازگشت به فهرست اصلی</a>\n",
    "</font>\n",
    "</div>"
   ]
  },
  {
   "cell_type": "markdown",
   "metadata": {},
   "source": [
    "<div style=\"direction:rtl;line-height:300%;\"><font face=\"XB Nazanin\" size=5>\n",
    "    <font color=135FC3 size=6>\n",
    "<p></p>\n",
    "<div align=center><a  name=\"section10\" href=\"#menu\">فصل 10: ماژول‌های محاسباتی، تصادفی و رسم نمودار</a></div>\n",
    "</font>\n",
    "<font color=#C31330>\n",
    "مقدمه\n",
    "</font><p></p>\n",
    "    در این فصل با کتابخانه‌های numpy و random و مهمترین کتابخانه پس از این دو یا همان matplotlib آشنا می‌شویم.\n",
    "    کتابخانه‌ها به ترتیب برای عملیات محاسباتی و ریاضی، استفاده از داده‌های تصادفی و در نهایت کشیدن انواع نمودار هستند.\n",
    "    <br>\n",
    "    به دلیل در هم تنیدگی مثال ها در این فصل قادر به جدا کردن آنها از هم نیستیم.\n",
    "    بنابراین ابتدا آنها را به صورت جدا تعریف کرده و در نهایت مثالهای آنها را می‌بینیم.\n",
    "    <br>\n",
    "    <a  name=\"section10menu\">فهرست این فصل:</a>\n",
    "    <ol>\n",
    "     <li><a  href=\"#sub1sec10\">کتابخانه های numpy و random</a></li>\n",
    "     <li><a  href=\"#sub2sec10\">کتابخانه matplotlib</a></li>\n",
    "     <li><a  href=\"#sub3sec10\">مثال های این فصل</a></li>\n",
    "    </ol>\n",
    "</font>\n",
    "</div>"
   ]
  },
  {
   "cell_type": "markdown",
   "metadata": {},
   "source": [
    "<div dir=\"rtl\" style=\"line-height:300%;\"><font face=\"XB Nazanin\" size=5>\n",
    "    <font color=#C31330 size=5>\n",
    "    <p></p>\n",
    "    <div align=center><a name=\"sub1sec10\">کتابخانه های numpy و random</a></div></font>\n",
    "    <p></p>\n",
    "    این دو کتابخانه، همانطور که قبلا هم به آن اشاره شد، دو کتابخانه اصلی در پایتون هستند و بسیاری از کارهای محاسباتی و ریاضی به صورت پایه ای با این دو کتابخانه و به خصوص با استفاده از numpy پیاده سازی می‌شود.\n",
    "    تا حدودی در فصل 6 با این دو کتابخانه آشنا شدیم.\n",
    "    وقت آن است که به صورت عمیق تری وارد آنها بشویم.\n",
    "    <br>\n",
    "    در ادامه به سراغ استفاده از numpy میرویم:\n",
    "</font>\n",
    "<br>\n",
    "<a  href=\"#section10menu\">بازگشت به فهرست</a>\n",
    "</div>"
   ]
  },
  {
   "cell_type": "code",
   "execution_count": 8,
   "metadata": {},
   "outputs": [
    {
     "data": {
      "text/plain": [
       "array([[ 0,  1,  2,  3,  4],\n",
       "       [ 5,  6,  7,  8,  9],\n",
       "       [10, 11, 12, 13, 14]])"
      ]
     },
     "execution_count": 8,
     "metadata": {},
     "output_type": "execute_result"
    }
   ],
   "source": [
    "import numpy as np\n",
    "\n",
    "a = np.arange(15).reshape(3, 5) \n",
    "# ارینج تابعی مشابه رینج است که قابلیت های بیشتری را در خود دارد\n",
    "# ریشیپ نیز قابلیتی است که میتوانید با استفاده از آن یه آرایه را به صورت خطی یا به صورت ماتریسی نمایش بدهید\n",
    "# فقط به خاطر داشته باشید تعداد مقادیر با تعداد مقادیری که آن را تبدیل میکنید برابر باشد\n",
    "# برای مثال در ماتریس بالا نمیتوان ریشیپ 4 و 4 را استفاده کرد زیرا تعداد ارقام ما 15 تاست و نه 16 تا\n",
    "a"
   ]
  },
  {
   "cell_type": "code",
   "execution_count": 9,
   "metadata": {},
   "outputs": [
    {
     "data": {
      "text/plain": [
       "(3, 5)"
      ]
     },
     "execution_count": 9,
     "metadata": {},
     "output_type": "execute_result"
    }
   ],
   "source": [
    "# با استفاده از شیپ که یک تابع بسیار پرکاربردی است میتوانید ابعاد یک ماتریس یا آرایه را به دست بیاورید\n",
    "a.shape"
   ]
  },
  {
   "cell_type": "code",
   "execution_count": 10,
   "metadata": {},
   "outputs": [
    {
     "data": {
      "text/plain": [
       "2"
      ]
     },
     "execution_count": 10,
     "metadata": {},
     "output_type": "execute_result"
    }
   ],
   "source": [
    "a.ndim # دایمنشن یا بعد آرایه را به شما میدهد. برای مثال اینجا ماتریس ما دارای دو بعد است"
   ]
  },
  {
   "cell_type": "code",
   "execution_count": 12,
   "metadata": {},
   "outputs": [
    {
     "data": {
      "text/plain": [
       "array([6, 7, 8])"
      ]
     },
     "execution_count": 12,
     "metadata": {},
     "output_type": "execute_result"
    }
   ],
   "source": [
    "# میتوانید آرایه خود را با استفاده از یک مارتریس یا لیست تعریف شده در پایتون بسازید\n",
    "b = np.array([6, 7, 8]) \n",
    "b"
   ]
  },
  {
   "cell_type": "markdown",
   "metadata": {},
   "source": [
    "<div dir=\"rtl\" style=\"line-height:300%;\"><font face=\"XB Nazanin\" size=5>\n",
    "    <p></p>\n",
    "    اما سوالی که اینجا پیش می‌آید این است که \"فرق لیست معمولی و آرایه چیست؟\"\n",
    "    برای پاسخ به این سوال می‌توان گفت لیست یک کلاس از پیش تعریف شده در پایتون است و ویژگی های مربوط به خود را دارد.\n",
    "    در صورتی که آرایه یک زیر مجموعه از کتابخانه numpy است و ویژگی های آن به مراتب بیشتر از لیست است.\n",
    "    دلیل آن هم از استفاده های مختلف آرایه ها در ریاضیات نشأت می‌گیرد.\n",
    "    <br>\n",
    "    تقریبا در تمامی توابع و کلاس های تعریف شده در  numpy از آرایه استفاده می‌شود. حتی اگر ورودی شما به صورت لیست باشد و ایرادی هم به شما وارد نشود، در نهایت خروجی شما آرایه است. \n",
    "    این به آن معناست که در طی عملیات ورودی شما به آرایه تبدیل شده است.\n",
    "    به مرور با ویژگی‌های مختلف آرایه آشنا می‌شویم.\n",
    "    <br>\n",
    "     برای ساخت ماتریس‌های تمام صفر، تمام یک و همانی می‌توان از توابع آماده استفاده کرد:\n",
    "</font>\n",
    "</div>"
   ]
  },
  {
   "cell_type": "code",
   "execution_count": 13,
   "metadata": {},
   "outputs": [
    {
     "data": {
      "text/plain": [
       "array([[0., 0., 0., 0.],\n",
       "       [0., 0., 0., 0.],\n",
       "       [0., 0., 0., 0.]])"
      ]
     },
     "execution_count": 13,
     "metadata": {},
     "output_type": "execute_result"
    }
   ],
   "source": [
    "np.zeros((3, 4))"
   ]
  },
  {
   "cell_type": "code",
   "execution_count": 14,
   "metadata": {},
   "outputs": [
    {
     "data": {
      "text/plain": [
       "array([[[1., 1., 1., 1.],\n",
       "        [1., 1., 1., 1.],\n",
       "        [1., 1., 1., 1.]],\n",
       "\n",
       "       [[1., 1., 1., 1.],\n",
       "        [1., 1., 1., 1.],\n",
       "        [1., 1., 1., 1.]]])"
      ]
     },
     "execution_count": 14,
     "metadata": {},
     "output_type": "execute_result"
    }
   ],
   "source": [
    "np.ones((2, 3, 4)) # یک ماتریس 3 بعدی"
   ]
  },
  {
   "cell_type": "code",
   "execution_count": 15,
   "metadata": {},
   "outputs": [
    {
     "data": {
      "text/plain": [
       "array([[1., 0., 0.],\n",
       "       [0., 1., 0.],\n",
       "       [0., 0., 1.]])"
      ]
     },
     "execution_count": 15,
     "metadata": {},
     "output_type": "execute_result"
    }
   ],
   "source": [
    " np.eye(3)"
   ]
  },
  {
   "cell_type": "code",
   "execution_count": 16,
   "metadata": {},
   "outputs": [
    {
     "data": {
      "text/plain": [
       "array([0. , 0.3, 0.6, 0.9, 1.2, 1.5, 1.8])"
      ]
     },
     "execution_count": 16,
     "metadata": {},
     "output_type": "execute_result"
    }
   ],
   "source": [
    "# همانطور که گفتم تابع ارنج از رینج قابلیت های بیشتری دارد:\n",
    "np.arange(0, 2, 0.3)"
   ]
  },
  {
   "cell_type": "markdown",
   "metadata": {},
   "source": [
    "<div dir=\"rtl\" style=\"line-height:300%;\"><font face=\"XB Nazanin\" size=5>\n",
    "    <p></p>\n",
    "    می‌توانید به روش زیر یک تابع یا مقدار خاص تعریف شده را از یک کتابخانه به صورت جدا فراخوانی کنید و از آن استفاده کنید.\n",
    "    <br>\n",
    "    در مثال زیر تابع linspace را فراخوانی کرده ایم و از آن استفاده می‌کنیم.\n",
    "    به این صورت از فراخوانی تمام کتابخانه تنها برای استفاده از یک تابع جلوگیری می‌کنیم:\n",
    "    <br>\n",
    "    (توجه داشته باشید که می‌توانیم چند مقدار مختلف را نیز فراخوانی کنیم)\n",
    "</font>\n",
    "</div>"
   ]
  },
  {
   "cell_type": "code",
   "execution_count": 18,
   "metadata": {},
   "outputs": [
    {
     "data": {
      "text/plain": [
       "array([0.  , 0.25, 0.5 , 0.75, 1.  , 1.25, 1.5 , 1.75, 2.  ])"
      ]
     },
     "execution_count": 18,
     "metadata": {},
     "output_type": "execute_result"
    }
   ],
   "source": [
    "from numpy import linspace\n",
    "\n",
    "linspace(0, 2, 9)   # این تابع از 0 تا 2 پی، 100 مقدار تعریف میکند که فاصله یکسانی از هم دارند"
   ]
  },
  {
   "cell_type": "code",
   "execution_count": 19,
   "metadata": {},
   "outputs": [
    {
     "name": "stdout",
     "output_type": "stream",
     "text": [
      "[ 0.00000000e+00  6.34239197e-02  1.26592454e-01  1.89251244e-01\n",
      "  2.51147987e-01  3.12033446e-01  3.71662456e-01  4.29794912e-01\n",
      "  4.86196736e-01  5.40640817e-01  5.92907929e-01  6.42787610e-01\n",
      "  6.90079011e-01  7.34591709e-01  7.76146464e-01  8.14575952e-01\n",
      "  8.49725430e-01  8.81453363e-01  9.09631995e-01  9.34147860e-01\n",
      "  9.54902241e-01  9.71811568e-01  9.84807753e-01  9.93838464e-01\n",
      "  9.98867339e-01  9.99874128e-01  9.96854776e-01  9.89821442e-01\n",
      "  9.78802446e-01  9.63842159e-01  9.45000819e-01  9.22354294e-01\n",
      "  8.95993774e-01  8.66025404e-01  8.32569855e-01  7.95761841e-01\n",
      "  7.55749574e-01  7.12694171e-01  6.66769001e-01  6.18158986e-01\n",
      "  5.67059864e-01  5.13677392e-01  4.58226522e-01  4.00930535e-01\n",
      "  3.42020143e-01  2.81732557e-01  2.20310533e-01  1.58001396e-01\n",
      "  9.50560433e-02  3.17279335e-02 -3.17279335e-02 -9.50560433e-02\n",
      " -1.58001396e-01 -2.20310533e-01 -2.81732557e-01 -3.42020143e-01\n",
      " -4.00930535e-01 -4.58226522e-01 -5.13677392e-01 -5.67059864e-01\n",
      " -6.18158986e-01 -6.66769001e-01 -7.12694171e-01 -7.55749574e-01\n",
      " -7.95761841e-01 -8.32569855e-01 -8.66025404e-01 -8.95993774e-01\n",
      " -9.22354294e-01 -9.45000819e-01 -9.63842159e-01 -9.78802446e-01\n",
      " -9.89821442e-01 -9.96854776e-01 -9.99874128e-01 -9.98867339e-01\n",
      " -9.93838464e-01 -9.84807753e-01 -9.71811568e-01 -9.54902241e-01\n",
      " -9.34147860e-01 -9.09631995e-01 -8.81453363e-01 -8.49725430e-01\n",
      " -8.14575952e-01 -7.76146464e-01 -7.34591709e-01 -6.90079011e-01\n",
      " -6.42787610e-01 -5.92907929e-01 -5.40640817e-01 -4.86196736e-01\n",
      " -4.29794912e-01 -3.71662456e-01 -3.12033446e-01 -2.51147987e-01\n",
      " -1.89251244e-01 -1.26592454e-01 -6.34239197e-02 -2.44929360e-16]\n"
     ]
    }
   ],
   "source": [
    "from numpy import sin,pi\n",
    "\n",
    "x = linspace(0, 2 * pi, 100)\n",
    "# یکی از ویژگی های بسیار مورد استفاده در نامپای این است که یک تابع را میتوانید برروی یک آرایه پیاده سازی کنید و همه نتایج را یکجا بگیرد\n",
    "f = sin(x)\n",
    "print(f)"
   ]
  },
  {
   "cell_type": "markdown",
   "metadata": {},
   "source": [
    "<div dir=\"rtl\" style=\"line-height:300%;\"><font face=\"XB Nazanin\" size=5>\n",
    "    <p></p>\n",
    "    عملیات ساده ماتریسی به راحتی با استفاده از آرایه ها امکان پذیر است:\n",
    "    <br>\n",
    "</font>\n",
    "</div>"
   ]
  },
  {
   "cell_type": "code",
   "execution_count": 20,
   "metadata": {},
   "outputs": [
    {
     "data": {
      "text/plain": [
       "array([[2, 0],\n",
       "       [0, 4]])"
      ]
     },
     "execution_count": 20,
     "metadata": {},
     "output_type": "execute_result"
    }
   ],
   "source": [
    "A = np.array([[1, 1],\n",
    "              [0, 1]])\n",
    "B = np.array([[2, 0],\n",
    "              [3, 4]])\n",
    "A * B # ضرب ارایه در ارایه"
   ]
  },
  {
   "cell_type": "code",
   "execution_count": 21,
   "metadata": {},
   "outputs": [
    {
     "data": {
      "text/plain": [
       "array([[3, 1],\n",
       "       [3, 5]])"
      ]
     },
     "execution_count": 21,
     "metadata": {},
     "output_type": "execute_result"
    }
   ],
   "source": [
    "A + B "
   ]
  },
  {
   "cell_type": "code",
   "execution_count": 22,
   "metadata": {},
   "outputs": [
    {
     "data": {
      "text/plain": [
       "array([[5, 4],\n",
       "       [3, 4]])"
      ]
     },
     "execution_count": 22,
     "metadata": {},
     "output_type": "execute_result"
    }
   ],
   "source": [
    "A.dot(B) # ضرب ماتریسی"
   ]
  },
  {
   "cell_type": "markdown",
   "metadata": {},
   "source": [
    "<div dir=\"rtl\" style=\"line-height:300%;\"><font face=\"XB Nazanin\" size=5>\n",
    "    <p></p>\n",
    "    تمامی توابع رندم در numpy نیز یافت می‌شوند. \n",
    "    در برخی موارد با نام های متفاوت و نوع استفاده متفاوت در دسترس هستند.\n",
    "    <br>\n",
    "    در اینجا برای استفاده از توابع رندم از توابع تعریف شده در کتابخانه numpy استفاده می‌کنیم.\n",
    "</font>\n",
    "</div>"
   ]
  },
  {
   "cell_type": "code",
   "execution_count": 24,
   "metadata": {},
   "outputs": [
    {
     "data": {
      "text/plain": [
       "array([[0.8579226 , 0.0089118 , 0.63352182],\n",
       "       [0.53982644, 0.98585598, 0.36547568]])"
      ]
     },
     "execution_count": 24,
     "metadata": {},
     "output_type": "execute_result"
    }
   ],
   "source": [
    "# ساخت یک ماتریس رندم:\n",
    "a = np.random.random((2,3))\n",
    "a"
   ]
  },
  {
   "cell_type": "code",
   "execution_count": 25,
   "metadata": {},
   "outputs": [
    {
     "data": {
      "text/plain": [
       "3.391514328048655"
      ]
     },
     "execution_count": 25,
     "metadata": {},
     "output_type": "execute_result"
    }
   ],
   "source": [
    "# میتوانید تمامی مقادیر موجود را جمع کنید\n",
    "a.sum()"
   ]
  },
  {
   "cell_type": "code",
   "execution_count": 26,
   "metadata": {},
   "outputs": [
    {
     "data": {
      "text/plain": [
       "0.008911802854719708"
      ]
     },
     "execution_count": 26,
     "metadata": {},
     "output_type": "execute_result"
    }
   ],
   "source": [
    "# کمترین مقدار در تمامی مقادیر را بگیرید\n",
    "a.min()"
   ]
  },
  {
   "cell_type": "code",
   "execution_count": 27,
   "metadata": {},
   "outputs": [
    {
     "data": {
      "text/plain": [
       "0.985855981384956"
      ]
     },
     "execution_count": 27,
     "metadata": {},
     "output_type": "execute_result"
    }
   ],
   "source": [
    "# بیشترین مقدار در تمامی مقادیر:\n",
    "a.max()"
   ]
  },
  {
   "cell_type": "markdown",
   "metadata": {},
   "source": [
    "<div dir=\"rtl\" style=\"line-height:300%;\"><font face=\"XB Nazanin\" size=5>\n",
    "    <p></p>\n",
    "    قبل از آنکه به سراغ توابع مختلف کتابخانه random برویم لازم است اشاره ای به بانک اطلاعات کتابخانه numpy در آدرس زیر بکنم.\n",
    "    <br>\n",
    "    <a  href=https://numpy.org/doc/stable/user/quickstart.html>https://numpy.org/doc/stable/user/quickstart.html</a>\n",
    "    <br>\n",
    "    در اینجا می‌توانید با کتابخانه numpy به صورت کامل آشنا شوید و مطالب بسیاری در مورد این کتابخانه و قابلیت‌های آن بیاموزید.\n",
    "    <br>\n",
    "    حال نوبت به بررسی بیشتر کتابخانه random می‌رسد.\n",
    "    ایجاد اعداد تصادفی در پایتون کاملا تصادفی نیست.\n",
    "    این اعداد به روند خاصی تولید می‌شوند اما تعداد این روند‌های خاص آنقدر زیاد است که میتوان آنها را تصادفی در نظر گرفت. به همین دلیل به آن نام شبه تصادفی داده‌اند.\n",
    "    <br>\n",
    "    روند تولید این اعداد به این صورت است که یک عدد به عنوان پایه و شروع کنند در نظر گرفته می‌شود و اعداد تصادفی بعد از آن همیشه یک مقدار خاص هستند.\n",
    "    این عدد به عنوان هسته یا \n",
    "    <code>seed</code>\n",
    "    نامیده می‌شود و در صف طولانی اعداد شبیه تصادفی به عنوان پایه آن است.\n",
    "    برای مثال اگر هسته را 1 انتخاب کنیم روند به صورت زیر خواهد بود:\n",
    "</font>\n",
    "</div>"
   ]
  },
  {
   "cell_type": "code",
   "execution_count": 30,
   "metadata": {},
   "outputs": [
    {
     "name": "stdout",
     "output_type": "stream",
     "text": [
      "0.13436424411240122\n",
      "0.8474337369372327\n",
      "0.763774618976614\n",
      "0.2550690257394217\n",
      "-*--*--*--*--*--*--*--*--*--*-\n",
      "0.13436424411240122\n",
      "0.8474337369372327\n",
      "0.763774618976614\n",
      "0.2550690257394217\n"
     ]
    }
   ],
   "source": [
    "import random\n",
    "random.seed(1)\n",
    "print(random.random())\n",
    "print(random.random())\n",
    "print(random.random())\n",
    "print(random.random())\n",
    "print('-*-'*10)\n",
    "random.seed(1)\n",
    "print(random.random())\n",
    "print(random.random())\n",
    "print(random.random())\n",
    "print(random.random())"
   ]
  },
  {
   "cell_type": "markdown",
   "metadata": {},
   "source": [
    "<div dir=\"rtl\" style=\"line-height:300%;\"><font face=\"XB Nazanin\" size=5>\n",
    "    <p></p>\n",
    "    همانطور که می‌بینید این روند تغییر نمی‌کند تا زمانی که برای آن <code>seed</code> مشخص می‌کنید.\n",
    "    در واقع عدد بعد یک هسته همیشه یک مقدار خاص است.\n",
    "    <br>\n",
    "    <font color=#C31330>\n",
    "    اما اگر برای اعداد تصادفی هسته مشخص نکنید چه؟\n",
    "    </font>\n",
    "    <br>\n",
    "    در این صورت از زمان سیستم شما استفاده می‌شود.\n",
    "    عدد این زمان به عنوان هسته در نظر گرفته می‌شود و به این صورت اعداد شما همیشه متفاوت خواهند بود.\n",
    "    <br>\n",
    "</font>\n",
    "</div>"
   ]
  },
  {
   "cell_type": "code",
   "execution_count": 31,
   "metadata": {},
   "outputs": [
    {
     "name": "stdout",
     "output_type": "stream",
     "text": [
      "0.49543508709194095\n",
      "0.4494910647887381\n",
      "0.651592972722763\n",
      "0.7887233511355132\n"
     ]
    }
   ],
   "source": [
    "print(random.random())\n",
    "print(random.random())\n",
    "print(random.random())\n",
    "print(random.random())"
   ]
  },
  {
   "cell_type": "code",
   "execution_count": 33,
   "metadata": {},
   "outputs": [
    {
     "name": "stdout",
     "output_type": "stream",
     "text": [
      "0.918528949834484\n",
      "0.188264971272462\n",
      "0.3241377292065952\n",
      "0.5110727620015786\n"
     ]
    }
   ],
   "source": [
    "random.seed()\n",
    "print(random.random())\n",
    "print(random.random())\n",
    "print(random.random())\n",
    "print(random.random())"
   ]
  },
  {
   "cell_type": "markdown",
   "metadata": {},
   "source": [
    "<div dir=\"rtl\" style=\"line-height:300%;\"><font face=\"XB Nazanin\" size=5>\n",
    "    <p></p>\n",
    "    حال به سراغ انواع مختلف تولید داده می‌رویم و یکی یکی آنها را بررسی می‌کنیم:\n",
    "    <br>\n",
    "</font>\n",
    "</div>"
   ]
  },
  {
   "cell_type": "code",
   "execution_count": 37,
   "metadata": {},
   "outputs": [
    {
     "name": "stdout",
     "output_type": "stream",
     "text": [
      "3\n",
      "2\n",
      "10\n",
      "4\n"
     ]
    }
   ],
   "source": [
    "# تابع زیر مانند انتخاب یک عدد در رینج یک سری اعداد است\n",
    "# تنها یک عدد تولید میکند و در ورژنهای جدید این اعداد با شانس مساوی ایجاد میشود.\n",
    "print(random.randrange(10))\n",
    "print(random.randrange(0,10))\n",
    "print(random.randrange(10,20))\n",
    "print(random.randrange(2,6))"
   ]
  },
  {
   "cell_type": "code",
   "execution_count": 38,
   "metadata": {},
   "outputs": [
    {
     "data": {
      "text/plain": [
       "13"
      ]
     },
     "execution_count": 38,
     "metadata": {},
     "output_type": "execute_result"
    }
   ],
   "source": [
    "# تابع زیر مشابه بالایی است با این تفاوت که عدد پایانی نیز میتواند جزو انتخاب ها باشد\n",
    "random.randint(10, 20)"
   ]
  },
  {
   "cell_type": "code",
   "execution_count": 39,
   "metadata": {},
   "outputs": [
    {
     "data": {
      "text/plain": [
       "5"
      ]
     },
     "execution_count": 39,
     "metadata": {},
     "output_type": "execute_result"
    }
   ],
   "source": [
    "# در تابع زیر میتوانیم در یک لیست یا یک مقدار تکرار شونده یکی را انتخاب کنیم\n",
    "random.choice([2,5,7,9])"
   ]
  },
  {
   "cell_type": "code",
   "execution_count": 43,
   "metadata": {},
   "outputs": [
    {
     "name": "stdout",
     "output_type": "stream",
     "text": [
      "[3, 1, 4, 2]\n"
     ]
    }
   ],
   "source": [
    "# با استفاده از تابع زیر میتوانید یک مقدار تکرار شونده مانند لیست را به هم بریزید\n",
    "l = [1,2,3,4]\n",
    "random.shuffle(l)\n",
    "print(l)"
   ]
  },
  {
   "cell_type": "code",
   "execution_count": 44,
   "metadata": {},
   "outputs": [
    {
     "data": {
      "text/plain": [
       "0.4251803400480886"
      ]
     },
     "execution_count": 44,
     "metadata": {},
     "output_type": "execute_result"
    }
   ],
   "source": [
    "# یک مقدار را به صورت رندم از بین 0 تا 1 انتخاب میکند. 1 در این مقادیر هیچگاه ظاهر نمیشود\n",
    "random.random()"
   ]
  },
  {
   "cell_type": "code",
   "execution_count": 45,
   "metadata": {},
   "outputs": [
    {
     "data": {
      "text/plain": [
       "1.701178533243477"
      ]
     },
     "execution_count": 45,
     "metadata": {},
     "output_type": "execute_result"
    }
   ],
   "source": [
    "# تولید یک عدد با استفاده از توزیع یکنواخت\n",
    "random.uniform(1,10)"
   ]
  },
  {
   "cell_type": "code",
   "execution_count": 46,
   "metadata": {},
   "outputs": [
    {
     "data": {
      "text/plain": [
       "14.576503773085825"
      ]
     },
     "execution_count": 46,
     "metadata": {},
     "output_type": "execute_result"
    }
   ],
   "source": [
    "# در تابع زیر مقدار تصادفی شما از توزیع گوسین با میانگین و واریانس تعیین شده تولید میشود\n",
    "random.gauss(mu=10, sigma=3.5)"
   ]
  },
  {
   "cell_type": "code",
   "execution_count": 47,
   "metadata": {},
   "outputs": [
    {
     "data": {
      "text/plain": [
       "8.648983407302723"
      ]
     },
     "execution_count": 47,
     "metadata": {},
     "output_type": "execute_result"
    }
   ],
   "source": [
    "# در تابع زیر مقدار تصادفی شما از توزیع نرمال با میانگین و واریانس تعیین شده تولید میشود\n",
    "random.normalvariate(mu=10, sigma=3.5)"
   ]
  },
  {
   "cell_type": "markdown",
   "metadata": {},
   "source": [
    "<div dir=\"rtl\" style=\"line-height:300%;\"><font face=\"XB Nazanin\" size=5>\n",
    "    <p></p>\n",
    "    باقی توزیع ها و انواع ایجاد مقادیر تصادفی در کتابخانه random را می‌توانید در سایت زیر بیابید:\n",
    "    <br>\n",
    "    <a  href=https://docs.python.org/3/library/random.html>https://docs.python.org/3/library/random.html</a>\n",
    "    <br>\n",
    "     در بخش بعد با کتابخانه matplotlib آشنا می‌شویم و آن را بررسی می‌کنیم.\n",
    "    <br>\n",
    "</font>\n",
    "</div>"
   ]
  },
  {
   "cell_type": "markdown",
   "metadata": {},
   "source": [
    "<div dir=\"rtl\" style=\"line-height:300%;\"><font face=\"XB Nazanin\" size=5>\n",
    "    <font color=#C31330 size=5>\n",
    "    <p></p>\n",
    "    <div align=center><a name=\"sub2sec10\">کتابخانه matplotlib</a></div></font>\n",
    "    <p></p>\n",
    "     با استفاده از این کتابخانه می‌توان انواع نمودارها را نشان داد.\n",
    "    قسمت های مختلف کتابخانه به شما دسترسی های مختلفی از رنگ، نوع و ویژگی‌های اضافه به شما می‌دهند.\n",
    "    در اینجا به ساده ترین حالت برای ساخت یک یا چند نمودار می‌پردازیم.\n",
    "    <br>\n",
    "    ابتدا نمودارهای مختلف با امتحان می‌کنیم، سپس به سراغ کشیدن چند نمودار در کنار هم می‌رویم.\n",
    "    <br>\n",
    "</font>\n",
    "<br>\n",
    "<a  href=\"#section10menu\">بازگشت به فهرست</a>\n",
    "</div>"
   ]
  },
  {
   "cell_type": "markdown",
   "metadata": {},
   "source": [
    "<div dir=\"rtl\" style=\"line-height:300%;\"><font face=\"XB Nazanin\" size=5>\n",
    "    <p></p>\n",
    "    در مثال های زیر به ترتیب کشیدن نمودار ها را میبینیم. اما اول باید یک سری نکات در مورد کشیدن نمودارها را بیان کنم. \n",
    "    <br>\n",
    "    برای کشیدن نمودارها نیاز به فراخوانی کلاس  <code>pyplot</code> از کتابخانه matplotlib داریم.\n",
    "    در این کلاس نمودارهای مختلف تعریف شده‌اند و می‌توانیم به راحتی از آنها استفاده کنیم.\n",
    "    <br>\n",
    "    نکته بعدی به  نمایش نمودار باز می‌گردد.\n",
    "    برای نمایش یک نمودار حتما باید از تابع <code>show</code> استفاده شود.\n",
    "    در غیر این صورت در محیط های دیگر تابع خود را نمی‌بینید.\n",
    "    این تابع در واقع کار <code>print</code> را برای نمودار انجام می‌دهد.\n",
    "    (قابل ذکر است که مانند تمام خروجی های دیگر نمایش آخرین نمودار به عنوان خروجی در ژوپیتر نیز جزو ویژگی های این محیط است.)\n",
    "</font>\n",
    "</div>"
   ]
  },
  {
   "cell_type": "code",
   "execution_count": 2,
   "metadata": {},
   "outputs": [],
   "source": [
    "#یک لیست تعریف میکنیم تا تمامی نمودار های را با استفاده از آن رسم کنیم\n",
    "l = [1,2,3,1,2,7,1,2,9,1,5,7,5,9,3,5,7,4,2,8,7,4,2,4,7,4,3,2,5,6,7,8,9,8,6,5,4,3,3,2]"
   ]
  },
  {
   "cell_type": "code",
   "execution_count": 4,
   "metadata": {},
   "outputs": [
    {
     "data": {
      "image/png": "[encoded data removed]",
      "text/plain": [
       "<Figure size 432x288 with 1 Axes>"
      ]
     },
     "metadata": {
      "needs_background": "light"
     },
     "output_type": "display_data"
    }
   ],
   "source": [
    "from matplotlib import pyplot as plt # تعریف کلاس پایپلات به عنوان پی ال تی\n",
    "plt.plot(l)\n",
    "# این تابع به ترتیب اعضای داخل لیست را برروی نمودار نقطه گذاری میکند\n",
    "# در حالت دیفالت این تابع حالت خطی و رنگ آبی را برای نمایش لیست شما انتخاب میکند\n",
    "plt.show()"
   ]
  },
  {
   "cell_type": "code",
   "execution_count": 26,
   "metadata": {},
   "outputs": [
    {
     "data": {
      "image/png": "[encoded data removed]",
      "text/plain": [
       "<Figure size 432x288 with 1 Axes>"
      ]
     },
     "metadata": {
      "needs_background": "light"
     },
     "output_type": "display_data"
    }
   ],
   "source": [
    "# برای تغییر حالت نمودار از خطی به نقطه ای کافی است\n",
    "# به عنوان آخرین ورودی به آن یک استرینگ بدهیم که شکل آن را مشخص کند\n",
    "plt.plot(l,'.') # other formats: o , *, ^, +, x, v, p, d, h, -*, --, 1,2,3,4\n",
    "plt.show()"
   ]
  },
  {
   "cell_type": "code",
   "execution_count": 36,
   "metadata": {},
   "outputs": [
    {
     "data": {
      "image/png": "[encoded data removed]",
      "text/plain": [
       "<Figure size 432x288 with 1 Axes>"
      ]
     },
     "metadata": {
      "needs_background": "light"
     },
     "output_type": "display_data"
    }
   ],
   "source": [
    "# میتوانید رنگ را نیز تغییر دهید\n",
    "plt.plot(l,'r') # other colors: b,g,k,w,c,m,y ... \n",
    "# and you can use some names like orange if using separately from pattern\n",
    "plt.show()"
   ]
  },
  {
   "cell_type": "code",
   "execution_count": 38,
   "metadata": {},
   "outputs": [
    {
     "data": {
      "image/png": "[encoded data removed]",
      "text/plain": [
       "<Figure size 432x288 with 1 Axes>"
      ]
     },
     "metadata": {
      "needs_background": "light"
     },
     "output_type": "display_data"
    }
   ],
   "source": [
    "# حال ترکیب دو دستور بالا\n",
    "plt.plot(l, 'co')\n",
    "plt.show()"
   ]
  },
  {
   "cell_type": "code",
   "execution_count": 42,
   "metadata": {},
   "outputs": [
    {
     "name": "stdout",
     "output_type": "stream",
     "text": [
      "[2, 4, 6, 8, 10, 12, 14, 16, 18, 20, 22, 24, 26, 28, 30, 32, 34, 36, 38, 40, 42, 44, 46, 48, 50, 52, 54, 56, 58, 60, 62, 64, 66, 68, 70, 72, 74, 76, 78, 80]\n"
     ]
    },
    {
     "data": {
      "image/png": "[encoded data removed]",
      "text/plain": [
       "<Figure size 432x288 with 1 Axes>"
      ]
     },
     "metadata": {
      "needs_background": "light"
     },
     "output_type": "display_data"
    }
   ],
   "source": [
    "#  در اینجا برای مقادیر ایکس نمودار نیز مقدار تعیین میکنیم:\n",
    "x = range(2,2*len(l)+1,2)\n",
    "print(list(x))\n",
    "plt.plot(x,l,'m.')\n",
    "plt.show()"
   ]
  },
  {
   "cell_type": "markdown",
   "metadata": {},
   "source": [
    "<div dir=\"rtl\" style=\"line-height:300%;\"><font face=\"XB Nazanin\" size=5>\n",
    "    <p></p>\n",
    "    با استفاده از تابع plot می‌توان بسیاری از موارد دلخواه را نمایش داد.\n",
    "    تنظیمات دیگری نیز وجود دارد که پس از تعریف باقی نمودار ها به آن ها نیز می‌پردازیم.\n",
    "    <br>\n",
    "</font>\n",
    "</div>"
   ]
  },
  {
   "cell_type": "code",
   "execution_count": 45,
   "metadata": {},
   "outputs": [
    {
     "data": {
      "image/png": "[encoded data removed]",
      "text/plain": [
       "<Figure size 432x288 with 1 Axes>"
      ]
     },
     "metadata": {
      "needs_background": "light"
     },
     "output_type": "display_data"
    }
   ],
   "source": [
    "# تعداد ایکس و لیست دوم باید برابر باشند زیرا لیست دوم بلندی اعضای لیست اول است\n",
    "plt.bar(range(len(l)),l)\n",
    "plt.show()"
   ]
  },
  {
   "cell_type": "code",
   "execution_count": 47,
   "metadata": {},
   "outputs": [
    {
     "data": {
      "image/png": "[encoded data removed]",
      "text/plain": [
       "<Figure size 432x288 with 1 Axes>"
      ]
     },
     "metadata": {
      "needs_background": "light"
     },
     "output_type": "display_data"
    }
   ],
   "source": [
    "# نمودار زیر مانند پلاتی عمل میکند که پترن آن نقطه ای است\n",
    "# تفاوتی که اینجا وچود دارد امکانات بیشتری است که این تابع به شما میدهد\n",
    "plt.scatter(range(len(l)),l)\n",
    "plt.show()"
   ]
  },
  {
   "cell_type": "code",
   "execution_count": 48,
   "metadata": {},
   "outputs": [
    {
     "data": {
      "image/png": "[encoded data removed]",
      "text/plain": [
       "<Figure size 432x288 with 1 Axes>"
      ]
     },
     "metadata": {
      "needs_background": "light"
     },
     "output_type": "display_data"
    }
   ],
   "source": [
    "# در نموداری زیر، هیستوگرام یک لیست را میبینید.\n",
    "# میتوانید تعداد ستون ها و یا فاصله ستون ها را نیز در آن مشخص کنید\n",
    "plt.hist(l)\n",
    "plt.show()"
   ]
  },
  {
   "cell_type": "markdown",
   "metadata": {},
   "source": [
    "<div dir=\"rtl\" style=\"line-height:300%;\"><font face=\"XB Nazanin\" size=5>\n",
    "    <p></p>\n",
    "    حال با داشتن آشنایی به باقی انواع نمودار، نوبت به اطلاعات بیشتر است.\n",
    "    <br>\n",
    "    در مثال زیر جزئیات بیشتر را در کشیدن یک نمودار میبینیم:\n",
    "</font>\n",
    "</div>"
   ]
  },
  {
   "cell_type": "code",
   "execution_count": 59,
   "metadata": {},
   "outputs": [
    {
     "data": {
      "image/png": "[encoded data removed]",
      "text/plain": [
       "<Figure size 720x360 with 1 Axes>"
      ]
     },
     "metadata": {
      "needs_background": "light"
     },
     "output_type": "display_data"
    }
   ],
   "source": [
    "l.sort() # ابتدا لیست خود را مرتب میکنیم که نمای بهتری از آن را ببینیم\n",
    "plt.figure(figsize=(10,5))  # مشخص کردن اندازه پلات : مقدار اول مربوط به محور افقی و مقدار دوم مربوط به محور عمودی است\n",
    "plt.plot(l,'g--')\n",
    "plt.title('This is a plot!') # نام کلی پلات\n",
    "plt.xlabel('this is x axis') # نام محور ایکس\n",
    "plt.ylabel('this is y axis') # نام محور وای\n",
    "plt.xticks(range(0, len(l) ,2), rotation=45) # مقادیر روی محور ایکس\n",
    "plt.grid(True, axis='x') # داشتن یا نداشتن گرید \n",
    "\n",
    "plt.show()"
   ]
  },
  {
   "cell_type": "markdown",
   "metadata": {},
   "source": [
    "<div dir=\"rtl\" style=\"line-height:300%;\"><font face=\"XB Nazanin\" size=5>\n",
    "    <p></p>\n",
    "    حال در زیر یاد می‌گیریم چگونه چند نمودار را همزمان و کنار هم رسم کنیم: \n",
    "    <br>\n",
    "</font>\n",
    "</div>"
   ]
  },
  {
   "cell_type": "code",
   "execution_count": 63,
   "metadata": {},
   "outputs": [
    {
     "data": {
      "image/png": "[encoded data removed]",
      "text/plain": [
       "<Figure size 648x216 with 3 Axes>"
      ]
     },
     "metadata": {
      "needs_background": "light"
     },
     "output_type": "display_data"
    }
   ],
   "source": [
    "plt.figure(figsize=(9, 3))\n",
    "# پلات مورد نظر با تنظیمات مورد نظر را انتخاب میکنیم\n",
    "# در کد زیر تعدا پلات های ما 1 در 3 است\n",
    "# یعنی یک سطر و 3 ستون\n",
    "plt.subplot(131) # اولین پلات از 3 پلات: مقدار اول تعداد سطر، دوم تعداد ستون و اخرین عدد مربوط به پلات است\n",
    "plt.bar(range(len(l)),l)\n",
    "plt.xlabel('this is x label plot1')\n",
    "\n",
    "plt.subplot(132) # پلات دوم از سری پلات\n",
    "plt.scatter(range(len(l)),l)\n",
    "plt.ylabel('this is y label plot2')\n",
    "\n",
    "plt.subplot(133) # سومین پلات\n",
    "plt.plot(l)\n",
    "plt.title('this is plot3')\n",
    "# مقدار زیر برای کل پلات هاست\n",
    "plt.suptitle('Categorical Plotting')\n",
    "plt.show()"
   ]
  },
  {
   "cell_type": "markdown",
   "metadata": {},
   "source": [
    "<div dir=\"rtl\" style=\"line-height:300%;\"><font face=\"XB Nazanin\" size=5>\n",
    "    <p></p>\n",
    "    همانطور که می‌بینید میتوان برای هر <code>subplot</code> تنظیمات مربوط به خودش را انجام داد\n",
    "    <br>\n",
    "    چند نکته مهم وجود دارد که باید به آنها اشاره شود.\n",
    "    اول آن که عدد <code>subplot</code> ها از 1 شروع می‌شود و نه 0. به آن دقت کنید.\n",
    "    دوم آنکه اگر شما 2 سطر و 3 ستون داشتید آنگاه در سطر 2 ستون 1، نمودار 4 ام قرار می‌گیرد و به همین ترتیب تا عدد 6 ام که سطر 2 و ستون 3 است.\n",
    "</font>\n",
    "</div>"
   ]
  },
  {
   "cell_type": "markdown",
   "metadata": {},
   "source": [
    "<div dir=\"rtl\" style=\"line-height:300%;\"><font face=\"XB Nazanin\" size=5>\n",
    "    <font color=#C31330 size=5>\n",
    "    <p></p>\n",
    "    <div align=center><a name=\"sub3sec10\">مثال های این فصل</a></div></font>\n",
    "    <p></p>\n",
    "    نوبت به آن می‌رسد که مثال های مختلفی از مجموع مطالب یاد گرفته شده در این فصل را ببینیم:\n",
    "    <br>\n",
    "</font>\n",
    "<br>\n",
    "<a  href=\"#section10menu\">بازگشت به فهرست</a>\n",
    "</div>"
   ]
  },
  {
   "cell_type": "code",
   "execution_count": 64,
   "metadata": {},
   "outputs": [
    {
     "data": {
      "image/png": "[encoded data removed]",
      "text/plain": [
       "<Figure size 432x288 with 1 Axes>"
      ]
     },
     "metadata": {
      "needs_background": "light"
     },
     "output_type": "display_data"
    }
   ],
   "source": [
    "# در مثال زیر  که یک مثال از آموزش خود کتابخانه متپلاتلیب است میخواهیم 3 نمودار ایکس، دو ایکس و سه ایکس را ببینیم:\n",
    "import numpy as np\n",
    "from matplotlib import pyplot as plt \n",
    "\n",
    "t = np.arange(0., 5., 0.2)\n",
    "\n",
    "# میتوان 3 نمودار را در یک جا نمایش داد\n",
    "# به این ترتیب که 3 مقدار اول ایکس، ایگرگ و پترن نمودار اول، 3 مقدار دوم مربوط به نمودار 2 و 3 مقدار سوم مربوط به نمودار 3 است.\n",
    "plt.plot(t, t, 'r--', t, t**2, 'bs', t, t**3, 'g^')\n",
    "plt.show()"
   ]
  },
  {
   "cell_type": "markdown",
   "metadata": {},
   "source": [
    "----"
   ]
  },
  {
   "cell_type": "code",
   "execution_count": 65,
   "metadata": {},
   "outputs": [
    {
     "data": {
      "image/png": "[encoded data removed]",
      "text/plain": [
       "<Figure size 432x288 with 2 Axes>"
      ]
     },
     "metadata": {
      "needs_background": "light"
     },
     "output_type": "display_data"
    }
   ],
   "source": [
    "# نمایش دو نمودار با استفاده از تابع کوسینوس و یک تابع تعریف شده\n",
    "import numpy as np\n",
    "from matplotlib import pyplot as plt \n",
    "\n",
    "def f(t):\n",
    "    return np.exp(-t) * np.cos(2*np.pi*t)\n",
    "\n",
    "t1 = np.arange(0.0, 5.0, 0.1) # تغریف نقاط مربوط به دایره های نمودار اول\n",
    "t2 = np.arange(0.0, 5.0, 0.02)## تعریف نقطه برای خط نمودار اول\n",
    "\n",
    "plt.figure()\n",
    "plt.subplot(211)\n",
    "plt.plot(t1, f(t1), 'bo', t2, f(t2), 'k') # نمودار اول\n",
    "\n",
    "plt.subplot(212)\n",
    "plt.plot(t2, np.cos(2*np.pi*t2), 'r--')  # نمودار دوم\n",
    "plt.show()"
   ]
  },
  {
   "cell_type": "markdown",
   "metadata": {},
   "source": [
    "---"
   ]
  },
  {
   "cell_type": "code",
   "execution_count": 74,
   "metadata": {},
   "outputs": [
    {
     "data": {
      "image/png": "[encoded data removed]",
      "text/plain": [
       "<Figure size 432x288 with 1 Axes>"
      ]
     },
     "metadata": {
      "needs_background": "light"
     },
     "output_type": "display_data"
    }
   ],
   "source": [
    "#  نمایش هیستوگرام و تابع اصلی برای یک نمونه داده\n",
    "\n",
    "import numpy as np\n",
    "import matplotlib.pyplot as plt\n",
    "\n",
    "np.random.seed(19680801) # معرفی یک هسته خاص برای آنکه نمودار همیشه یک شکل باشد\n",
    "\n",
    "# تعریف داده\n",
    "mu = 100  # تعریف میانگین\n",
    "sigma = 15  # تعریف انحراف معیار\n",
    "# تعریف 437 مقدار در یک توزیع نرمال ک توسط میانگین و انحراف معیار دلخواه ما تغییر میکنند\n",
    "x = mu + sigma * np.random.randn(437) \n",
    "\n",
    "# مشخص کردن تعداد ستون ها\n",
    "num_bins = 50\n",
    "\n",
    "# داده های هیستوگرام 3 دسته هستند که مقدار مورد نظر ما در بینز وجود دارد\n",
    "n, bins, patches = plt.hist(x, num_bins, density=True)\n",
    "\n",
    "# در زیر تابع مربوط به تعریف تابع نرمال با میانگین و انحراف معیار ما است\n",
    "y = ((1 / (np.sqrt(2 * np.pi) * sigma)) * \n",
    "     np.exp(-0.5 * (1 / sigma * (bins - mu))**2))\n",
    "plt.plot(bins, y, '--') # بینز به تنهایی دارای این ویژگی است که هیستوگرام را در پلات به صورت کامل نمایش بدهد\n",
    "plt.xlabel('Smarts')\n",
    "plt.ylabel('Probability density')\n",
    "plt.title(r'Histogram of IQ: $\\mu=100$, $\\sigma=15$')\n",
    "\n",
    "plt.show()"
   ]
  },
  {
   "cell_type": "markdown",
   "metadata": {},
   "source": [
    "---"
   ]
  },
  {
   "cell_type": "code",
   "execution_count": 76,
   "metadata": {},
   "outputs": [
    {
     "data": {
      "image/png": "[encoded data removed]",
      "text/plain": [
       "<Figure size 432x288 with 1 Axes>"
      ]
     },
     "metadata": {
      "needs_background": "light"
     },
     "output_type": "display_data"
    }
   ],
   "source": [
    "# فرض کنید چند نقطه دارید و میخواهید خطی میان آنها رسم کنید و سپس میزان خطای حدودی خود را نمایش دهید:\n",
    "import numpy as np\n",
    "import matplotlib.pyplot as plt\n",
    "\n",
    "N = 21 \n",
    "x = np.linspace(0, 10, 11) # یازده نقطه بین 0 و 10\n",
    "y = [3.9, 4.4, 10.8, 10.3, 11.2, 13.1, 14.1,  9.9, 13.9, 15.1, 12.5] # مقادیر آن 11 نقطه به شرح زیر است\n",
    "\n",
    "# fit a linear curve an estimate its y-values and their error.\n",
    "a, b = np.polyfit(x, y, deg=1) # این تابع یک خط حدودی که نزدیک ترین به تمام نقاط شماست را به آنها فیت میکند\n",
    "# مقادیر به دست آمده از تابع بالا مقادیر مربوط به یک پولی نومیال هستند که در مورد ما یک خط است\n",
    "y_est = a * x + b # مقادیر خطی را در جای خود میگذاریم و در ایکس ضرب میکنیم تا ایگرگ را به ما بدهد\n",
    "y_err = x.std() * np.sqrt(1/len(x) +\n",
    "                          (x - x.mean())**2 / np.sum((x - x.mean())**2)) # مقدار خطا را با استفاده از این تابع محاسبه میکنیم\n",
    "\n",
    "# نمودار اصلی را میکشید\n",
    "plt.plot(x, y_est, '-')\n",
    "# تابع زیر نمودار خطا را رسم میکند\n",
    "plt.fill_between(x, y_est - y_err, y_est + y_err, alpha=0.2)\n",
    "# حال وقت کشید نقاط اصلی است\n",
    "plt.plot(x, y, 'o', color='tab:brown')\n",
    "plt.show()"
   ]
  },
  {
   "cell_type": "markdown",
   "metadata": {},
   "source": [
    "برای مثال های بیشتر به سایت زیر سر بزنید:\n",
    "---\n",
    "\n",
    "https://matplotlib.org/stable/gallery/index.html\n",
    "\n",
    "<a  href=\"#menu\">بازگشت به فهرست اصلی</a>\n",
    "--\n",
    "---"
   ]
  },
  {
   "cell_type": "markdown",
   "metadata": {},
   "source": [
    "<div dir=\"rtl\" style=\"line-height:300%;\"><font face=\"XB Nazanin\" size=5>\n",
    "    <font color=135FC3 size=6>\n",
    "<p></p>\n",
    "<div dir=\"rtl\" align=center><a  name=\"section11\" href=\"#menu\">فصل 11: کار با فایل‌ها و ذخیره و بازیابی داده در فایل</a></div>\n",
    "</font>\n",
    "<font color=#C31330>\n",
    "مقدمه\n",
    "</font><p></p>\n",
    "    فایل ها بخش جزء جدا نشدنی از برنامه نویسی هستند. \n",
    "    در صورتی که بخواهید اطلاعات پایانی یک برنامه را ذخیره کنید و یا داده‌های آمده از جای دیگری را مورد ارزیابی و یا بررسی قرار دهید نیاز به خواندن و نوشتن فایل‌ها دارید.\n",
    "    <br>\n",
    "    در اینجا با قسمت کوچکی از کار با فایل ها آشنا می‌شویم.\n",
    "    <br>\n",
    "    یاد می‌گیریم چگونه داده ها را در فایل ذخیره کنیم، از فایل بخوانیم و خطاهای مربوط به فایل را کنترل کنیم.\n",
    "    <br>\n",
    "    پس به سراغ مثال های این فصل می‌رویم تا کار با فایل را به صورت عملی ببینیم:\n",
    "    <br>\n",
    "    <font color = C31330 size=4>\n",
    "    در ابتدا نیاز است به این نکته اشاره کنم که در فراخوانی فایل نیاز است مُد آن را مشخص کنیم.\n",
    "    در اینجا w به معنای نوشتن است و r به معنای خواندن. مد های دیگری هم هست که در صورت نیاز به مرور به آنها اشاره می‌شود.\n",
    "</font>\n",
    "</font>\n",
    "</div>"
   ]
  },
  {
   "cell_type": "code",
   "execution_count": 6,
   "metadata": {},
   "outputs": [],
   "source": [
    "s = 'I want to add this sentence in the file with name myfile.txt'\n",
    "#ابتدا نیاز است فایل خود را باز کنید\n",
    "f = open('myfile.txt','w')\n",
    "# سپس در اینجا با استفاده از پرینت مقداری که میخواهیم را در فایل اضافه میکنیم:\n",
    "print(s,file=f)\n",
    "# در اینجا با استفاده از رایت این کار را انجام میدهیم:\n",
    "f.write(s)\n",
    "f.write('this is the end!')\n",
    "# در نهایت حتما فایل خود را ببندید\n",
    "f.close()"
   ]
  },
  {
   "cell_type": "code",
   "execution_count": 7,
   "metadata": {},
   "outputs": [
    {
     "name": "stdout",
     "output_type": "stream",
     "text": [
      "I want to add this sentence in the file with name myfile.txt\n",
      "I want to add this sentence in the file with name myfile.txtthis is the end!\n"
     ]
    }
   ],
   "source": [
    "# حال وقت آن است که فایل خود را بخوانیم:\n",
    "\n",
    "# این بار از یک روش دیگر برای باز کردن فایل استفاده میکنیم که کار را برای ما راحت تر کند\n",
    "# با این شیوه نیاز به بستن فایل در خواندن نیست\n",
    "with open('myfile.txt','r') as f:\n",
    "    myContent = f.read()\n",
    "    print(myContent)"
   ]
  },
  {
   "cell_type": "markdown",
   "metadata": {},
   "source": [
    "<div dir=\"rtl\" style=\"line-height:300%;\"><font face=\"XB Nazanin\" size=5>\n",
    "    <p></p>\n",
    "    در بالا میبینید که در خط دوم جمله مورد نظر به جمله دوم چسبیده است.\n",
    "    این اتفاق به این دلیل افتاده است که بین write های متوالی هیچ اتفاقی رخ نمی‌دهد.\n",
    "    به این معنا که در صورت استفاده از write اگر می‌خواهید جمله بعدی شما در خط بعد باشد در انتهای جمله خود یک\n",
    "    <code>n\\</code>\n",
    "    اضافه کنید.\n",
    "    در غیر این صورت یک space قرار دهید که جمله بعد شما فاصله بگیرد و یا space را به صورت جداگانه write کنید.\n",
    "    <br>\n",
    "    به مثال زیر دقت کنید:\n",
    "</font>\n",
    "</div>"
   ]
  },
  {
   "cell_type": "code",
   "execution_count": 8,
   "metadata": {},
   "outputs": [
    {
     "name": "stdout",
     "output_type": "stream",
     "text": [
      "I want to add this sentence in the file with name myfile.txt\n",
      "Again, I want to add this sentence in the file with name myfile.txt\n"
     ]
    }
   ],
   "source": [
    "s = 'I want to add this sentence in the file with name myfile.txt'\n",
    "\n",
    "with open('myfile.txt','w') as f:\n",
    "    f.write(s)\n",
    "    f.write('\\n')\n",
    "    f.write('Again, '+s)\n",
    "f.close()\n",
    "\n",
    "# حال فایل را میخوانیم تا ببینیم در آن چه اتفاقی افتاده است\n",
    "with open('myfile.txt','r') as f:\n",
    "    myContent = f.read()\n",
    "    print(myContent)"
   ]
  },
  {
   "cell_type": "markdown",
   "metadata": {},
   "source": [
    "<div dir=\"rtl\" style=\"line-height:300%;\"><font face=\"XB Nazanin\" size=5>\n",
    "    <p></p>\n",
    "    اگر دقت کرده باشید فایل myfile را بار دیگر صدا کردیم و در آن مقادیر جدید ریختیم اما چیزی که به ما نمایش داده می‌شود تنها مقادیر جدید است.\n",
    "    دلیل آن به مد بر‌می‌گردند. در مد 'w' ما هربار که فایل را صدا می‌زنیم به چشم فایل جدید به آن نگاه می‌کند.\n",
    "    اگر وجود داشته باشد از اول ذخیره می‌شود و اگر وجود نداشته باشد ساخته می‌شود.\n",
    "    <br>\n",
    "    در صورتی که می‌خواهید به فایل خود مقداری جدید اضافه کنید از مد a استفاده کنید که به معنای <code>append</code> است.\n",
    "    در این حالت اگر فایل شما موجود نباشد به خطا برمی‌خورید. این اتفاق در خواندن فایل هم ممکن است رخ بدهد.\n",
    "    <br>\n",
    "    برای برطرف کردن این موضوع میتوان از متد های مختلفی در پایتون استفاده کرد. به مثال زیر دقت کنید:\n",
    "</font>\n",
    "</div>"
   ]
  },
  {
   "cell_type": "code",
   "execution_count": 9,
   "metadata": {},
   "outputs": [
    {
     "ename": "FileNotFoundError",
     "evalue": "[Errno 2] No such file or directory: 'notmyfile.txt'",
     "output_type": "error",
     "traceback": [
      "\u001b[1;31m---------------------------------------------------------------------------\u001b[0m",
      "\u001b[1;31mFileNotFoundError\u001b[0m                         Traceback (most recent call last)",
      "\u001b[1;32m<ipython-input-9-525b2de9464b>\u001b[0m in \u001b[0;36m<module>\u001b[1;34m\u001b[0m\n\u001b[1;32m----> 1\u001b[1;33m \u001b[1;32mwith\u001b[0m \u001b[0mopen\u001b[0m\u001b[1;33m(\u001b[0m\u001b[1;34m'notmyfile.txt'\u001b[0m\u001b[1;33m,\u001b[0m\u001b[1;34m'r'\u001b[0m\u001b[1;33m)\u001b[0m \u001b[1;32mas\u001b[0m \u001b[0mf\u001b[0m\u001b[1;33m:\u001b[0m\u001b[1;33m\u001b[0m\u001b[1;33m\u001b[0m\u001b[0m\n\u001b[0m\u001b[0;32m      2\u001b[0m     \u001b[0mmyContent\u001b[0m \u001b[1;33m=\u001b[0m \u001b[0mf\u001b[0m\u001b[1;33m.\u001b[0m\u001b[0mread\u001b[0m\u001b[1;33m(\u001b[0m\u001b[1;33m)\u001b[0m\u001b[1;33m\u001b[0m\u001b[1;33m\u001b[0m\u001b[0m\n\u001b[0;32m      3\u001b[0m     \u001b[0mprint\u001b[0m\u001b[1;33m(\u001b[0m\u001b[0mmyContent\u001b[0m\u001b[1;33m)\u001b[0m\u001b[1;33m\u001b[0m\u001b[1;33m\u001b[0m\u001b[0m\n",
      "\u001b[1;31mFileNotFoundError\u001b[0m: [Errno 2] No such file or directory: 'notmyfile.txt'"
     ]
    }
   ],
   "source": [
    "with open('notmyfile.txt','r') as f:\n",
    "    myContent = f.read()\n",
    "    print(myContent)"
   ]
  },
  {
   "cell_type": "code",
   "execution_count": 15,
   "metadata": {},
   "outputs": [
    {
     "name": "stdout",
     "output_type": "stream",
     "text": [
      "Oops! ' No such file or directory ' occurred in line 2\n"
     ]
    }
   ],
   "source": [
    "# امتحان کردن یک دستور:\n",
    "try:\n",
    "    with open('notmyfile.txt','r') as f:\n",
    "        myContent = f.read()\n",
    "        print(myContent)\n",
    "# در صورتی که دستور به خطا بر بخورد:\n",
    "except Exception as e:\n",
    "    # خطای ای دارای دو مقدار است. خط رخداد و اتفاق افتاده\n",
    "    print(\"Oops! '\", e.args[1], \"' occurred in line\",e.args[0])"
   ]
  },
  {
   "cell_type": "markdown",
   "metadata": {},
   "source": [
    "<div dir=\"rtl\" style=\"line-height:300%;\"><font face=\"XB Nazanin\" size=5>\n",
    "    <p></p>\n",
    "    بنابراین با در خط بالا استفاده از try و except را نیز دیدید.\n",
    "    <br>\n",
    "    اما تا اینجا ما فقط نام و فرمت فایل مد نظر را نوشتیم.\n",
    "    <br>\n",
    "    این فایل کجا ذخیره می‌شود؟\n",
    "    <br>\n",
    "    چگونه می‌توان فایل ها را از قسمت های دیگر خواند؟\n",
    "    <br>\n",
    "    جواب این سوالات به ترتیب این است:\n",
    "    <br>\n",
    "    این فایل در جایی ذخیره می‌شود که فایل ژوپیتر شما یا همان فایل .ipynb شما در آنجا قرار دارد.\n",
    "    <br>\n",
    "    در صورتی که می‌خواهید فایل را از یک جای دیگر بخوانید آدرس آن را کپی کنید و جای تمامی \\ ها را با / تغییر دهید.\n",
    "</font>\n",
    "</div>"
   ]
  },
  {
   "cell_type": "code",
   "execution_count": 18,
   "metadata": {},
   "outputs": [
    {
     "name": "stdout",
     "output_type": "stream",
     "text": [
      "I want to add this sentence in the file with name myfile.txt\n",
      "Again, I want to add this sentence in the file with name myfile.txt\n"
     ]
    }
   ],
   "source": [
    "try:\n",
    "    with open('C:/Users/Niloo/Documents/My Python Project/myfile.txt','r') as f:\n",
    "        myContent = f.read()\n",
    "        print(myContent)\n",
    "except Exception as e:\n",
    "    print(\"Oops! '\", e.args[1], \"' occurred in line\",e.args[0])"
   ]
  },
  {
   "cell_type": "markdown",
   "metadata": {},
   "source": [
    "<div dir=\"rtl\" style=\"line-height:300%;\"><font face=\"XB Nazanin\" size=5>\n",
    "    <p></p>\n",
    "    برخی دیگر از توابع هستند که در خطوط زیر با آنها نیز آشنا می‌شویم:\n",
    "    <br>\n",
    "</font>\n",
    "</div>"
   ]
  },
  {
   "cell_type": "code",
   "execution_count": 5,
   "metadata": {},
   "outputs": [
    {
     "name": "stdout",
     "output_type": "stream",
     "text": [
      "first line:\n",
      "I want to add this sentence in the file with name myfile.txt\n",
      "\n",
      "second line:\n",
      "Again, I want to add this sentence in the file with name myfile.txt\n"
     ]
    }
   ],
   "source": [
    "with open('myfile.txt','r') as f:\n",
    "    # یک لاین را میخواند و فایل را سر خط بعدی نگه میدارد:\n",
    "    myContent = f.readline()\n",
    "    # خط بعدی را میخواند\n",
    "    myContent2 = f.readline()\n",
    "    print('first line:')\n",
    "    print(myContent)\n",
    "    print('second line:')\n",
    "    print(myContent2)"
   ]
  },
  {
   "cell_type": "code",
   "execution_count": 3,
   "metadata": {},
   "outputs": [
    {
     "name": "stdout",
     "output_type": "stream",
     "text": [
      "['I want to add this sentence in the file with name myfile.txt\\n', 'Again, I want to add this sentence in the file with name myfile.txt']\n"
     ]
    }
   ],
   "source": [
    "with open('myfile.txt','r') as f:\n",
    "    #تمام خط ها را در مقادیر جدا میخواند و آنها را در لیست قرار میدهد:\n",
    "    myContent = f.readlines()\n",
    "    print(myContent)"
   ]
  },
  {
   "cell_type": "code",
   "execution_count": 8,
   "metadata": {},
   "outputs": [
    {
     "name": "stdout",
     "output_type": "stream",
     "text": [
      "File name: myfile.txt\n",
      "File mode: r\n",
      "Is it readable?  True\n",
      "Is it writable?  False\n"
     ]
    }
   ],
   "source": [
    "with open('myfile.txt','r') as f:\n",
    "    #چند مقدار داخلی کلاس فایل:\n",
    "    print(\"File name:\",f.name)\n",
    "    print('File mode:',f.mode)\n",
    "    # چند تابع کلاس فایل:\n",
    "    print('Is it readable? ',f.readable())\n",
    "    print('Is it writable? ',f.writable())\n",
    "    "
   ]
  },
  {
   "cell_type": "markdown",
   "metadata": {},
   "source": [
    "<div dir=\"rtl\" style=\"line-height:300%;\"><font face=\"XB Nazanin\" size=5>\n",
    "    <p></p>\n",
    "    حال چند مثال را با هم حل می‌کنیم:\n",
    "    <br>\n",
    "    اما قبل از آن که به سراغ حل مسائل برویم نیاز است یک فایل داشته باشیم تا بتوانیم مثال های خود را روی آن اعمال کنیم.\n",
    "    بنابراین ابتدا این فایل را تعریف می‌کنیم:\n",
    "    <br>\n",
    "    \\n\\ هایی که در رشته می‌بینید جهت راحتی ما و فهم رشته تعریف شده است.\n",
    "    \\ در آخر هر خط به تنهایی می‌گوید که رشته در خط بعد ادامه دارد.\n",
    "</font>\n",
    "</div>"
   ]
  },
  {
   "cell_type": "code",
   "execution_count": 10,
   "metadata": {},
   "outputs": [
    {
     "name": "stdout",
     "output_type": "stream",
     "text": [
      "Buddy, you're a boy, make a big noise\n",
      "Playing in the street, gonna be a big man someday\n",
      "You got mud on your face, you big disgrace\n",
      "Kicking your can all over the place, singin'\n",
      "We will, we will rock you\n",
      "We will, we will rock you\n",
      "Buddy, you're a young man, hard man\n",
      "Shouting in the street, gonna take on the world someday\n",
      "You got blood on your face, you big disgrace\n",
      "Waving your banner all over the place\n",
      "We will, we will rock you, sing it!\n",
      "We will, we will rock you, yeah\n",
      "Buddy, you're an old man, poor man\n",
      "Pleading with your eyes, gonna get you some peace someday\n",
      "You got mud on your face, big disgrace\n",
      "Somebody better put you back into your place, do it!\n",
      "We will, we will rock you, yeah, yeah, come on\n",
      "We will, we will rock you, alright, louder!\n",
      "We will, we will rock you, one more time\n",
      "We will, we will rock you\n",
      "Yeah\n"
     ]
    }
   ],
   "source": [
    "s = \"Buddy, you're a boy, make a big noise\\n\\\n",
    "Playing in the street, gonna be a big man someday\\n\\\n",
    "You got mud on your face, you big disgrace\\n\\\n",
    "Kicking your can all over the place, singin'\\n\\\n",
    "We will, we will rock you\\n\\\n",
    "We will, we will rock you\\n\\\n",
    "Buddy, you're a young man, hard man\\n\\\n",
    "Shouting in the street, gonna take on the world someday\\n\\\n",
    "You got blood on your face, you big disgrace\\n\\\n",
    "Waving your banner all over the place\\n\\\n",
    "We will, we will rock you, sing it!\\n\\\n",
    "We will, we will rock you, yeah\\n\\\n",
    "Buddy, you're an old man, poor man\\n\\\n",
    "Pleading with your eyes, gonna get you some peace someday\\n\\\n",
    "You got mud on your face, big disgrace\\n\\\n",
    "Somebody better put you back into your place, do it!\\n\\\n",
    "We will, we will rock you, yeah, yeah, come on\\n\\\n",
    "We will, we will rock you, alright, louder!\\n\\\n",
    "We will, we will rock you, one more time\\n\\\n",
    "We will, we will rock you\\n\\\n",
    "Yeah\"\n",
    "\n",
    "with open('we will rock you.txt','w') as f:\n",
    "    f.write(s)\n",
    "f.close()    \n",
    "\n",
    "with open('we will rock you.txt','r') as f:\n",
    "    myContent = f.read()\n",
    "    print(myContent)"
   ]
  },
  {
   "cell_type": "markdown",
   "metadata": {},
   "source": [
    "<div dir=\"rtl\" style=\"line-height:300%;\"><font face=\"XB Nazanin\" size=5>\n",
    "    <p></p>\n",
    "    حال با داشتن فایل به سراغ مثال می‌رویم.\n",
    "    <br>\n",
    "    1. می‌خواهیم تعداد خط های فایل را به دست بیاوریم.\n",
    "</font>\n",
    "</div>"
   ]
  },
  {
   "cell_type": "code",
   "execution_count": 11,
   "metadata": {},
   "outputs": [
    {
     "name": "stdout",
     "output_type": "stream",
     "text": [
      "We have 21 line(s).\n"
     ]
    }
   ],
   "source": [
    "with open('we will rock you.txt','r') as f:\n",
    "    myContent = f.readlines()\n",
    "    print('We have',len(myContent),'line(s).')"
   ]
  },
  {
   "cell_type": "markdown",
   "metadata": {},
   "source": [
    "<div dir=\"rtl\" style=\"line-height:300%;\"><font face=\"XB Nazanin\" size=5>\n",
    "    <p></p>\n",
    "    برای مثال بالا می‌توان راه حل های دیگر هم داشت. اینجا این راه حل را برای آن انتخاب کردیم.\n",
    "    <br>\n",
    "    2. تعداد اتفاق کلمه will را در فایل به دست بیاورید.\n",
    "</font>\n",
    "</div>"
   ]
  },
  {
   "cell_type": "code",
   "execution_count": 12,
   "metadata": {},
   "outputs": [
    {
     "name": "stdout",
     "output_type": "stream",
     "text": [
      "Number of \"will\" occurrence is 8\n"
     ]
    }
   ],
   "source": [
    "with open('we will rock you.txt','r') as f:\n",
    "    myContent = f.read()\n",
    "    \n",
    "words = myContent.split()\n",
    "count = 0\n",
    "for w in words:\n",
    "    if w=='will':\n",
    "        count+=1\n",
    "print('Number of \"will\" occurrence is',count)"
   ]
  },
  {
   "cell_type": "markdown",
   "metadata": {},
   "source": [
    "<div dir=\"rtl\" style=\"line-height:300%;\"><font face=\"XB Nazanin\" size=5>\n",
    "    <p></p>\n",
    "    در مثال بالا انتظار میرود تعداد willها بسیار بیشتر از 8 باشد. اما دلیل این که ما عدد 8 را میبینیم چیست؟\n",
    "    <br>\n",
    "    به لیست زیر دقت کنید.\n",
    "    تقریبا نیمی کلمه های will دارای یک ویرگول هستند که از کلمه جدا نشده‌اند. بنابراین در چک بالا لحاظ نمی‌شوند.\n",
    "</font>\n",
    "</div>"
   ]
  },
  {
   "cell_type": "code",
   "execution_count": 13,
   "metadata": {},
   "outputs": [
    {
     "data": {
      "text/plain": [
       "['Buddy,',\n",
       " \"you're\",\n",
       " 'a',\n",
       " 'boy,',\n",
       " 'make',\n",
       " 'a',\n",
       " 'big',\n",
       " 'noise',\n",
       " 'Playing',\n",
       " 'in',\n",
       " 'the',\n",
       " 'street,',\n",
       " 'gonna',\n",
       " 'be',\n",
       " 'a',\n",
       " 'big',\n",
       " 'man',\n",
       " 'someday',\n",
       " 'You',\n",
       " 'got',\n",
       " 'mud',\n",
       " 'on',\n",
       " 'your',\n",
       " 'face,',\n",
       " 'you',\n",
       " 'big',\n",
       " 'disgrace',\n",
       " 'Kicking',\n",
       " 'your',\n",
       " 'can',\n",
       " 'all',\n",
       " 'over',\n",
       " 'the',\n",
       " 'place,',\n",
       " \"singin'\",\n",
       " 'We',\n",
       " 'will,',\n",
       " 'we',\n",
       " 'will',\n",
       " 'rock',\n",
       " 'you',\n",
       " 'We',\n",
       " 'will,',\n",
       " 'we',\n",
       " 'will',\n",
       " 'rock',\n",
       " 'you',\n",
       " 'Buddy,',\n",
       " \"you're\",\n",
       " 'a',\n",
       " 'young',\n",
       " 'man,',\n",
       " 'hard',\n",
       " 'man',\n",
       " 'Shouting',\n",
       " 'in',\n",
       " 'the',\n",
       " 'street,',\n",
       " 'gonna',\n",
       " 'take',\n",
       " 'on',\n",
       " 'the',\n",
       " 'world',\n",
       " 'someday',\n",
       " 'You',\n",
       " 'got',\n",
       " 'blood',\n",
       " 'on',\n",
       " 'your',\n",
       " 'face,',\n",
       " 'you',\n",
       " 'big',\n",
       " 'disgrace',\n",
       " 'Waving',\n",
       " 'your',\n",
       " 'banner',\n",
       " 'all',\n",
       " 'over',\n",
       " 'the',\n",
       " 'place',\n",
       " 'We',\n",
       " 'will,',\n",
       " 'we',\n",
       " 'will',\n",
       " 'rock',\n",
       " 'you,',\n",
       " 'sing',\n",
       " 'it!',\n",
       " 'We',\n",
       " 'will,',\n",
       " 'we',\n",
       " 'will',\n",
       " 'rock',\n",
       " 'you,',\n",
       " 'yeah',\n",
       " 'Buddy,',\n",
       " \"you're\",\n",
       " 'an',\n",
       " 'old',\n",
       " 'man,',\n",
       " 'poor',\n",
       " 'man',\n",
       " 'Pleading',\n",
       " 'with',\n",
       " 'your',\n",
       " 'eyes,',\n",
       " 'gonna',\n",
       " 'get',\n",
       " 'you',\n",
       " 'some',\n",
       " 'peace',\n",
       " 'someday',\n",
       " 'You',\n",
       " 'got',\n",
       " 'mud',\n",
       " 'on',\n",
       " 'your',\n",
       " 'face,',\n",
       " 'big',\n",
       " 'disgrace',\n",
       " 'Somebody',\n",
       " 'better',\n",
       " 'put',\n",
       " 'you',\n",
       " 'back',\n",
       " 'into',\n",
       " 'your',\n",
       " 'place,',\n",
       " 'do',\n",
       " 'it!',\n",
       " 'We',\n",
       " 'will,',\n",
       " 'we',\n",
       " 'will',\n",
       " 'rock',\n",
       " 'you,',\n",
       " 'yeah,',\n",
       " 'yeah,',\n",
       " 'come',\n",
       " 'on',\n",
       " 'We',\n",
       " 'will,',\n",
       " 'we',\n",
       " 'will',\n",
       " 'rock',\n",
       " 'you,',\n",
       " 'alright,',\n",
       " 'louder!',\n",
       " 'We',\n",
       " 'will,',\n",
       " 'we',\n",
       " 'will',\n",
       " 'rock',\n",
       " 'you,',\n",
       " 'one',\n",
       " 'more',\n",
       " 'time',\n",
       " 'We',\n",
       " 'will,',\n",
       " 'we',\n",
       " 'will',\n",
       " 'rock',\n",
       " 'you',\n",
       " 'Yeah']"
      ]
     },
     "execution_count": 13,
     "metadata": {},
     "output_type": "execute_result"
    }
   ],
   "source": [
    "words"
   ]
  },
  {
   "cell_type": "markdown",
   "metadata": {},
   "source": [
    "<div dir=\"rtl\" style=\"line-height:300%;\"><font face=\"XB Nazanin\" size=5>\n",
    "    <p></p>\n",
    "    برای آنکه این مسئله را حل کنیم نیاز است از ویژگی های رشته استفاده کنیم و ابتدا تمامی ویرگول ها را از آن حذف کنیم.\n",
    "    <br>\n",
    "</font>\n",
    "</div>"
   ]
  },
  {
   "cell_type": "code",
   "execution_count": 14,
   "metadata": {},
   "outputs": [
    {
     "name": "stdout",
     "output_type": "stream",
     "text": [
      "Number of \"will\" occurrence is 16\n"
     ]
    }
   ],
   "source": [
    "with open('we will rock you.txt','r') as f:\n",
    "    myContent = f.read()\n",
    "# به خط زیر دفت کنید:\n",
    "myContent = myContent.replace(',','') # در ابتدا ویرگول ها با هیچی جایگزین میشوند\n",
    "\n",
    "words = myContent.split()\n",
    "count = 0\n",
    "for w in words:\n",
    "    if w=='will':\n",
    "        count+=1\n",
    "print('Number of \"will\" occurrence is',count)"
   ]
  },
  {
   "cell_type": "markdown",
   "metadata": {},
   "source": [
    "<div dir=\"rtl\" style=\"line-height:300%;\"><font face=\"XB Nazanin\" size=5>\n",
    "    <p></p>\n",
    "    با این دو مثال این فصل را به پایان می‌رسانیم.\n",
    "    <br>\n",
    "    مثال های بیشتری در طول مسیر یادگیری به چشم شما خواهد خورد.\n",
    "    در فصل بعد با یادگیری دیکشنری چند مثال از فایل نیز می‌بینیم.\n",
    "    <br>\n",
    "    همچنین توابع بازگشتی نیز در فصل بعد مورد بررسی قرار می‌گیرند.\n",
    "</font>\n",
    "</div>\n",
    "\n",
    "<a  href=\"#menu\">بازگشت به فهرست اصلی</a>\n",
    "---"
   ]
  },
  {
   "cell_type": "markdown",
   "metadata": {},
   "source": [
    "<div dir=\"rtl\" style=\"line-height:300%;\"><font face=\"XB Nazanin\" size=5>\n",
    "    <font color=135FC3 size=6>\n",
    "<p></p>\n",
    "<div align=center><a  name=\"section12\" href=\"#menu\">فصل 12: توابع بازگشتی و ساختار مجموعه و دیکشنری (Set, Dictionary)</a></div>\n",
    "</font>\n",
    "<font color=#C31330>\n",
    "مقدمه\n",
    "</font><p></p>\n",
    "    می‌توان گفت درک توابع بازگشتی کمی سخت تر از مباحث دیگری است که تا اینجا با آن آشنا شدید.\n",
    "    در این فصل با مثال های متعدد، از آسان به سخت، سعی می‌شود این توابع به طور کامل برای شما جا بیافتد.\n",
    "    <br>\n",
    "    در بخش بعدی مجموعه و دیکشنری را داریم. با مجموعه سابقا آشنا شده اید؛ اما اینجا دوباره آن را خواهیم دید.\n",
    "    دیکشنری یک ساختار بسیار کاربردی است که بالاخره در این فصل با آن آشنا خواهیم شد و چند مثال از آن را با هم می‌بینیم.\n",
    "    <br>\n",
    "    <a  name=\"section12menu\">فهرست این فصل را به دو قسمت تقسیم می‌کنیم:</a>\n",
    "    <ol>\n",
    "     <li><a  href=\"#sub1sec12\">توابع بازگشتی</a></li>\n",
    "     <li><a  href=\"#sub2sec12\">مجموعه و دیکشنری</a></li>\n",
    "    </ol>\n",
    "    <font color = C31330 size=4>\n",
    "</font>\n",
    "</font>\n",
    "</div>"
   ]
  },
  {
   "cell_type": "markdown",
   "metadata": {},
   "source": [
    "<div dir=\"rtl\" style=\"line-height:300%;\"><font face=\"XB Nazanin\" size=5>\n",
    "    <font color=#C31330 size=5>\n",
    "    <p></p>\n",
    "    <div align=center><a name=\"sub1sec12\">توابع بازگشتی</a></div></font>\n",
    "    <p></p>\n",
    "    توابع بازگشتی نوعی از توابع هستند که خود را در داخل خود صدا می‌زنند.\n",
    "    به این ترتیب در هر باز اجرای تابع، در میان دستورها بار دیگر به خود باز می‌گردند.\n",
    "    به تصویر زیر توجه کنید:\n",
    "    <br>\n",
    "    <img src=\"Pics/recursion-function.png\" width=\"500\" height=\"500\" alt=\"\" />  \n",
    "    <br>\n",
    "    در خارج از تابع، مانند تمام توابع دیگر، آن را صدا می‌زنیم.\n",
    "    در داخل تابع نیز آن را صدا زدیم و هر با به خط مربوطه برسد، به ابتدای تابع باز می‌گردد.\n",
    "    تا زمانی که طبق شرطی، بازگشت قبل از صدا زدن تابع اتفاق بیافتد و یا شرطی برای بازگشت بگذاریم که از یک جایی به بعد آن خط را رد کند.\n",
    "    <br>\n",
    "    این صحبت ها ممکن از در حال حاضر برای شما بی معنی به نظر برسد. بنابراین پیشنهاد می‌کنم بعد از دیدن چند مثال این توضیحات را دوباره بخوانید تا فهم آن برای شما آسان تر شود.\n",
    "    <br>\n",
    "    اما وقت آن است که به سراغ مثال ها برویم و برخی از آنها را به صورت مو به مو بررسی کنیم.\n",
    "    <br>\n",
    "    <a  href=\"#section12menu\">بازگشت به فهرست</a>\n",
    "    <br>\n",
    "    <br>\n",
    "    مثال اول: می‌خواهیم برای n بار 2 را در خودش ضرب کنیم؛ در واقع 2 را به توان n برسانیم:\n",
    "</font>\n",
    "</div>"
   ]
  },
  {
   "cell_type": "code",
   "execution_count": 15,
   "metadata": {},
   "outputs": [],
   "source": [
    "# تابع را تعریف میکنیم\n",
    "def power2(n):\n",
    "    # یک شرط برای تمام شدن تابع قرار میدهیم\n",
    "    if n==1:\n",
    "        return 2\n",
    "    # بازگشت را برای آن تعریف میکنیم\n",
    "    return 2*power2(n-1)"
   ]
  },
  {
   "cell_type": "code",
   "execution_count": 17,
   "metadata": {},
   "outputs": [
    {
     "data": {
      "text/plain": [
       "8"
      ]
     },
     "execution_count": 17,
     "metadata": {},
     "output_type": "execute_result"
    }
   ],
   "source": [
    "power2(3) # دو به توان 3 میرسد"
   ]
  },
  {
   "cell_type": "markdown",
   "metadata": {},
   "source": [
    "<div dir=\"rtl\" style=\"line-height:300%;\"><font face=\"XB Nazanin\" size=5>\n",
    "    <p></p>\n",
    "    در تابع بالا همانطور که می‌بینیم یک شرط وجود دارد که اگر مقدار ورودی یا همان توان برابر 1 بود تنها 2 را برگرداند.\n",
    "    این تابع را می‌توان بهبود هم بخشید. برای مثال بگوییم اگر توان برابر صفر بود مقدار 1 را برگرداند.\n",
    "    این برگرداندن زود موقع باعث می‌شود تابع به خطوط دیگر دسترسی نداشته باشد\n",
    "    <br>\n",
    "    اما قسمت اصلی در خط بعد قرار می‌گیرد. جایی که خود تابع را صدا می‌زنیم.\n",
    "    این قسمت به دو بخش تقسیم می‌شود:\n",
    "    <br>\n",
    "    1. قسمت return\n",
    "    <br>\n",
    "    2. قسمت صدا کردن تابع\n",
    "    <br>\n",
    "    در قسمت اول یک بازگشت تعریف می‌کنیم که نتیجه ما را در نهایت بازگرداند و ما بتوانیم ان را ببینیم.\n",
    "    همچنین هر باز مقدار برگردد تا بتوان آن را در 2 ضرب کرد و به مقدار بعدی برسیم.\n",
    "    بنابراین اگر بخواهیم این تابع را برای n=4 نمایش بدهیم به صورت زیر خواهد بود:\n",
    "    <br>\n",
    "    <img src=\"Pics/return-expletation.png\" width=\"500\" height=\"500\" alt=\"\" />  \n",
    "    <br>\n",
    "    همانطور که در تصویر بالا می‌بینید هر باز تابع در خودش صدا زده می‌شود یک فضا در حافظه باز می‌کند و محاسبات داخل آن را انجام می‌دهد.\n",
    "    این کار آن قدر ادامه پیدا می‌کند تا دیگر تابعی باز نشود و یک مقدار بازگردد. سپس محاسبات توابع یکی یکی کامل می‌شود و عقب باز می‌گردد.\n",
    "    <br>\n",
    "    <br>\n",
    "    مثال دوم فاکتوریل است.\n",
    "    در تابع فاکتوریل داریم  n! = n*(n-1)*...*3*2*1 .\n",
    "    تا اینجا می‌دانیم چگونه می‌توان این تابع را به صورت تکراری و با استفاده از for پیاده سازی کرد.\n",
    "    حال این تابع را به صورت بازگشتی در زیر پیاده سازی می‌کنیم.\n",
    "</font>\n",
    "</div>"
   ]
  },
  {
   "cell_type": "code",
   "execution_count": 18,
   "metadata": {},
   "outputs": [],
   "source": [
    "def fact(n):\n",
    "    # شرط پایانی برای تابع همانطور که در فاکتوریل وجود دارد\n",
    "    if n==0 or n==1:\n",
    "        return 1\n",
    "    # حال هر بار فاکتوریل را در مقادیر قبلی ضرب میکنیم\n",
    "    return n*fact(n-1)"
   ]
  },
  {
   "cell_type": "code",
   "execution_count": 19,
   "metadata": {},
   "outputs": [
    {
     "data": {
      "text/plain": [
       "6"
      ]
     },
     "execution_count": 19,
     "metadata": {},
     "output_type": "execute_result"
    }
   ],
   "source": [
    "fact(3)"
   ]
  },
  {
   "cell_type": "markdown",
   "metadata": {},
   "source": [
    "<div dir=\"rtl\" style=\"line-height:300%;\"><font face=\"XB Nazanin\" size=5>\n",
    "    <p></p>\n",
    "    کاری که در مثال بالا انجام می‌دهیم این است که می‌نویسیم n! = n*((n-1)!) .\n",
    "    <br>\n",
    "    سپس در مرحله بعد خواهیم داشت :\n",
    "    <div dir=\"ltr\">(n-1)! = (n-1)*(n-2)!</div>\n",
    "    این کار تا زمانی ادامه دارد که به 1! برسیم. در این حالت دیگر تابع فراخوانی نمی‌شود و عدد 1 برمی‌گردد. \n",
    "    سپس مانند مثال قبل تمام توابع باز شده یکی یکی مقادیر را برمی‌گردانند.\n",
    "    <br>\n",
    "    <br>\n",
    "    در مثال سوم محاسبه عدد nام فیبوناتچی را داریم.\n",
    "    <br>\n",
    "    تابع فیبوناتچی به صورت زیر است:\n",
    "    <br>\n",
    "    <div dir=\"ltr\">\n",
    "        n if n = 0, n = 1 \n",
    "        <br>\n",
    "        otherwise fib(n) = fib(n-1) + fib(n-2)\n",
    "    </div>\n",
    "</font>\n",
    "</div>"
   ]
  },
  {
   "cell_type": "code",
   "execution_count": 22,
   "metadata": {},
   "outputs": [
    {
     "name": "stdout",
     "output_type": "stream",
     "text": [
      "1\t1\t2\t3\t5\t8\t13\t21\t34\t"
     ]
    }
   ],
   "source": [
    "def fibo(n):\n",
    "    if n==1 or n==0:\n",
    "        return n\n",
    "    return fibo(n-1)+fibo(n-2)\n",
    "\n",
    "# حال مقادیر 1 تا 9 دنباله را میبینیم:\n",
    "for i in range(1,10):\n",
    "    print(fibo(i), end = '\\t')"
   ]
  },
  {
   "cell_type": "markdown",
   "metadata": {},
   "source": [
    "<div dir=\"rtl\" style=\"line-height:300%;\"><font face=\"XB Nazanin\" size=5>\n",
    "    <p></p>\n",
    "    تفاوت مسئله بالا در تعداد بارهایی است که تابع در خودش فراخوانی می‌شود.\n",
    "    روند در تابع بالا له این صورت است که تمامی مراحل مربوط به تابع قبل+ انجام می‌شود سپس به سراغ مراحل تابع دومی یا همان فراخوانی بعد + می‌رود.\n",
    "    در آخر کار نیز، پس از پایان کار تابع دوم مقدار نهایی برمی‌گردد\n",
    "    <br>\n",
    "    همانطور که متوجه شدید این به این معنی است که یک کار دوبار انجام می‌شود.\n",
    "    با این که حل این مسئله به این روش بهینه نیست اما فهم مسئله را برای ما آسان تر می‌کند.\n",
    "    <br>\n",
    "    <br>\n",
    "    در مثال چهارم مسئله برج هانوی را داریم که یکی از مسائل معروف در توابع بازگشتی در ریاضی است.\n",
    "    <br>\n",
    "    این مسئله به این صورت است که سه میله داریم و در یکی از آن ها تعدادی حلقه بازی از بزرگ به کوچک مانند شکل زیر چیده شده اند، می‌خواهیم آن ها را به همین صورت به ستون آخر منتقل کنیم:\n",
    "    <br>\n",
    "    <img src=\"Pics/qthl3qrwlzye.jpeg\" width=\"500\" height=\"500\" alt=\"\" />  \n",
    "    <br>\n",
    "    شاید فکر کنید راحت است. اما پیچیدگی مسئله به آن قسمت برمی‌گردد که هر بار تنها می‌توانید یک حلقه را جابه‌جا کنید.\n",
    "    بنا براین تابع ریاضی آن برای حداقل تعداد حرکت در این مسیر به صورت ریاضی در زیر تعریف شده است:\n",
    "    <div dir=\"ltr\">\n",
    "        1 if n = 1 \n",
    "        <br>\n",
    "        otherwise h(n) = 2*h(n-1)+1\n",
    "    </div>\n",
    "    در این تابع n تعداد حلقه هاست.\n",
    "</font>\n",
    "</div>"
   ]
  },
  {
   "cell_type": "code",
   "execution_count": 24,
   "metadata": {},
   "outputs": [
    {
     "data": {
      "text/plain": [
       "15"
      ]
     },
     "execution_count": 24,
     "metadata": {},
     "output_type": "execute_result"
    }
   ],
   "source": [
    "def hanoi(n):\n",
    "    if n==1:\n",
    "        return 1\n",
    "    return 2*hanoi(n-1)+1\n",
    "\n",
    "\n",
    "hanoi(4)"
   ]
  },
  {
   "cell_type": "markdown",
   "metadata": {},
   "source": [
    "<div dir=\"rtl\" style=\"line-height:300%;\"><font face=\"XB Nazanin\" size=5>\n",
    "    <p></p>\n",
    "    برای آن که روند را با هم ببینیم می‌توانید به گیف زیر دقت کنید و تعداد حرکات را بشمارید:\n",
    "    <br>\n",
    "    <img src=\"Pics/hanoi4.gif\" width=\"500\" height=\"500\" alt=\"\" />  \n",
    "    <br>\n",
    "    <br>\n",
    "    مسائل بسیاری از این دست وجود دارند. که برخی از آن ها را دیدیم.\n",
    "    <br>\n",
    "    به عنوان آخرین مثال فرض کنیم می‌خواهیم یک لیست را آن قدر تقسیم کنیم که تمامی داده های آن جدا شوند.\n",
    "    <br>\n",
    "</font>\n",
    "</div>"
   ]
  },
  {
   "cell_type": "code",
   "execution_count": 25,
   "metadata": {},
   "outputs": [
    {
     "name": "stdout",
     "output_type": "stream",
     "text": [
      "[1]\n",
      "[2]\n",
      "[3]\n",
      "[4]\n",
      "[5]\n",
      "[6]\n",
      "[7]\n"
     ]
    }
   ],
   "source": [
    "def devider(l):\n",
    "    #اگر لیست شامل یک مقدار بود آن را چاپ کند:\n",
    "    if len(l)<2:\n",
    "        print(l)\n",
    "        return # این فسمت برای پایان دادن به بازگشت است\n",
    "    # عدد عنصر میانه ی لیست را میگیرد تا بتوانیم هر بار لیست را تفسیم کنیم\n",
    "    mid = len(l)//2\n",
    "    # حال بخش سمت راست را دوباره به تابع میفرستیم\n",
    "    devider(l[:mid])\n",
    "    # حال بخش سمت چپ را دوباره برای تقسیم میفرستیم\n",
    "    devider(l[mid:])\n",
    "    \n",
    "\n",
    "    \n",
    "l = [1,2,3,4,5,6,7]\n",
    "devider(l)"
   ]
  },
  {
   "cell_type": "markdown",
   "metadata": {},
   "source": [
    "<div dir=\"rtl\" style=\"line-height:300%;\"><font face=\"XB Nazanin\" size=5>\n",
    "    <p></p>\n",
    "    با دیدن این مثال این بخش را به پایان می‌رسانیم.\n",
    "    <br>\n",
    "    در بخش آینده به آشنایی با دیکشنری و مجموعه می‌پردازیم.\n",
    "    <br>\n",
    "    <br>\n",
    "    <a  href=\"#section12menu\">بازگشت به فهرست این فصل</a>\n",
    "</font>\n",
    "</div>"
   ]
  },
  {
   "cell_type": "markdown",
   "metadata": {},
   "source": [
    "<div dir=\"rtl\" style=\"line-height:300%;\"><font face=\"XB Nazanin\" size=5>\n",
    "    <font color=#C31330 size=5>\n",
    "    <p></p>\n",
    "    <div align=center><a name=\"sub1sec12\">مجموعه و دیکشنری</a></div></font>\n",
    "    <p></p>\n",
    "    دو ساختار مجموعه و دیکشنری از یک مدل برای پیاده‌سازی تبعیت می‌کنند.\n",
    "    هر دوی آنها با استفاده از {} تعریف می‌شوند؛ اما فرق اساسی آن ها در ساختار داخلی آنها است.\n",
    "    <br>\n",
    "    با چگونگی ساختار داخلی مجموعه در فصل های قبل آشنا شدید اما برای آن که بار دیگر مروری بر آن داشته باشیم، در اینجا نیز به آن اشاره می‌کنیم.\n",
    "    <br>\n",
    "    مجموعه ها در پایتون و تمام زبان های دیگر برنامه نویسی، مانند مجموعه در ریاضی عمل می‌کنند. \n",
    "    به این مفهوم که از هر شیء تنها یک مورد می‌تواند در آنها وجود داشته باشد.\n",
    "    بنابراین نوشتن آن مانند لیستی از اشیاء است که تنها یک مورد از هر کدام را نگه می‌دارد. در ضمن همانطور که گفته شد با {} تعریف می‌شود.\n",
    "    <br>\n",
    "    <br>\n",
    "    در مورد دیکشنری لازم است ابتدا یک تعریف مختصر از آن را داشته باشیم؛ سپس پیاده سازی آن را با هم ببینیم.\n",
    "    <br>\n",
    "    در دیکشنری‌ها هر عضو دارای یک کلید و یک مقدار است. \n",
    "    در لیست‌ها داشتیم عنصر یکم برابر فلان مقدار. \n",
    "    در اینجا به جای آن که عنصر یکم را صدا بزنیم می‌گوییم عنصر فلان کلید برابر فلان مقدار است.\n",
    "    <br>\n",
    "    <a  href=\"#section12menu\">بازگشت به فهرست</a>\n",
    "    <br>\n",
    "    <br>\n",
    "    حال برای آن که این موارد را به طور کامل متوجه شویم نیاز به مثال است.\n",
    "    ابتدا به سراغ مثال‌های مجموعه و سپس به سراغ مثال‌های دیکشنری می‌رویم:\n",
    "</font>\n",
    "</div>"
   ]
  },
  {
   "cell_type": "code",
   "execution_count": 26,
   "metadata": {},
   "outputs": [
    {
     "name": "stdout",
     "output_type": "stream",
     "text": [
      "{1, 2, 3, 4, 5}\n"
     ]
    }
   ],
   "source": [
    "st = {1,2,3,1,2,3,4,2,3,1,5}\n",
    "print(st)"
   ]
  },
  {
   "cell_type": "code",
   "execution_count": 27,
   "metadata": {},
   "outputs": [
    {
     "name": "stdout",
     "output_type": "stream",
     "text": [
      "{1, 2, 3, 4, 5}\n"
     ]
    }
   ],
   "source": [
    "st = set([1,2,3,1,2,3,4,2,3,1,5]) # یک لیست را تبدیل به مجموعه میکند و یا یک مجموعه خالی میسازد\n",
    "print(st)"
   ]
  },
  {
   "cell_type": "code",
   "execution_count": 30,
   "metadata": {},
   "outputs": [
    {
     "name": "stdout",
     "output_type": "stream",
     "text": [
      "Number of elements: 25\n",
      "Number of unique elements: 14\n",
      "Unique elements are: [1, 2, 3, 4, 5, 6, 9, 12, 21, 43, 64, 65, 124, 356]\n"
     ]
    }
   ],
   "source": [
    "# میخواهیم در لیست زیر تعداد اعضا و تعداد اعضای منحصر به فرد را بیابیم\n",
    "l = [2,1,5,3,6,2,4,6,9,6,12,5,3,12,6,65,124,356,1,2,43,12,43,64,21]\n",
    "\n",
    "print('Number of elements:', len(l))\n",
    "print('Number of unique elements:',len(set(l)))\n",
    "# همانطور که در زیر میبینید یک تابع از پیش تعریف شده در پایتون وجود دارد که همه ساختارهای تکراری را مرتب میکند\n",
    "print('Unique elements are:', sorted(set(l)))\n",
    "# برخلاف سورت لیست، این تابع یک کپی از ساخ÷تار تکراری را بازمیگرداند و نه خود ساختار را"
   ]
  },
  {
   "cell_type": "markdown",
   "metadata": {},
   "source": [
    "<div dir=\"rtl\" style=\"line-height:300%;\"><font face=\"XB Nazanin\" size=5>\n",
    "    <p></p>\n",
    "    حال چند مثال  و تعریف از دیکشنری ببینیم:\n",
    "    <br>\n",
    "</font>\n",
    "</div>"
   ]
  },
  {
   "cell_type": "code",
   "execution_count": 45,
   "metadata": {},
   "outputs": [
    {
     "name": "stdout",
     "output_type": "stream",
     "text": [
      "{} <class 'dict'>\n",
      "dic =  {0: 123, '1': 'fist val', 2: 'second val', '4th key': 3}\n",
      "dic['1']:  fist val\n",
      "dic[2]:  second val\n",
      "dic['4th key']:  3\n",
      "dictionary after changing dic['1']:  {0: 123, '1': 43, 2: 'second val', '4th key': 3}\n",
      "dictionary after adding new key and value:  {0: 123, '1': 43, 2: 'second val', '4th key': 3, 534: 'new val'}\n",
      "dictionary after deleting dic['1']:  {0: 123, 2: 'second val', '4th key': 3, 534: 'new val'}\n"
     ]
    }
   ],
   "source": [
    "# دیکشنری خالی:\n",
    "dic = dict()\n",
    "print(dic, type(dic))\n",
    "\n",
    "# دیکشنری با تعریف داده در آن:\n",
    "dic = {0:123, '1':'fist val', 2:'second val', '4th key': 3}\n",
    "print('dic = ',dic)\n",
    "\n",
    "# دسترسی به مقادیر با استفاده از کلید:\n",
    "print(\"dic['1']: \",dic['1'])\n",
    "print(\"dic[2]: \",dic[2])\n",
    "print(\"dic['4th key']: \",dic['4th key'])\n",
    "\n",
    "# تغییر یک مقدار از یک کلید:\n",
    "dic['1'] = 43\n",
    "print(\"dictionary after changing dic['1']: \",dic)\n",
    "\n",
    "# اضافه کردن یک کلید و مقدار آن:\n",
    "dic[534] = 'new val'\n",
    "print(\"dictionary after adding new key and value: \",dic)\n",
    "\n",
    "# حذف یک مقدار و کلید آن:\n",
    "del(dic['1'])\n",
    "print(\"dictionary after deleting dic['1']: \",dic)\n"
   ]
  },
  {
   "cell_type": "markdown",
   "metadata": {},
   "source": [
    "<div dir=\"rtl\" style=\"line-height:300%;\"><font face=\"XB Nazanin\" size=5>\n",
    "    <p></p>\n",
    "    اما اطلاعات دیگری هم هست که می‌توانید از دیکشنری بگیرید:\n",
    "    <br>\n",
    "</font>\n",
    "</div>"
   ]
  },
  {
   "cell_type": "code",
   "execution_count": 46,
   "metadata": {},
   "outputs": [
    {
     "name": "stdout",
     "output_type": "stream",
     "text": [
      "dictionary keys:  dict_keys([0, 2, '4th key', 534])\n",
      "dictionary values:  dict_values([123, 'second val', 3, 'new val'])\n",
      "items:  dict_items([(0, 123), (2, 'second val'), ('4th key', 3), (534, 'new val')])\n",
      "pop last item:  (534, 'new val')\n",
      "pop a value 123\n"
     ]
    }
   ],
   "source": [
    "# از دیکشنری تعریف شده در بالا استفاده میکنیم:\n",
    "\n",
    "print('dictionary keys: ',dic.keys()) #کلید های دیکشنری را بر میگرداند\n",
    "print('dictionary values: ',dic.values()) # مقادیر دیکشنری را برمیگرداند\n",
    "print('items: ',dic.items()) # تمام داده ها را به صورت لیستی از تاپل ها بازمیگرداند\n",
    "print('pop last item: ', dic.popitem()) # اخرین تاپل کلید و مقدار را باز میگرداند\n",
    "print('pop a  of a key',dic.pop(0))# مقدار یک کلید مشخص شده را بر میگرداند.\n",
    "# اگر پاپ را به خاطر داشته باشید، بازگرداندن همراه با حذف آن مقدار است"
   ]
  },
  {
   "cell_type": "code",
   "execution_count": 47,
   "metadata": {},
   "outputs": [
    {
     "data": {
      "text/plain": [
       "{2: 'second val', '4th key': 3}"
      ]
     },
     "execution_count": 47,
     "metadata": {},
     "output_type": "execute_result"
    }
   ],
   "source": [
    "dic"
   ]
  },
  {
   "cell_type": "markdown",
   "metadata": {},
   "source": [
    "<div dir=\"rtl\" style=\"line-height:300%;\"><font face=\"XB Nazanin\" size=5>\n",
    "    <p></p>\n",
    "    اما نوبت به حل چند مثال می‌رسد:\n",
    "    <br>\n",
    "    <br>\n",
    "    1. می‌خواهیم نمرات یک کلاس را در درس های متفاوت در یک دیکشنری ذخیره کنیم\n",
    "</font>\n",
    "</div>"
   ]
  },
  {
   "cell_type": "code",
   "execution_count": 56,
   "metadata": {},
   "outputs": [
    {
     "name": "stdout",
     "output_type": "stream",
     "text": [
      "math mean is 15.833333\n",
      "art mean is 16.833333\n",
      "science mean is 18.666667\n"
     ]
    }
   ],
   "source": [
    "dic = {'math':[10,14,20,19,15,17], 'art':[20,19,20,14,13,15], 'science':[20,19,18,19,16,20]}\n",
    "\n",
    "# mean of every course:\n",
    "for key in dic.keys():\n",
    "    m = sum(dic[key])/len(dic[key]) # میانگین برای لیست هر کلید محاسبه میشود\n",
    "    print(\"{} mean is {:.6f}\".format(key,m)) # مقادیر میانگین تا 6 رقم رند میشوند"
   ]
  },
  {
   "cell_type": "markdown",
   "metadata": {},
   "source": [
    "<div dir=\"rtl\" style=\"line-height:300%;\"><font face=\"XB Nazanin\" size=5>\n",
    "    <p></p>\n",
    "    <br>\n",
    "    <br>\n",
    "    2.حال می‌خواهیم با استفاده از فایل یک متن را بخوانیم و تعداد کلمات یونیک یا منحصر به فرد را به استفاده از دیکشنری ذخیره کنیم:\n",
    "</font>\n",
    "</div>"
   ]
  },
  {
   "cell_type": "code",
   "execution_count": 63,
   "metadata": {},
   "outputs": [
    {
     "name": "stdout",
     "output_type": "stream",
     "text": [
      "Our dictionary in first method:\n",
      "  {'in': 2, 'hard': 1, 'on': 5, 'it!': 2, 'one': 1, 'Yeah': 1, 'noise': 1, 'we': 8, 'take': 1, 'Buddy': 3, 'peace': 1, 'some': 1, 'time': 1, 'mud': 2, 'old': 1, 'with': 1, 'Waving': 1, 'alright': 1, 'Playing': 1, 'poor': 1, \"singin'\": 1, 'street': 2, 'will': 16, 'the': 5, 'Somebody': 1, 'back': 1, 'banner': 1, 'your': 7, 'more': 1, 'put': 1, 'be': 1, 'do': 1, 'man': 5, 'an': 1, 'young': 1, 'Pleading': 1, 'You': 3, 'got': 3, 'boy': 1, 'face': 3, 'you': 12, 'make': 1, 'disgrace': 3, 'Shouting': 1, 'louder!': 1, 'yeah': 3, \"you're\": 3, 'a': 4, 'big': 5, 'into': 1, 'get': 1, 'better': 1, 'Kicking': 1, 'We': 8, 'come': 1, 'can': 1, 'sing': 1, 'gonna': 3, 'eyes': 1, 'world': 1, 'blood': 1, 'all': 2, 'someday': 3, 'rock': 8, 'over': 2, 'place': 3}\n",
      "Our dictionary in second method:\n",
      "  {'Buddy': 3, \"you're\": 3, 'a': 4, 'boy': 1, 'make': 1, 'big': 5, 'noise': 1, 'Playing': 1, 'in': 2, 'the': 5, 'street': 2, 'gonna': 3, 'be': 1, 'man': 5, 'someday': 3, 'You': 3, 'got': 3, 'mud': 2, 'on': 5, 'your': 7, 'face': 3, 'you': 12, 'disgrace': 3, 'Kicking': 1, 'can': 1, 'all': 2, 'over': 2, 'place': 3, \"singin'\": 1, 'We': 8, 'will': 16, 'we': 8, 'rock': 8, 'young': 1, 'hard': 1, 'Shouting': 1, 'take': 1, 'world': 1, 'blood': 1, 'Waving': 1, 'banner': 1, 'sing': 1, 'it!': 2, 'yeah': 3, 'an': 1, 'old': 1, 'poor': 1, 'Pleading': 1, 'with': 1, 'eyes': 1, 'get': 1, 'some': 1, 'peace': 1, 'Somebody': 1, 'better': 1, 'put': 1, 'back': 1, 'into': 1, 'do': 1, 'come': 1, 'alright': 1, 'louder!': 1, 'one': 1, 'more': 1, 'time': 1, 'Yeah': 1}\n"
     ]
    }
   ],
   "source": [
    "# از فایل ذخیره شده در فصل قبل استفاده میکنیم:\n",
    "with open('we will rock you.txt','r') as f:\n",
    "    myContent = f.read()\n",
    "myContent = myContent.replace(',','')\n",
    "words = myContent.split()\n",
    "# تا اینجا از اطلاعات فصل قبل استفاده کردیم\n",
    "# حال به سراغ ذخیره تعداد هر کلمه یونیک در لیست بالا میرویم:\n",
    "# برای این کار دو روش داریم.\n",
    "# 1. میتوانیم ابتدا از مجموعه استفاده کنیم و سپس تعداد را با استفاده از حلقه بشماریم:\n",
    "\n",
    "# مجموعه و دیکشنری خود را میسازیم\n",
    "uniqueWords = set(words)\n",
    "wordDict1 = dict()\n",
    "\n",
    "for w in uniqueWords:\n",
    "    wordDict1[w] = 0 # برای تمام کلمات موجود یک کلید میسازیم با مقدار 0\n",
    "# حال زمان محاسبه تعداد است\n",
    "for w in words:\n",
    "    wordDict1[w]+=1 # هر کلمه ای که میبینیم، یک عدد به مقدار آن کلمه در دیکشنری اضافه میکنیم.\n",
    "\n",
    "print('Our dictionary in first method:\\n ', wordDict1)        \n",
    "\n",
    "\n",
    "# البته روش بالا هزینه بر است.\n",
    "# زیرا هم از مجموعه و هم از دیکشنری استفاده شده است. بنابراین به سراغ روش دوم میرویم:\n",
    "# 2. برای کم کردن هزینه تنها استفاده از دیکشنری کافی است:\n",
    "\n",
    "# این بار تنها دیکشنری را میسازیم\n",
    "wordDict2 = dict()\n",
    "\n",
    "for w in words:\n",
    "    if w in wordDict2.keys():\n",
    "        wordDict2[w]+=1 # اگر آن کلمه در کلید وجود داشت به مقدار آن یکی اضافه شود\n",
    "    else:\n",
    "        wordDict2[w]=1 # اگر کلمه برای اولین بار دیده میشود و هنوز در کلید نیست آن را با مقدار یک اضافه کن\n",
    "\n",
    "print('Our dictionary in second method:\\n ', wordDict2)    "
   ]
  },
  {
   "cell_type": "code",
   "execution_count": 72,
   "metadata": {},
   "outputs": [
    {
     "name": "stdout",
     "output_type": "stream",
     "text": [
      "Our dictionary in first method after sort:\n",
      "  {'will': 16, 'you': 12, 'we': 8, 'We': 8, 'rock': 8, 'your': 7, 'on': 5, 'the': 5, 'man': 5, 'big': 5, 'a': 4, 'Buddy': 3, 'You': 3, 'got': 3, 'face': 3, 'disgrace': 3, 'yeah': 3, \"you're\": 3, 'gonna': 3, 'someday': 3, 'place': 3, 'in': 2, 'it!': 2, 'mud': 2, 'street': 2, 'all': 2, 'over': 2, 'hard': 1, 'one': 1, 'Yeah': 1, 'noise': 1, 'take': 1, 'peace': 1, 'some': 1, 'time': 1, 'old': 1, 'with': 1, 'Waving': 1, 'alright': 1, 'Playing': 1, 'poor': 1, \"singin'\": 1, 'Somebody': 1, 'back': 1, 'banner': 1, 'more': 1, 'put': 1, 'be': 1, 'do': 1, 'an': 1, 'young': 1, 'Pleading': 1, 'boy': 1, 'make': 1, 'Shouting': 1, 'louder!': 1, 'into': 1, 'get': 1, 'better': 1, 'Kicking': 1, 'come': 1, 'can': 1, 'sing': 1, 'eyes': 1, 'world': 1, 'blood': 1}\n",
      "Our dictionary in second method after sort:\n",
      "  {'will': 16, 'you': 12, 'We': 8, 'we': 8, 'rock': 8, 'your': 7, 'big': 5, 'the': 5, 'man': 5, 'on': 5, 'a': 4, 'Buddy': 3, \"you're\": 3, 'gonna': 3, 'someday': 3, 'You': 3, 'got': 3, 'face': 3, 'disgrace': 3, 'place': 3, 'yeah': 3, 'in': 2, 'street': 2, 'mud': 2, 'all': 2, 'over': 2, 'it!': 2, 'boy': 1, 'make': 1, 'noise': 1, 'Playing': 1, 'be': 1, 'Kicking': 1, 'can': 1, \"singin'\": 1, 'young': 1, 'hard': 1, 'Shouting': 1, 'take': 1, 'world': 1, 'blood': 1, 'Waving': 1, 'banner': 1, 'sing': 1, 'an': 1, 'old': 1, 'poor': 1, 'Pleading': 1, 'with': 1, 'eyes': 1, 'get': 1, 'some': 1, 'peace': 1, 'Somebody': 1, 'better': 1, 'put': 1, 'back': 1, 'into': 1, 'do': 1, 'come': 1, 'alright': 1, 'louder!': 1, 'one': 1, 'more': 1, 'time': 1, 'Yeah': 1}\n"
     ]
    }
   ],
   "source": [
    "# ممکن است در خطوط بالا یکسانی دو دیکشنری دیده نشود\n",
    "# بنابراین در خطوط پایین آن ها را از بیشترین مقدار اتفاق تا کمترین مرتب میکنیم تا مقایسه راحت شود:\n",
    "\n",
    "print('Our dictionary in first method after sort:\\n ',\n",
    "      dict(sorted(wordDict1.items(),key=lambda i: i[1], reverse=True)))\n",
    "print('Our dictionary in second method after sort:\\n ',\n",
    "      dict(sorted(wordDict2.items(),key=lambda i: i[1], reverse=True)))\n",
    "#! نیاز نیست کد های مربوط به مرتب سازی را یاد بگیرید"
   ]
  },
  {
   "cell_type": "markdown",
   "metadata": {},
   "source": [
    "<div dir=\"rtl\" style=\"line-height:300%;\"><font face=\"XB Nazanin\" size=5>\n",
    "    <p></p>\n",
    "    <br>\n",
    "    <br>\n",
    "    3. به عنوان آخرین مثال می‌خواهیم دو دیکشنری را با هم ترکیب کنیم.\n",
    "    ابتدا دو دیکشنری از تعداد کلمات می‌سازیم، سپس این دو را یکی می‌کنیم:\n",
    "    </font>\n",
    "</div>"
   ]
  },
  {
   "cell_type": "code",
   "execution_count": 75,
   "metadata": {},
   "outputs": [
    {
     "name": "stdout",
     "output_type": "stream",
     "text": [
      "{'On': 1, 'a': 16, 'dark': 1, 'desert': 1, 'highway': 1, 'cool': 1, 'wind': 1, 'in': 8, 'my': 3, 'hair': 1, 'Warm': 1, 'smell': 1, 'of': 7, 'colitas': 1, 'rising': 1, 'up': 5, 'through': 1, 'the': 29, 'air': 1, 'Up': 1, 'ahead': 1, 'distance': 1, 'I': 11, 'saw': 1, 'shimmering': 1, 'light': 1, 'My': 1, 'head': 1, 'grew': 2, 'heavy': 1, 'and': 2, 'sight': 1, 'dim': 1, 'had': 3, 'to': 9, 'stop': 1, 'for': 3, 'night': 3, 'There': 2, 'she': 6, 'stood': 1, 'doorway': 1, 'heard': 2, 'mission': 1, 'bell': 1, 'And': 3, 'was': 3, 'thinking': 1, 'myself': 1, 'This': 1, 'could': 2, 'be': 3, 'Heaven': 1, 'or': 1, 'this': 1, 'Hell': 1, 'Then': 1, 'lit': 1, 'candle': 1, 'showed': 1, 'me': 2, 'way': 1, 'were': 1, 'voices': 2, 'down': 1, 'corridor': 1, 'thought': 1, 'them': 2, 'say': 2, 'Welcome': 2, 'Hotel': 4, 'California': 3, 'Such': 5, 'lovely': 6, 'place': 7, 'face': 5, 'Plenty': 1, 'room': 1, 'at': 2, 'Any': 2, 'time': 4, 'year': 2, 'You': 5, 'can': 4, 'find': 2, 'it': 5, 'here': 3, 'Her': 1, 'mind': 1, 'is': 1, 'Tiffany-twisted': 1, 'got': 5, 'Mercedes': 1, 'bends': 1, 'She': 1, 'lot': 1, 'pretty': 2, 'boys': 1, 'calls': 1, 'friends': 1, 'How': 1, 'they': 2, 'dance': 3, 'courtyard': 1, 'sweet': 1, 'summer': 1, 'sweat': 1, 'Some': 1, 'remember': 2, 'some': 2, 'forget': 1, 'So': 1, 'called': 1, 'Captain': 1, 'Please': 1, 'bring': 1, 'wine': 1, 'He': 1, 'said': 3, 'We': 11, 'havent': 1, 'that': 1, 'spirit': 1, 'since': 1, 'nineteen': 1, 'sixty': 1, 'nine': 1, 'still': 1, 'those': 1, 'are': 3, 'calling': 1, 'from': 1, 'far': 1, 'away': 1, 'Wake': 1, 'you': 15, 'middle': 1, 'Just': 1, 'hear': 1, 'placeSuch': 1, 'They': 3, 'livin': 1, 'CaliforniaWhat': 1, 'nice': 2, 'surprise': 1, 'what': 1, 'surpriseBring': 1, 'your': 8, 'alibisMirrors': 1, 'on': 7, 'ceilingThe': 1, 'pink': 1, 'champagne': 1, 'iceAnd': 1, 'all': 3, 'just': 2, 'prisoners': 1, 'our': 1, 'own': 1, 'device': 1, 'masters': 1, 'chambers': 1, 'gathered': 1, 'feast': 1, 'stab': 1, 'with': 2, 'their': 1, 'steely': 1, 'knives': 1, 'But': 2, 'cant': 1, 'kill': 1, 'beast': 1, 'Last': 1, 'thing': 1, 'Running': 1, 'door': 1, 'passage': 1, 'back': 2, 'To': 1, 'before': 1, 'Relax': 1, 'man': 6, 'programmed': 1, 'receive': 1, 'check-out': 1, 'any': 1, 'like': 1, 'never': 1, 'leave': 1, 'Buddy': 3, 'youre': 3, 'boy': 1, 'make': 1, 'big': 5, 'noise': 1, 'Playing': 1, 'street': 2, 'gonna': 3, 'someday': 3, 'mud': 2, 'disgrace': 3, 'Kicking': 1, 'over': 2, 'singin': 1, 'will': 16, 'we': 8, 'rock': 8, 'young': 1, 'hard': 1, 'Shouting': 1, 'take': 1, 'world': 1, 'blood': 1, 'Waving': 1, 'banner': 1, 'sing': 1, 'yeah': 3, 'an': 1, 'old': 1, 'poor': 1, 'Pleading': 1, 'eyes': 1, 'get': 1, 'peace': 1, 'Somebody': 1, 'better': 1, 'put': 1, 'into': 1, 'do': 1, 'come': 1, 'alright': 1, 'louder': 1, 'one': 1, 'more': 1, 'Yeah': 1}\n"
     ]
    }
   ],
   "source": [
    "hotelCalifornia = \" On a dark desert highway, cool wind in my hair \\\n",
    "Warm smell of colitas, rising up through the air \\\n",
    "Up ahead in the distance, I saw a shimmering light \\\n",
    "My head grew heavy and my sight grew dim \\\n",
    "I had to stop for the night \\\n",
    "There she stood in the doorway; \\\n",
    "I heard the mission bell \\\n",
    "And I was thinking to myself, \\\n",
    "\\\"This could be Heaven or this could be Hell\\\" \\\n",
    "Then she lit up a candle and she showed me the way \\\n",
    "There were voices down the corridor, \\\n",
    "I thought I heard them say... \\\n",
    "Welcome to the Hotel California \\\n",
    "Such a lovely place (Such a lovely place) \\\n",
    "Such a lovely face \\\n",
    "Plenty of room at the Hotel California \\\n",
    "Any time of year (Any time of year) \\\n",
    "You can find it here \\\n",
    "Her mind is Tiffany-twisted, she got the Mercedes bends \\\n",
    "She got a lot of pretty, pretty boys she calls friends \\\n",
    "How they dance in the courtyard, sweet summer sweat. \\\n",
    "Some dance to remember, some dance to forget \\\n",
    "So I called up the Captain, \\\n",
    "\\\"Please bring me my wine\\\" \\\n",
    "He said, \\\"We haven't had that spirit here since nineteen sixty nine\\\" \\\n",
    "And still those voices are calling from far away, \\\n",
    "Wake you up in the middle of the night \\\n",
    "Just to hear them say... \\\n",
    "Welcome to the Hotel California \\\n",
    "Such a lovely place (Such a lovely place)\\\n",
    "Such a lovely face \\\n",
    "They livin' it up at the Hotel California\\\n",
    "What a nice surprise (what a nice surprise)\\\n",
    "Bring your alibis\\\n",
    "Mirrors on the ceiling,\\\n",
    "The pink champagne on ice\\\n",
    "And she said \\\"We are all just prisoners here, of our own device\\\" \\\n",
    "And in the master's chambers, \\\n",
    "They gathered for the feast \\\n",
    "They stab it with their steely knives, \\\n",
    "But they just can't kill the beast \\\n",
    "Last thing I remember, I was \\\n",
    "Running for the door \\\n",
    "I had to find the passage back \\\n",
    "To the place I was before \\\n",
    "Relax,  said the night man, \\\n",
    "We are programmed to receive . \\\n",
    "You can check-out any time you like, \\\n",
    "But you can never leave!\"\n",
    "\n",
    "\n",
    "weWillRockYou = \"Buddy, you're a boy, make a big noise\\n\\\n",
    "Playing in the street, gonna be a big man someday\\n\\\n",
    "You got mud on your face, you big disgrace\\n\\\n",
    "Kicking your can all over the place, singin'\\n\\\n",
    "We will, we will rock you\\n\\\n",
    "We will, we will rock you\\n\\\n",
    "Buddy, you're a young man, hard man\\n\\\n",
    "Shouting in the street, gonna take on the world someday\\n\\\n",
    "You got blood on your face, you big disgrace\\n\\\n",
    "Waving your banner all over the place\\n\\\n",
    "We will, we will rock you, sing it!\\n\\\n",
    "We will, we will rock you, yeah\\n\\\n",
    "Buddy, you're an old man, poor man\\n\\\n",
    "Pleading with your eyes, gonna get you some peace someday\\n\\\n",
    "You got mud on your face, big disgrace\\n\\\n",
    "Somebody better put you back into your place, do it!\\n\\\n",
    "We will, we will rock you, yeah, yeah, come on\\n\\\n",
    "We will, we will rock you, alright, louder!\\n\\\n",
    "We will, we will rock you, one more time\\n\\\n",
    "We will, we will rock you\\n\\\n",
    "Yeah\"\n",
    "\n",
    "# علائم نگارشی را حذف میکنیم:\n",
    "for p in '.,\"\\'!;()':\n",
    "    hotelCalifornia = hotelCalifornia.replace(p,'')\n",
    "    weWillRockYou = weWillRockYou.replace(p,'')\n",
    "#کلمات را جدا میکنیم\n",
    "wordsWWRY = weWillRockYou.split()\n",
    "wordsHC = hotelCalifornia.split()\n",
    "\n",
    "#دیکشنری را برای هر کدام به صورت جدا میسازیم\n",
    "dictWWRY = dict()\n",
    "dictHC = dict()\n",
    "for w in wordsWWRY:\n",
    "    if w in dictWWRY.keys():\n",
    "        dictWWRY[w]+=1\n",
    "    else:\n",
    "        dictWWRY[w]=1\n",
    "\n",
    "for w in wordsHC:\n",
    "    if w in dictHC.keys():\n",
    "        dictHC[w]+=1\n",
    "    else:\n",
    "        dictHC[w]=1\n",
    "\n",
    "#------------------------------------------------------        \n",
    "# حال وقت ترکیب دو دیکشنری است\n",
    "#حال داده ها را با هم مخلوط میکنیم\n",
    "# من در اینجا تصمیم گرفتم داده های دیکشنری وی ویل راک یو را در هتل کالیفورنیا بریزم\n",
    "\n",
    "for (k,v) in dictWWRY.items():\n",
    "    if k in dictHC.keys():\n",
    "        dictHC[k]+=dictWWRY[k]\n",
    "    else:\n",
    "        dictHC[k]=dictWWRY[k]\n",
    "print(dictHC)"
   ]
  },
  {
   "cell_type": "markdown",
   "metadata": {},
   "source": [
    "<div dir=\"rtl\" style=\"line-height:300%;\"><font face=\"XB Nazanin\" size=5>\n",
    "    <p></p>\n",
    "    بنابراین با مثال بالا این بخش را نیز به پایان می‌رسانیم.\n",
    "    <br>\n",
    "    کار با دیکشنری بسیار ساده و لذت بخش است و کاربرد های بسیاری در دنیای واقعی دارد.\n",
    "    <br>\n",
    "    در فصل آینده با کلاس ها آشنا می‌شویم.\n",
    "    یکی از مهم ترین بخش ها در برنامه نویسی کلاس ها هستند که در فصل بعد با آنها در سطح اولیه آشنا می‌شویم.\n",
    "    <br>\n",
    "    <br>\n",
    "    <a  href=\"#menu\">بازگشت به فهرست اصلی</a>\n",
    "</font>\n",
    "</div>"
   ]
  },
  {
   "cell_type": "markdown",
   "metadata": {},
   "source": [
    "<div dir=\"rtl\" style=\"line-height:300%;\"><font face=\"XB Nazanin\" size=5>\n",
    "    <font color=135FC3 size=6>\n",
    "<p></p>\n",
    "<div align=center><a  name=\"section13\" href=\"#menu\" href=\"#menu\">فصل 13: مفهوم کلاس و برنامه سازی شی گرا</a></div>\n",
    "</font>\n",
    "<font color=#C31330>\n",
    "مقدمه\n",
    "</font><p></p>\n",
    "    برنامه نویسی شیء گرا یا Object Oriented Programming جزء مطالبی است که خیلی به گوش شما می‌خورد اما ممکن است مفهوم آن هیچگاه برای شما واضح نباشد.\n",
    "    برای آن که این مفهوم برای شما جا بیافتد نیاز است به آن به چشم ساده تری نگاه کنید.\n",
    "    <br>\n",
    "    در پایتون به محض تعریف کردن کلاس و موارد وابسته به آن، شما با برنامه نویسی شیء گرا رو به رو هستید.\n",
    "    بنابراین حتی ممکن است از این که از روش OOP استفاده می‌کنید مطلع هم نباشید.\n",
    "    <br>\n",
    "    بگذارید در این فصل این نام را کنار بگذاریم و به چشم ساده به مطالب نگاه کنیم.\n",
    "    تنها لازم است به خاطر داشته باشید در ادامه هر مطلبی که به کلاس و اجزای آن مرتبت است جزء برنامه نویسی شیء گرا تلقی می‌شود.\n",
    "    <br>\n",
    "    شاید از قبل بدانید که یک کتابخانه از تعداد متعددی کلاس تشکیل شده است؛\n",
    "    و یا تمامی ویژگی هایی که در پایتون از آن ها استفاده می‌کنید یک کلاس هستند.\n",
    "    برای مثال لیست در پایتون به صورت کلاس تعریف شده است. رشته، عدد، مجموعه و دیکشنری نیز کلاس های متفاوتی هستند به صورت از پیش تعیین شده در پایتون وجود دارند.\n",
    "    اگر دقت کرده باشید زمانی که از type استفاده می‌کنیم از عبارت class استفاده می‌کند.\n",
    "    <br>\n",
    "    وقت آن است که به سراغ تعریف کلاس و چند مثال برویم:\n",
    "    <font color = C31330 size=4>\n",
    "</font>\n",
    "</font>\n",
    "</div>"
   ]
  },
  {
   "cell_type": "code",
   "execution_count": 2,
   "metadata": {},
   "outputs": [
    {
     "name": "stdout",
     "output_type": "stream",
     "text": [
      "In the initial defenition!\n"
     ]
    }
   ],
   "source": [
    "class name_of_your_class(): # در پرانتز ارث بری را خواهیم داشت که بعدا در مورد آن صحبت میکنیم\n",
    "    def __init__(self): # *\n",
    "        print('In the initial defenition!')\n",
    "    \n",
    "myclass = name_of_your_class() #**"
   ]
  },
  {
   "cell_type": "markdown",
   "metadata": {},
   "source": [
    "<div dir=\"rtl\" style=\"line-height:300%;\"><font face=\"XB Nazanin\" size=5>\n",
    "    <p></p>\n",
    "    * در بالا یک تابع اولیه است که در تمامی کلاس ها وجود دارد.\n",
    "    در آن یک ورودی self هست که حتما باید در تابع اولیه باشد.\n",
    "    self یک مقدار اولیه است که با استفاده از آن می‌توان از ویژگی های از پیش تعیین شده کلاس استفاده کرد.\n",
    "    به مرور با این ویژگی ها آشنا می‌شویم.\n",
    "    <br>\n",
    "    در تابع اولیه یک پرینت گذاشته ایم. همان طور که در ** می‌بینید ما تنها از کلاس یک مقدار تعریف کردیم. به محض تعریف کلاس تابع اولیه اجرا می‌شود.\n",
    "    به همین دلیل پرینت اجرا شده است.\n",
    "    <br>\n",
    "    حال به مثال خود می افزاییم:\n",
    "</font>\n",
    "</div>"
   ]
  },
  {
   "cell_type": "code",
   "execution_count": 4,
   "metadata": {},
   "outputs": [
    {
     "name": "stdout",
     "output_type": "stream",
     "text": [
      "In the initial defenition!\n",
      "print this.\n"
     ]
    }
   ],
   "source": [
    "class name_of_your_class():\n",
    "    def __init__(self): \n",
    "        print('In the initial defenition!')\n",
    "    \n",
    "    def myPrint(self, val):\n",
    "        print(str(val))\n",
    "        \n",
    "myclass = name_of_your_class()\n",
    "myclass.myPrint('print this.')"
   ]
  },
  {
   "cell_type": "markdown",
   "metadata": {},
   "source": [
    "<div dir=\"rtl\" style=\"line-height:300%;\"><font face=\"XB Nazanin\" size=5>\n",
    "    <p></p>\n",
    "    در بالا یک تابع دیگر نیز به کلاس اضافه کردیم.\n",
    "    در ورودی دو مقدار گرفته است. یکی همان self که مقدار اولیه است و اجازه استفاده از ویژگی های کلاس را به ما می‌دهد.\n",
    "    دومی مقداری که قرار است در پرینت از آن استفاده شود.\n",
    "    <br>\n",
    "    استفاده از SELF برای این است که می‌خواهیم در خارج از کلاس از این تابع استفاده کنیم.\n",
    "    <br>\n",
    "    پس از تعریف کلاس در خط آخر (9) از تابع پرینت استفاده کردیم و یک مقدار را برای آن ارسال کردیم تا پرینت کند.\n",
    "    <br>\n",
    "    حال به مثال زیر توجه کنید. اگر خود کلاس را پرینت کنیم چه می‌شود؟\n",
    "</font>\n",
    "</div>"
   ]
  },
  {
   "cell_type": "code",
   "execution_count": 5,
   "metadata": {},
   "outputs": [
    {
     "name": "stdout",
     "output_type": "stream",
     "text": [
      "In the initial defenition!\n",
      "<__main__.name_of_your_class object at 0x000001E60C4A9B08>\n"
     ]
    }
   ],
   "source": [
    "class name_of_your_class():\n",
    "    def __init__(self): \n",
    "        print('In the initial defenition!')\n",
    "    \n",
    "    def myPrint(self, val):\n",
    "        print(str(val))\n",
    "        \n",
    "myclass = name_of_your_class()\n",
    "print(myclass)"
   ]
  },
  {
   "cell_type": "markdown",
   "metadata": {},
   "source": [
    "<div dir=\"rtl\" style=\"line-height:300%;\"><font face=\"XB Nazanin\" size=5>\n",
    "    <p></p>\n",
    "    فرض کنید می‌خواهیم در صورت پرینت کلاس اطلاعات خاصی را به شما نشان دهد.\n",
    "    در آن صورت از تابع زیر استفاده می‌کنیم که ویژگی های آن باز هم از پیش تعیین شده هستند\n",
    "    <br>\n",
    "</font>\n",
    "</div>"
   ]
  },
  {
   "cell_type": "code",
   "execution_count": 6,
   "metadata": {},
   "outputs": [
    {
     "name": "stdout",
     "output_type": "stream",
     "text": [
      "In the initial defenition!\n",
      "This is class name_of_your_class\n"
     ]
    }
   ],
   "source": [
    "class name_of_your_class():\n",
    "    def __init__(self): \n",
    "        print('In the initial defenition!')\n",
    "    \n",
    "    def myPrint(self, val):\n",
    "        print(str(val))\n",
    "        \n",
    "    def __str__(self):\n",
    "        return 'This is class name_of_your_class'\n",
    "        \n",
    "myclass = name_of_your_class()\n",
    "print(myclass)"
   ]
  },
  {
   "cell_type": "markdown",
   "metadata": {},
   "source": [
    "<div dir=\"rtl\" style=\"line-height:300%;\"><font face=\"XB Nazanin\" size=5>\n",
    "    <p></p>\n",
    "    همانطور که می‌بینید یک رشته بازمی‌گرداند که در آن می‌توانید هر اطلاعاتی که مایل هستید را نشان بدهید.\n",
    "    <br>\n",
    "    <br>\n",
    "    اما بیایید کلاسی تعریف کنیم که در آن اطلاعات یک انسان را ثبت کنیم.\n",
    "    به این معنا که هر انسان یک کلاس باشد.\n",
    "</font>\n",
    "</div>"
   ]
  },
  {
   "cell_type": "code",
   "execution_count": 14,
   "metadata": {},
   "outputs": [
    {
     "name": "stdout",
     "output_type": "stream",
     "text": [
      "This person's name is Niloofar and they are None year(s) old.\n",
      "This person's name is Niloofar and they are 26 year(s) old.\n",
      "This person's name is Your Name and they are 20 year(s) old.\n",
      "add two peaple:  46\n"
     ]
    }
   ],
   "source": [
    "class person():\n",
    "    def __init__(self, name): # در مرحله اول نام فرد را به عنوان ورودی میگیریم\n",
    "        self.name = name # در اینجا نام را به عنوان یک متغیر داخل کلاس تعریف میکنیم که آن را نگهداری کنیم\n",
    "        self.age = None # یک متغیر سن نیز تعریف میکنیم تا بعدا آن را مقدار دهی کنیم\n",
    "        \n",
    "    # در تابع زیر سن را مشخص میکنیم\n",
    "    def set_age(self, age): \n",
    "        self.age = age\n",
    "    # در زیر نیز سن را بر میگردانیم   \n",
    "    def get_age(self):\n",
    "        return self.age\n",
    "    \n",
    "    # اضافه کردن دو کلاس به هم این تابع را صدا میکند\n",
    "    # به خط 34 دقت کنید\n",
    "    def __add__(self, otherPerson):\n",
    "        return self.age + otherPerson.age\n",
    "        \n",
    "    def __str__(self):\n",
    "        return \"This person's name is \"+self.name+\" and they are \"+str(self.age)+\" year(s) old.\"\n",
    "\n",
    "    \n",
    "# حال زمان آن رسیده است که یک فرد را تعریف کنیم:\n",
    "person1 = person('Niloofar')\n",
    "print(person1)\n",
    "person1.set_age(26)\n",
    "print(person1)\n",
    "\n",
    "# نفر دوم را معرفی میکنیم:\n",
    "person2 = person('Your Name')\n",
    "person2.set_age(20)\n",
    "print(person2)\n",
    "\n",
    "# حال دو نفر را با هم جمع میکنیم\n",
    "print('add two peaple: ', person2+person1)"
   ]
  },
  {
   "cell_type": "markdown",
   "metadata": {},
   "source": [
    "<div dir=\"rtl\" style=\"line-height:300%;\"><font face=\"XB Nazanin\" size=5>\n",
    "    <p></p>\n",
    "    در عمل جمع می‌توانید خیلی کار ها انجام دهید. \n",
    "    در اینجا تعریف ما برای جمع سن آنها بود.\n",
    "    <br>\n",
    "    <br>\n",
    "    می‌توانیم با همین روش اطلاعات دیگری را نیز به کلاس خود اضافه کنیم.\n",
    "    این بار یک ساز را تعریف می‌کنیم:\n",
    "</font>\n",
    "</div>"
   ]
  },
  {
   "cell_type": "code",
   "execution_count": 17,
   "metadata": {},
   "outputs": [
    {
     "name": "stdout",
     "output_type": "stream",
     "text": [
      "ring ring\n",
      "ding dong\n",
      "ring ring and ding dong\n",
      "ding dong and ring ring\n"
     ]
    }
   ],
   "source": [
    "class instrument():\n",
    "    def __init__(this, name_of_instrument, voice_of_instrument = None, age_of_instrument=None, type_of = None):\n",
    "        this.name = name_of_instrument\n",
    "        this.voice = voice_of_instrument\n",
    "        this.age = age_of_instrument\n",
    "        this.type = type_of\n",
    "        \n",
    "    def set_voice(this,voice_of_instrument):\n",
    "        this.voice = voice_of_instrument\n",
    "        \n",
    "    def set_age(this, age_of_instrument):\n",
    "        this.age = age_of_instrument \n",
    "    \n",
    "    def set_type(this, type_of):\n",
    "        this.type = type_of\n",
    "        \n",
    "    def __add__(this, other):\n",
    "        return str(this.voice)+' and '+str(other.voice)\n",
    "    def __str__(this):\n",
    "        return str(this.voice)\n",
    "    \n",
    "#\n",
    "ins1 = instrument('Guitar',voice_of_instrument='ring ring')\n",
    "ins2 = instrument('Piano', 'ding dong')\n",
    "print(ins1)\n",
    "print(ins2)\n",
    "print(ins1+ins2)\n",
    "print(ins2+ins1)"
   ]
  },
  {
   "cell_type": "markdown",
   "metadata": {},
   "source": [
    "<div dir=\"rtl\" style=\"line-height:300%;\"><font face=\"XB Nazanin\" size=5>\n",
    "    <p></p>\n",
    "    در تابع ابتدایی کلاس بالا نوع دیگری از تعریف متغیر ها را می‌بینید.\n",
    "    می‌توانید به این صورت اجازه تعریف متغیر در اول کار یا بعدا را به کاربر بدهید.\n",
    "    اگر نام ورودی ها را بیان کنید می‌توانید به هر ترتیبی ورودی های خود را بدهید. \n",
    "    اما اگر نام ورودی ها را وارد نکنید حتما باید به ترتیب داخل تابع ورودی ها را وارد کنید.\n",
    "    <br>\n",
    "    برای مثال اگر بخواهید تنها سن ساز را مشخص کنید و نه صدای آن را؛ نیاز است بنویسید\n",
    "    age_of_instrument=1\n",
    "    که به این ترتیب از انتخاب مقدار صدا صرف نظر کرده اید.\n",
    "    <br>\n",
    "    <font color = C31330>\n",
    "    نکته دیگری که در کلاس بالا وجود دارد استفاده از کلمه this به جای کلمه self است.\n",
    "    با این روش به شما نشان داده شد که نام برای این متغیر اهمیتی ندارد و هر نامی به عنوان اولین متغیر تعریف شود متغیر مربوط به کلاس برای استفاده از ویژگی های آن است.\n",
    "        </font>\n",
    "    <br>\n",
    "    <br>\n",
    "    حال در زیر یک کلاس تعریف می‌کنیم برای یک کلاس درس که در آن می‌توانیم شماره دانشجویی افراد را به همراه نمره آنان تعریف کنیم:\n",
    "</font>\n",
    "</div>"
   ]
  },
  {
   "cell_type": "code",
   "execution_count": 24,
   "metadata": {},
   "outputs": [
    {
     "name": "stdout",
     "output_type": "stream",
     "text": [
      "This ID is already in the list.\n",
      "This student ID is not in the class yet. please try adding the score.\n",
      "Current scudents are  ['10', '12', '11', '20', '18']\n",
      "Mean of class: 18.4\n",
      "{'12': 19, '11': 15, '20': 18, '18': 20}\n"
     ]
    }
   ],
   "source": [
    "class math():\n",
    "    def __init__(self):\n",
    "        self.classDict = dict()\n",
    "        \n",
    "    def add_score(self, stdID, score):\n",
    "        if stdID in self.classDict.keys():\n",
    "            print('This ID is already in the list.')\n",
    "        else:\n",
    "            self.classDict[stdID] = score\n",
    "        \n",
    "    def change_score(self, stdID, score):\n",
    "        if stdID not in self.classDict.keys():\n",
    "            print('This student ID is not in the class yet. please try adding the score.')\n",
    "            print('Current scudents are ', list(self.classDict.keys()))\n",
    "        else:\n",
    "            self.classDict[stdID] = score\n",
    "    \n",
    "    def mean_of_class(self):\n",
    "        return sum(self.classDict.values())/len(self.classDict)\n",
    "    \n",
    "    def __sub__(self, stdID):\n",
    "        if stdID in self.classDict.keys():\n",
    "            self.classDict.pop(stdID)\n",
    "        else:\n",
    "            print('No such student ID in list.')\n",
    "    \n",
    "    def __str__(self):\n",
    "        return str(self.classDict)\n",
    "            \n",
    "myMath = math()\n",
    "myMath.add_score('10',20)\n",
    "myMath.add_score('12',19)\n",
    "myMath.add_score('11',12)\n",
    "myMath.add_score('20',18)\n",
    "myMath.add_score('18',20)\n",
    "\n",
    "#افزودن مقداری که قبلا در دیکشنری وجود داشته\n",
    "myMath.add_score('11',15)\n",
    "\n",
    "# تغییر مقدار بالا\n",
    "myMath.change_score('11',15)\n",
    "\n",
    "# تغییر مقداری که در کلید های دیکشنری نیست\n",
    "myMath.change_score('111',16)\n",
    "\n",
    "print('Mean of class:',myMath.mean_of_class())\n",
    "\n",
    "# حذف یک کلید با مقدار آن\n",
    "myMath-'10'\n",
    "print(myMath)\n"
   ]
  },
  {
   "cell_type": "markdown",
   "metadata": {},
   "source": [
    "<div dir=\"rtl\" style=\"line-height:300%;\"><font face=\"XB Nazanin\" size=5>\n",
    "    <p></p>\n",
    "    در کلاس بالا در ابتدا هیچ ورودی ای نگرفتیم و تنها یک دیکشنری خالی تعریف کردیم.\n",
    "    سپس با تعریف یک تابع، داده ها را به صورت یکی یکی به آن اضافه کردیم.\n",
    "    اما برای بهبود از افزودن دوباره یا همان تغییر مقدار یک کلید جلوگیری کردیم. به جای آن در تابع دیگری امکان تغییر مقدار را دادیم.\n",
    "    <br>\n",
    "    در تابع دیگری امکان درخواست میانگین کلاس را فراهم کردیم.\n",
    "    <br>\n",
    "    تابع پرینت مخصوص پرینت را نیز به شکلی تعریف کردیم که دیکشنری را به ما نشان دهد.\n",
    "    <br>\n",
    "    اما نکته قابل توجه تابع \n",
    "    <font color = C31330>__sub__</font>\n",
    "    است که باز هم یک تابع با ویژگی های از پیش تعیین شده است.\n",
    "    در این تابع اگر کلاس منهای یک مقدار شود (که در اینجا آن مقدار رشته و کلید است) این تابع فراخوانی می‌شود.\n",
    "    کاری که برای این تابع در نظر گرفته شده است حذف آن کلید و مقدارش از دیکشنری است.\n",
    "    <br>\n",
    "    شما می‌توانید هر تابعی که می‌خواهید و مد نظر دارید را به توابع بالا اضافه کنید و کارایی مورد نظر را در کلاس پیاده سازی کنید.\n",
    "    <br>\n",
    "    <br>\n",
    "    حال با یادگیری کلاس و دیدن چند نمونه از آن به سراغ مفهوم ارث بری می‌رویم.\n",
    "    <br>\n",
    "    ارث بری در کلاس مفهوم جدیدی نیست. \n",
    "    چرا؟\n",
    "    زیرا حتی زمانی که یک کلاس را به صورت معمولی تعریف می‌کنید از مفهوم ارث بری استفاده می‌کنید.\n",
    "    به مثال زیر دقت کنید:\n",
    "</font>\n",
    "</div>"
   ]
  },
  {
   "cell_type": "code",
   "execution_count": 26,
   "metadata": {},
   "outputs": [
    {
     "name": "stdout",
     "output_type": "stream",
     "text": [
      "In the initial defenition!\n"
     ]
    }
   ],
   "source": [
    "class name_of_your_class(object):\n",
    "    def __init__(self): \n",
    "        print('In the initial defenition!')\n",
    "    \n",
    "myclass = name_of_your_class()"
   ]
  },
  {
   "cell_type": "markdown",
   "metadata": {},
   "source": [
    "<div dir=\"rtl\" style=\"line-height:300%;\"><font face=\"XB Nazanin\" size=5>\n",
    "    <p></p>\n",
    "    کلاس بالا را در ابتدای این فصل دیدید.\n",
    "    اما در اینجا کلاس از object ارث برده است.\n",
    "    دلیل نداشتن تفاوت آن با کلاس اول این است که پایتون این امکان را می‌دهد که کلاس ها ارث بری پنهان از ویژگی های اولیه داشته باشند.\n",
    "    به همین دلیل نیاز به نوشتن object نداریم.\n",
    "    <br>\n",
    "    <br>\n",
    "    اما با این مثال متوجه شدیم که برای ارث بری کافی است نام کلاس قبلی (که از آن ارث برده میشود و کلاس پدر نام دارد) را هنگام تعریف کلاس در پرانتز بنویسیم.\n",
    "    حال می‌خواهیم یک کلاس دانشجو تعریف کنیم که از کلاس انسان که بالا تر تعریف شده است ارث ببرد:\n",
    "</font>\n",
    "</div>"
   ]
  },
  {
   "cell_type": "code",
   "execution_count": 29,
   "metadata": {},
   "outputs": [
    {
     "name": "stdout",
     "output_type": "stream",
     "text": [
      "age:  16\n",
      "Asta 10\n"
     ]
    }
   ],
   "source": [
    "# کلاس انسان که قبلا تعریف شده بود:\n",
    "class person():\n",
    "    def __init__(self, name):\n",
    "        self.name = name\n",
    "        self.age = None\n",
    "    \n",
    "    def set_age(self, age): \n",
    "        self.age = age\n",
    "    def get_age(self):\n",
    "        return self.age\n",
    "    def __add__(self, otherPerson):\n",
    "        return self.age + otherPerson.age\n",
    "    def __str__(self):\n",
    "        return \"This person's name is \"+self.name+\" and they are \"+str(self.age)+\" year(s) old.\"\n",
    "\n",
    "# کلاس دانشجو:\n",
    "class student(person):\n",
    "    def __init__(self, name, stdID):\n",
    "        # ابتدا اطلاعاتی که در کلاس پدر وجود دارند و نیاز به تعریف دوباره ندارند را به کلاس پدر باز میگردانیم\n",
    "        person.__init__(self,name) \n",
    "        self.stdid = stdID\n",
    "        \n",
    "    def __str__(self):\n",
    "        return self.name+' '+self.stdid\n",
    "\n",
    "std1 = student('Asta','10')\n",
    "std1.set_age(16) # تابعی در کلاس پدر که به آن دسترسی داریم\n",
    "print('age: ',std1.get_age()) # باز هم تابعی در کلاس پدر\n",
    "print(std1)\n"
   ]
  },
  {
   "cell_type": "markdown",
   "metadata": {},
   "source": [
    "<div dir=\"rtl\" style=\"line-height:300%;\"><font face=\"XB Nazanin\" size=5>\n",
    "    <p></p>\n",
    "    با مثال بالا به راحتی از ارث بری استفاده کردیم و راحتی کار با آن را دیدیم.\n",
    "    <br>\n",
    "    <br>\n",
    "    به مثال زیر نیز توجه کنید:\n",
    "</font>\n",
    "</div>"
   ]
  },
  {
   "cell_type": "code",
   "execution_count": 30,
   "metadata": {},
   "outputs": [
    {
     "name": "stdout",
     "output_type": "stream",
     "text": [
      "ring ring\n",
      "ring ring\n"
     ]
    }
   ],
   "source": [
    "# کلاس ساز که قبلا پیاده سازی شده بود:\n",
    "class instrument():\n",
    "    def __init__(this, name_of_instrument, voice_of_instrument = None, age_of_instrument=None, type_of = None):\n",
    "        this.name = name_of_instrument\n",
    "        this.voice = voice_of_instrument\n",
    "        this.age = age_of_instrument\n",
    "        this.type = type_of\n",
    "        \n",
    "    def set_voice(this,voice_of_instrument):\n",
    "        this.voice = voice_of_instrument\n",
    "        \n",
    "    def set_age(this, age_of_instrument):\n",
    "        this.age = age_of_instrument \n",
    "    \n",
    "    def set_type(this, type_of):\n",
    "        this.type = type_of\n",
    "        \n",
    "    def __add__(this, other):\n",
    "        return str(this.voice)+' and '+str(other.voice)\n",
    "    def __str__(this):\n",
    "        return str(this.voice)\n",
    "\n",
    "    \n",
    "# کلاس ساز سیمی را پیاده سازی میکنیم:\n",
    "class string_instrument(instrument):\n",
    "    def __init__(self, name_of_instrument, age_of_instrument=None):\n",
    "        instrument.__init__(self, name_of_instrument, 'ring ring', \n",
    "                            age_of_instrument = age_of_instrument, type_of='string')\n",
    "        self.material_of_body = 'wood'\n",
    "        \n",
    "    def set_material_of_body(self, material):\n",
    "        self.material_of_body = material\n",
    "\n",
    "\n",
    "# تعریف دو مقدار از کلاس\n",
    "guitarC = string_instrument('guitar')\n",
    "print(guitarC)\n",
    "\n",
    "guitarE = string_instrument('guitar El')\n",
    "guitarE.set_material_of_body('metal')\n",
    "print(guitarE)"
   ]
  },
  {
   "cell_type": "markdown",
   "metadata": {},
   "source": [
    "<div dir=\"rtl\" style=\"line-height:300%;\"><font face=\"XB Nazanin\" size=5>\n",
    "    <p></p>\n",
    "    در مثال بالا کلاس فرزند اطلاعات خاصی در خود ندارد.\n",
    "    حتی برای آن تابع مخصوص پرینت هم تعریف نشده است. بنابراین به میزان زیادی به تابع پدر تکیه می‌کند.\n",
    "    <br>\n",
    "    شما می‌توانید از تمامی ویژگی های پدر استفاده کنید. فرقی ندارد این اطلاعات چه باشند.\n",
    "    تا زمانی که همان نام بار دیگر در کلاس فرزند دوباره تعریف نشده باشند به سراغ توابع کلاس پدر می‌رود.\n",
    "    <br>\n",
    "    <br>\n",
    "    برای این فصل تا همینجا کافی است.\n",
    "    با کلاس ها آشنا شدیم و یک آشنایی سطحی با ارث بری نیز پیدا کردیم.\n",
    "    در فصل آینده به سراغ الگوریتم های مرتب سازی و جستوجو میرویم و چند نمونه از آن را را با هم بررسی می‌کنیم.\n",
    "    <br>\n",
    "</font>\n",
    "    <a  href=\"#menu\">بازگشت به فهرست اصلی</a>\n",
    "</div>"
   ]
  },
  {
   "cell_type": "markdown",
   "metadata": {},
   "source": [
    "<div dir=\"rtl\" style=\"line-height:300%;\"><font face=\"XB Nazanin\" size=5>\n",
    "    <font color=135FC3 size=6>\n",
    "<p></p>\n",
    "<div align=center><a  name=\"section14\" href=\"#menu\">فصل 14: الگوریتم جستجو و مرتب سازی</a></div>\n",
    "</font>\n",
    "<font color=#C31330>\n",
    "مقدمه\n",
    "</font><p></p>\n",
    "    به طور کلی الگوریتم های بسیار متفاوتی در طول زمان برای مرتب سازی به وجود آمده‌اند.\n",
    "    تفاوت آنها در روند و زمان مرتب‌سازی است.\n",
    "    برخی از دیگری بهینه‌تر هستند.\n",
    "    برای مثال الگوریتم استفاده شده در توابع از پیش تعریف شدۀ مرتب سازی در عموم زبان‌های برنامه نویسی، بهینه ترین حالت مرتب سازی است.\n",
    "    <br>\n",
    "    در اینجا با برخی از این الگوریتم‌ها از جمله مرتب سازی حبابی \n",
    "    (bubble sort)،\n",
    "    مرتب سازی انتخابی\n",
    "    (selction sort)،\n",
    "    و مرتب سازی ادغامی\n",
    "    (merge sort)\n",
    "    آشنا می‌شویم.\n",
    "    <br>\n",
    "    سپس به سراغ چند نوع از روش جستوجو می‌رویم و آنها را با هم مرور می‌کنیم.\n",
    "    <font color = C31330 size=4>\n",
    "</font>\n",
    "</font>\n",
    "</div>"
   ]
  },
  {
   "cell_type": "markdown",
   "metadata": {},
   "source": [
    "<div dir=\"rtl\" style=\"line-height:300%;\"><font face=\"XB Nazanin\" size=5>\n",
    "    <p></p>\n",
    "    می‌دانیم که اگر یک تعداد کارت شامل عدد را به تعداد بی نهایت بار به هم بریزیم بالاخره در جایی به ترتیبی بر می‌خوریم که در آن کارت ها به صورت مرتب چیده شده‌اند.\n",
    "    اما زندگی این زمان را به ما نمی‌دهد. :)\n",
    "    <br>\n",
    "    بنابراین به سراغ روش‌های هوشمندانه تر می‌رویم.\n",
    "    یکی از این روش ها مرتب سازی حبابی است که روند آن به صورت زیر است:\n",
    "    <br>\n",
    "    <img src=\"Pics/bubble-sort.gif\" width=\"500\" height=\"500\" alt=\"\" /> \n",
    "    <br>\n",
    "    با توجه به تصویر، هر دو مقدار به صورت دوتا دوتا با هم مقایسه می‌شوند و تا آخر لیست می‌رود.\n",
    "    بار دیگر از ابتدای لیست شروع می‌کنیم و این کار را آن قدر انجام می‌دهیم تا تمام لیست مرتب شود و دیگر هیچ عنصری جا به جا نشود.\n",
    "    آن موقع است که مرتب سازی به پایان رسیده است.\n",
    "    <br>\n",
    "    اما توضیح تا اینجا کافی است. وقت آن است که به سراغ کد برویم.\n",
    "</font>\n",
    "</div>"
   ]
  },
  {
   "cell_type": "code",
   "execution_count": 3,
   "metadata": {},
   "outputs": [],
   "source": [
    "def bubble_sort(L):\n",
    "    swap = True\n",
    "    while swap:                         # تا زمانی که جا به جایی انجام میشود در داخل حلقه میمانیم\n",
    "        print('bubble sort: ' + str(L)) # هر مرحله را به شما نشان میدهد\n",
    "        swap =False                     # فرض میکنیم جا به جایی نداریم\n",
    "        for j in range(1, len(L)):      # هر بار از عنصر دوم شروع میکنیم تا آخر میرویم\n",
    "            if L[j-1] > L[j]:           # اگر عنصری که روی آن هستیم از عنصر قبل خودش کوچکتر بود آنها را جا به جا میکنیم\n",
    "                swap = True\n",
    "                L[j-1],L[j] = L[j],L[j-1]"
   ]
  },
  {
   "cell_type": "code",
   "execution_count": 7,
   "metadata": {},
   "outputs": [
    {
     "name": "stdout",
     "output_type": "stream",
     "text": [
      "bubble sort: [1, 3, 5, 7, 2, 6, 25, 18, 13]\n",
      "bubble sort: [1, 3, 5, 2, 6, 7, 18, 13, 25]\n",
      "bubble sort: [1, 3, 2, 5, 6, 7, 13, 18, 25]\n",
      "bubble sort: [1, 2, 3, 5, 6, 7, 13, 18, 25]\n",
      "None\n",
      "[1, 2, 3, 5, 6, 7, 13, 18, 25]\n"
     ]
    }
   ],
   "source": [
    "testList = [1,3,5,7,2,6,25,18,13]\n",
    "\n",
    "print(bubble_sort(testList)) # چیزی باز نمیگرداند زیرا در تابع ریترن تعریف نشده است\n",
    "print(testList)# همان لیست اصلی مرتب شده است"
   ]
  },
  {
   "cell_type": "markdown",
   "metadata": {},
   "source": [
    "<div dir=\"rtl\" style=\"line-height:300%;\"><font face=\"XB Nazanin\" size=5>\n",
    "    <p></p>\n",
    "    مرحله به مرحله اتفاقی که در تابع می افتد را می‌بینید.\n",
    "    در نهایت نتیجه خود لیست است که مرتب شده است و لیست جدیدی بر نمی‌گردد.\n",
    "    <br>\n",
    "    در زیر به سراغ مرتب سازی انتخابی می‌رویم.\n",
    "    ابتدا به گیف زیر دقت کنید:\n",
    "    <br>\n",
    "    <img src=\"Pics/selection-sort.gif\" width=\"500\" height=\"500\" alt=\"\" /> \n",
    "    <br>\n",
    "    در مرتب سازی انتخابی، از ابتدای لیست شروع می‌کنیم. آن را به عنوان عضو مقایسه شوند در نظر می‌گیریم و دانه دانه با باقی داده ها مقایسه می‌کنیم.\n",
    "    اگر در طول مقایسه عضو کوچکتری یافت شد آن را به عنوان جایگزین در نظر می‌گیریم و باز هم جلوتر می‌رویم. \n",
    "    اگر تا اخر لیست عضو کوچکتری یافت شد آن جایگزین می‌کنیم.\n",
    "    <br>\n",
    "    این توضیحات مربوط به الگوریتم اصلی است که در تصویر هم می‌بینید.\n",
    "    اما از آنجا که پیاده سازی آن کمی سخت تر است، در پیاده سازی زیر روشی را می‌بینیم که در طول مقایسه هرگاه به مقدار کوچکتر رسید آن را جایگزین می‌کند و سپس مقایسه را با آن مقدار کوچکتر انجام می‌دهد:\n",
    "</font>\n",
    "</div>"
   ]
  },
  {
   "cell_type": "code",
   "execution_count": 8,
   "metadata": {},
   "outputs": [],
   "source": [
    "def selection_sort(L):\n",
    "    suffixSt = 0                           # شمارنده انتخابی جایگاه\n",
    "    while suffixSt != len(L):              # تازمانی که به ته لیست نرسیده ایم\n",
    "        print('selection sort: ' + str(L)) # جهت دیدن لیست در هر مرحله\n",
    "        for i in range(suffixSt, len(L)):  # از جایگاه انتخابی به بعد را با آن جایگاه مقایسه میکنیم\n",
    "            if L[i] < L[suffixSt]:         # هربار هنصر جایگاه انتخابی بزرگتر از عنصر جایگاه مقایسه ای بود وارد این شرط میشود\n",
    "                L[suffixSt], L[i] = L[i], L[suffixSt] # جای دو عنصر را عوض میکند\n",
    "        suffixSt += 1                      # جایگاه انتخابی را یکی به جلو میبریم\n",
    "    "
   ]
  },
  {
   "cell_type": "code",
   "execution_count": 9,
   "metadata": {},
   "outputs": [
    {
     "name": "stdout",
     "output_type": "stream",
     "text": [
      "selection sort: [1, 3, 5, 7, 2, 6, 25, 18, 13]\n",
      "selection sort: [1, 3, 5, 7, 2, 6, 25, 18, 13]\n",
      "selection sort: [1, 2, 5, 7, 3, 6, 25, 18, 13]\n",
      "selection sort: [1, 2, 3, 7, 5, 6, 25, 18, 13]\n",
      "selection sort: [1, 2, 3, 5, 7, 6, 25, 18, 13]\n",
      "selection sort: [1, 2, 3, 5, 6, 7, 25, 18, 13]\n",
      "selection sort: [1, 2, 3, 5, 6, 7, 25, 18, 13]\n",
      "selection sort: [1, 2, 3, 5, 6, 7, 13, 25, 18]\n",
      "selection sort: [1, 2, 3, 5, 6, 7, 13, 18, 25]\n",
      "None\n",
      "[1, 2, 3, 5, 6, 7, 13, 18, 25]\n"
     ]
    }
   ],
   "source": [
    "testList = [1,3,5,7,2,6,25,18,13]\n",
    "\n",
    "print(selection_sort(testList)) # باز هم اطلاعاتی باز نمیگرداند زیرا مرتب سازی روی لیست اولیه انجام میگیرد\n",
    "print(testList)"
   ]
  },
  {
   "cell_type": "markdown",
   "metadata": {},
   "source": [
    "<div dir=\"rtl\" style=\"line-height:300%;\"><font face=\"XB Nazanin\" size=5>\n",
    "    <p></p>\n",
    "    به عنوان آخرین مرتب سازی که در این درس با آن رو به رو هستیم مرتب سازی ترکیبی یا ادغامی را داریم.\n",
    "    این مرتب سازی از دیگر مرتب سازی هایی که تا اینجا دیدیم سریع تر است اما فضای بیشتری را به خود اختصاص می‌دهد.\n",
    "    همچنین لیست را در یک لیست جدید باز می‌گرداند.\n",
    "    این الگوریتم یکی از سریع ترین الگوریتم ها در نوع مقایسه ای و البته نسبت به دو تای دیگر کمی پیچیده تر است.\n",
    "    به تصویر زیر دقت کنید:\n",
    "    <br>\n",
    "    <img src=\"Pics/merge_sort.png\" width=\"500\" height=\"500\" alt=\"\" /> \n",
    "    <br>\n",
    "    این تصویر نشان دهنده کاری است که در الگوریتم ادغامی انجام می‌گیرد.\n",
    "    ابتدا لیست به عناصر تکی باز می‌شود.\n",
    "    سپس این لیست ها دو به دو با هم مقایسه و داده ها از کوچک به بزرگ چیده می‌شوند.\n",
    "    در نهایت تمامی این لیست ها جمع شده و یک لیست مرتب را تحویل می‌دهند.\n",
    "    <br>\n",
    "    اما بخش جمع شدن داده ها کمی به توضیح بیشتر نیاز دارد.\n",
    "    به همین تصویر بالا دقت کنید.\n",
    "    دو لیست در بالا را در پایین به صورت جزئی مورد بررسی قرار می‌دهیم:\n",
    "    <br>\n",
    "    <img src=\"Pics/merg.png\" width=\"800\" height=\"800\" alt=\"\" /> \n",
    "    <br>\n",
    "    در مرحله اول دو لیست کوچک را به صورت دستی مقایسه کردیم و روش انسانی را دیدیم.\n",
    "    در مرحله بعد از روش کامپیوتری استفاده کردیم و i و j را به جلو بردیم و داده ها را در لیست بزرگتر قرار دادیم.\n",
    "    <br>\n",
    "    برای آن که مرحله دوم بهتر جا بیافتد به صورت نوشته مراحل را توضیح می‌دهم:\n",
    "    <br>\n",
    "</font>\n",
    "</div>"
   ]
  },
  {
   "cell_type": "markdown",
   "metadata": {},
   "source": [
    "<div style=\"direction:rtl;line-height:300%;\"><font face=\"XB Nazanin\" size=5>\n",
    "    <p></p>\n",
    "    1.\n",
    "    ابتدا شمارنده i بر روی 3 قرار دارد و شمارنده j برروی 9.\n",
    "    3 از 9 کوچکتر است پس 3 نوشته می‌شود و شمارنده ی i یکی به جلو می‌رود.\n",
    "    <br>\n",
    "    2.\n",
    "    حال شمانده i برروی27 قرار دارد و شمارنده j همچنان برروی 9 است.\n",
    "    این بار 9 نوشته می‌شود و شمارنده j یکی به جلو می‌رود.\n",
    "    <br>\n",
    "    3.\n",
    "    در مرحله بعد باز هم 10 از 27 کوچکتر است پس شمارنده i همچنان در جای خود است و شمارنده j یکی به جلو می‌رود.\n",
    "    <br>\n",
    "    4.\n",
    "    حال شمارنده j به 82 می‌رسد.\n",
    "    جون از 27 بزرگتر است این بار شمارنده i به جلو می‌رود.\n",
    "    <br>\n",
    "    5.\n",
    "    در مرحله بعد باز هم 38 از 82 کوچکتر است بنابراین باز هم شمارنده i  به جلو می‌روند و شمارنده j تکان نمی‌خورد.\n",
    "    <br>\n",
    "    6.\n",
    "     در مرحله بعدی نیز بار دیگر 43 کوچکتر از 82 است.\n",
    "    پس لیست اول به اتمام می‌رسد و از لیست دوم مقادیری می‌ماند.\n",
    "    <br>\n",
    "    7.\n",
    "    در این مرحله هر چه از لیست دوم مانده را به ته لیست بزرگ اضافه می‌کنیم.\n",
    "    <br>\n",
    "</font>\n",
    "</div>"
   ]
  },
  {
   "cell_type": "code",
   "execution_count": 10,
   "metadata": {},
   "outputs": [],
   "source": [
    "# در تابع زیر اعضای جدا شده با هم مقایسه میشود.\n",
    "# بنابراین ورودی یک لیست در چپ و یک لیست در راست است\n",
    "def merge(left, right):\n",
    "    result = []\n",
    "    i,j = 0,0\n",
    "    while i < len(left) and j < len(right): # تا زمانی که میتوان بین دوتا مقایسه کرد انجام میشود\n",
    "        if left[i] < right[j]:\n",
    "            result.append(left[i])\n",
    "            i += 1\n",
    "        else:\n",
    "            result.append(right[j])\n",
    "            j += 1\n",
    "    # به خاطر داشته باشید که پس از اتمام حلقه بالا تنها یکی از حلقه های پایین رخ میدهد\n",
    "    while (i < len(left)): # اگر داده های از لیست چپ مانده بود همه را اضافه میکند\n",
    "        result.append(left[i])\n",
    "        i += 1\n",
    "    while (j < len(right)): # اگر داده از لیست راست مانده بود آنها را اضافه میکند\n",
    "        result.append(right[j])\n",
    "        j += 1\n",
    "    print('merge: ' + str(left) + '&' + str(right) + ' to ' +str(result)) # چاپ هر مرحله\n",
    "    return result\n",
    "\n",
    "# در زیر  لیست بزرگ تا زمانی که دارای یک مقدار یکی باشد به صورت کپی  از هم جدا میشود\n",
    "# و پس از باز شدن توسط تابع بالا مرتب میشود\n",
    "def merge_sort(L):\n",
    "    print('merge sort: ' + str(L)) # برای آن که هر مرحله ببینیم چه اتفاقی می افتد\n",
    "    if len(L) < 2: # اگر اندازه لیست کمتر از 2 بود خود لیست عددی را بر میگرداند\n",
    "        return L[:] # لیستی از یک عدد\n",
    "    else:\n",
    "        middle = len(L)//2 # میانه ی لیست را در نظر میگیریم\n",
    "        left = merge_sort(L[:middle]) # شما چپ لیست را دوباره باز میگردانیم و آن را در چپ ذخیره میکنیم\n",
    "        right = merge_sort(L[middle:]) # سمت راس را دوباره برای تکه شدن بر میگردانیم و آن را در راست ذخیره میکنیم\n",
    "        return merge(left, right) # در نهایت راست و چپ را برای اتصال به هم به تابع بالا میفرستیم"
   ]
  },
  {
   "cell_type": "code",
   "execution_count": 12,
   "metadata": {},
   "outputs": [
    {
     "name": "stdout",
     "output_type": "stream",
     "text": [
      "merge sort: [1, 3, 5, 7, 2, 6, 25, 18, 13]\n",
      "merge sort: [1, 3, 5, 7]\n",
      "merge sort: [1, 3]\n",
      "merge sort: [1]\n",
      "merge sort: [3]\n",
      "merge: [1]&[3] to [1, 3]\n",
      "merge sort: [5, 7]\n",
      "merge sort: [5]\n",
      "merge sort: [7]\n",
      "merge: [5]&[7] to [5, 7]\n",
      "merge: [1, 3]&[5, 7] to [1, 3, 5, 7]\n",
      "merge sort: [2, 6, 25, 18, 13]\n",
      "merge sort: [2, 6]\n",
      "merge sort: [2]\n",
      "merge sort: [6]\n",
      "merge: [2]&[6] to [2, 6]\n",
      "merge sort: [25, 18, 13]\n",
      "merge sort: [25]\n",
      "merge sort: [18, 13]\n",
      "merge sort: [18]\n",
      "merge sort: [13]\n",
      "merge: [18]&[13] to [13, 18]\n",
      "merge: [25]&[13, 18] to [13, 18, 25]\n",
      "merge: [2, 6]&[13, 18, 25] to [2, 6, 13, 18, 25]\n",
      "merge: [1, 3, 5, 7]&[2, 6, 13, 18, 25] to [1, 2, 3, 5, 6, 7, 13, 18, 25]\n",
      "[1, 2, 3, 5, 6, 7, 13, 18, 25]\n"
     ]
    }
   ],
   "source": [
    "testList = [1,3,5,7,2,6,25,18,13]\n",
    "\n",
    "print(merge_sort(testList)) # اینجا در نهایت یک لیست بازگردانده میشود"
   ]
  },
  {
   "cell_type": "markdown",
   "metadata": {},
   "source": [
    "<div dir=\"rtl\" style=\"line-height:300%;\"><font face=\"XB Nazanin\" size=5>\n",
    "    <p></p>\n",
    "    <br>\n",
    "    با این توضیحات مرتب سازی به پایان میرسد و به سراغ جستوجو می‌رویم.\n",
    "    <br>\n",
    "    ساده ترین الگوریتم جستوجویی که می‌توانیم پیاده سازی کنیم الگوریتم جستوجوی خطی است.\n",
    "    به این صورت که می‌توانیم یکی یکی اعضای یک لیست را جلو برویم و به دنبال هدف مورد نظر باشیم.\n",
    "    <br>\n",
    "    پیاده سازی آن را در زیر می‌بینیم:\n",
    "    <br>\n",
    "</font>\n",
    "</div>"
   ]
  },
  {
   "cell_type": "code",
   "execution_count": 13,
   "metadata": {},
   "outputs": [
    {
     "name": "stdout",
     "output_type": "stream",
     "text": [
      "7\n"
     ]
    }
   ],
   "source": [
    "def linear_search(l, element):\n",
    "    place = -1 # اگر  المان هیچگاه پیدا نشد مقدار -1 میدهد\n",
    "    for i in range(len(l)):\n",
    "        if l[i]==element: #اگر پیدا شد عدد مکان\n",
    "            place=i\n",
    "            break\n",
    "    return place\n",
    "\n",
    "\n",
    "testList = [1,3,5,7,2,6,25,18,13]\n",
    "we_search_for = 18\n",
    "print(linear_search(testList,we_search_for))"
   ]
  },
  {
   "cell_type": "markdown",
   "metadata": {},
   "source": [
    "<div dir=\"rtl\" style=\"line-height:300%;\"><font face=\"XB Nazanin\" size=5>\n",
    "    <p></p>\n",
    "    <br>\n",
    "    در جستوجوی زیر جستوجوی باینری یا دودویی را داریم.\n",
    "    در این جستوجو ابتدا لیست مرتب شده است. به همین دلیل کار بسیار سریع تر انجام می‌شود.\n",
    "    <br>\n",
    "    این جستوجو بسیار سریع تر از قبلی است و به این صورت است که ابتدا المان وسط را بررسی می‌کند. \n",
    "    اگر مقدار شما بیشتر از آن باشد قسمت راست و اگر کمتر باشد بخش چپ را بررسی می‌کند.\n",
    "    دوباره به سراغ المان وسط آن بخش می‌رود و این کار را تا زمانی ادامه می‌دهد که آن المان را پیدا کند و یا به آخرین مقدار رسیده باشد.\n",
    "    <br>\n",
    "    به تصویر زیر دقت کنید:\n",
    "    <br>\n",
    "    <img src=\"Pics/binary-search.png\" width=\"500\" height=\"500\" alt=\"\" /> \n",
    "    <br>\n",
    "    هر بار عنصر وسط لیست را چک می‌کنیم تا به هدف برسیم.\n",
    "    <br>\n",
    "    حال مقایسه زیر را نیز ببینید که تفاوت بین تعداد حرکات جستوجوی دودویی و خطی است:\n",
    "    <br>\n",
    "    <img src=\"Pics/binary-search-tree.gif\" width=\"500\" height=\"500\" alt=\"\" /> \n",
    "    <br>\n",
    "    اما کد بازگشتی این جستوجو به صورت زیر است:\n",
    "</font>\n",
    "</div>"
   ]
  },
  {
   "cell_type": "code",
   "execution_count": 16,
   "metadata": {},
   "outputs": [],
   "source": [
    "# مقادیر لیست، المانی که دنبال آن هستیم، بخش شروع و پایان را برای تابع میفرستیم.\n",
    "# در ابتدا شروع و پایان ابتدا و انتهای لیست هستند\n",
    "def binary_search_recursive(array, element, start, end):\n",
    "    # شزط پایانی بازگشتی\n",
    "    if start > end: # اگر عدد شروع بزرگتر از عدد پایان شد کار را به اتمام میرسانیم\n",
    "        return -1\n",
    "    print('Now we are in this part: ',array[start:end])\n",
    "    # برای باقی حالات ابتدا میانه را برای شروع و پایان به دست می آوریم\n",
    "    mid = (start + end) // 2\n",
    "    # اگر مقدار همان چیزی بود که دنبالس هستیم آن را بر میگردانیم\n",
    "    if element == array[mid]:\n",
    "        return mid\n",
    "    # اگر میانه از مقدار مورد نظر بزرگتر بود به سمت چپ میرویم\n",
    "    if element < array[mid]:\n",
    "        return binary_search_recursive(array, element, start, mid-1)\n",
    "    # اگر میانه از مقدار مورد نظر  کوچکتر بود به سمت راست میرویم\n",
    "    else:\n",
    "        return binary_search_recursive(array, element, mid+1, end)"
   ]
  },
  {
   "cell_type": "code",
   "execution_count": 17,
   "metadata": {},
   "outputs": [
    {
     "name": "stdout",
     "output_type": "stream",
     "text": [
      "Now we are in this part:  [1, 3, 4, 5, 6, 7, 12, 14, 24, 45, 67]\n",
      "Now we are in this part:  [12, 14, 24, 45, 67]\n",
      "Now we are in this part:  [45, 67]\n",
      "Now we are in this part:  []\n"
     ]
    },
    {
     "data": {
      "text/plain": [
       "9"
      ]
     },
     "execution_count": 17,
     "metadata": {},
     "output_type": "execute_result"
    }
   ],
   "source": [
    "test_list = [1,3,4,5,6,7,12,14,24,45,67]\n",
    "elem = 45\n",
    "binary_search_recursive(test_list, elem, 0, len(test_list))"
   ]
  },
  {
   "cell_type": "markdown",
   "metadata": {},
   "source": [
    "<div dir=\"rtl\" style=\"line-height:300%;\"><font face=\"XB Nazanin\" size=5>\n",
    "    <p></p>\n",
    "    با پیاده سازی جستوجوی باینری، این فصل به پایان می‌رسد.\n",
    "    <br>\n",
    "    در این فصل با برخی از الگوریتم های مرتب سازی و جستوجو آشنا شدیم.\n",
    "    در فصل آینده به سراغ برخی از محاسبات ماتریسی با کمک دو کتابخانه scipy و numpy می‌رویم.\n",
    "    <br>\n",
    "</font>\n",
    "    <a  href=\"#menu\">بازگشت به فهرست اصلی</a>\n",
    "</div>"
   ]
  },
  {
   "cell_type": "markdown",
   "metadata": {},
   "source": [
    "<div dir=\"rtl\" style=\"line-height:300%;\"><font face=\"XB Nazanin\" size=5>\n",
    "    <font color=135FC3 size=6>\n",
    "<p></p>\n",
    "<div align=center><a  name=\"section15\" href=\"#menu\">فصل 15: محاسبات ماتریسی با کتابخانه Numpy و Scipy</a></div>\n",
    "</font>\n",
    "<font color=#C31330>\n",
    "مقدمه\n",
    "</font><p></p>\n",
    "    کتابخانه  scipy برپایه کتابخانه numpy تولید شده است و برای برنامه نویسی خطی مورد استفاده قرار می‌گیرد.\n",
    "    این برنامه به طور کلی برای بهینه سازی است.\n",
    "    بنابراین در این فصل تنها اشاره کوچکی به آن خواهیم داشت.\n",
    "    <br>\n",
    "    به عنوان یک معرفی کلی از کتابخانه scipy، می‌توان به برخی از زیر بخش های آن در پایین اشاره کرد:\n",
    "    <br>\n",
    "    برخی توابع خاص (scipy.special)\n",
    "    <br>\n",
    "    انتگرال گیری (scipy.integrate)\n",
    "    <br>\n",
    "    بهینه سازی (scipy.optimize)\n",
    "    <br>\n",
    "    جبر خطی (scipy.linalg)\n",
    "    <br>\n",
    "    محاسبات آماری (scipy.stats)\n",
    "    <br>\n",
    "    و بسیاری دیگر که در اینجا به آنها اشاره نشده است.\n",
    "    <font color = C31330 size=4></font>\n",
    "    <br>\n",
    "    به عنوان  شروع به سراغ برخی توابع خاص می‌رویم:\n",
    "</font>\n",
    "</div>"
   ]
  },
  {
   "cell_type": "code",
   "execution_count": 10,
   "metadata": {},
   "outputs": [
    {
     "data": {
      "image/png": "[encoded data removed]",
      "text/plain": [
       "<Figure size 432x288 with 1 Axes>"
      ]
     },
     "metadata": {
      "needs_background": "light"
     },
     "output_type": "display_data"
    }
   ],
   "source": [
    "import numpy as np\n",
    "import scipy.special as sc\n",
    "import matplotlib.pyplot as plt\n",
    "\n",
    "x= np.linspace(0, 1, 50)\n",
    "\n",
    "\n",
    "def binary_entropy(x):\n",
    "    return -(sc.xlogy(x, x) + sc.xlog1py(1 - x, -x))/np.log(2)\n",
    "\n",
    "\n",
    "be = binary_entropy(x)\n",
    "plt.plot(x,be)\n",
    "plt.show()"
   ]
  },
  {
   "cell_type": "code",
   "execution_count": 3,
   "metadata": {
    "scrolled": true
   },
   "outputs": [],
   "source": [
    "# با استفاده از کد زیر میتوانید به تمامی تابع های مختلفی که در اسپشال تعریف شده اند دسترسی پیدا کنید\n",
    "#و به هر کدام نیاز داشتید آن را  مورد استفاده قرار بدهید\n",
    "help(sc)"
   ]
  },
  {
   "cell_type": "markdown",
   "metadata": {},
   "source": [
    "<div dir=\"rtl\" style=\"line-height:300%;\"><font face=\"XB Nazanin\" size=5>\n",
    "    <p></p>\n",
    "    توابع بسیاری در این بخش وجود دارند و برای محاسبات پیچیده ریاضی، بسیار به کار می آیند.\n",
    "    در بالا بخشی از این توابع را دیدیم.\n",
    "    در قسمت <code>help</code> نیز تمامی توابع را می‌توانید ببینید.\n",
    "    البته تعداد این توابع بسیار زیاد هستند.\n",
    "    <br>\n",
    "    در ادامه به سراغ بخش جبر خطی می‌رویم . قسمتی از توابع آن را با هم مرور می‌کنیم:\n",
    "</font>\n",
    "</div>"
   ]
  },
  {
   "cell_type": "code",
   "execution_count": 13,
   "metadata": {},
   "outputs": [
    {
     "name": "stdout",
     "output_type": "stream",
     "text": [
      "[[1 2]\n",
      " [3 4]]\n",
      "1. inv: \n",
      " [[-2.   1. ]\n",
      " [ 1.5 -0.5]]\n",
      "b 2d: [[5 6]]\n",
      "2. transpose:\n",
      " [[5]\n",
      " [6]]\n",
      "3. A*b:\n",
      " [[ 5 12]\n",
      " [15 24]]\n",
      "4. A.bT:\n",
      " [[17]\n",
      " [39]]\n",
      "b 1d: [5 6]\n",
      "5. b 1d transpose: \n",
      " [5 6]\n",
      "6. A.bT:\n",
      " [17 39]\n"
     ]
    }
   ],
   "source": [
    "import numpy as np\n",
    "from scipy import linalg\n",
    "A = np.array([[1,2],[3,4]])\n",
    "print(A)\n",
    "\n",
    "print('1. inv: \\n', linalg.inv(A))\n",
    "\n",
    "\n",
    "b = np.array([[5,6]]) \n",
    "print('b 2d:', b) #به صورت ماتریسی ترانهاده میشود\n",
    "\n",
    "print('2. transpose:\\n',b.T)\n",
    "\n",
    "print('3. A*b:\\n', A*b)\n",
    "\n",
    "print('4. A.bT:\\n',A.dot(b.T))\n",
    "\n",
    "b = np.array([5,6])\n",
    "print('b 1d:', b) # حالت ماتریسی نیست اما نوعی ترانهاده است\n",
    "\n",
    "print('5. b 1d transpose: \\n',b.T)\n",
    "\n",
    "print('6. A.bT:\\n',A.dot(b.T))\n"
   ]
  },
  {
   "cell_type": "code",
   "execution_count": 14,
   "metadata": {},
   "outputs": [
    {
     "name": "stdout",
     "output_type": "stream",
     "text": [
      "A:\n",
      " [[1 3 5]\n",
      " [2 5 1]\n",
      " [2 3 8]]\n",
      "A^(-1):\n",
      " [[-1.48  0.36  0.88]\n",
      " [ 0.56  0.08 -0.36]\n",
      " [ 0.16 -0.12  0.04]]\n",
      "A*A^(-1):\n",
      " [[ 1.00000000e+00 -1.11022302e-16  4.85722573e-17]\n",
      " [ 3.05311332e-16  1.00000000e+00  7.63278329e-17]\n",
      " [ 2.22044605e-16 -1.11022302e-16  1.00000000e+00]]\n"
     ]
    }
   ],
   "source": [
    "import numpy as np\n",
    "from scipy import linalg\n",
    "A = np.array([[1,3,5],[2,5,1],[2,3,8]])\n",
    "print('A:\\n',A)\n",
    "\n",
    "print('A^(-1):\\n',linalg.inv(A))\n",
    "\n",
    "print('A*A^(-1):\\n',A.dot(linalg.inv(A)) )"
   ]
  },
  {
   "cell_type": "markdown",
   "metadata": {},
   "source": [
    "<div dir=\"rtl\" style=\"line-height:300%;\"><font face=\"XB Nazanin\" size=5>\n",
    "    <p></p>\n",
    "    ماتریس نتیجه ای که در بالا می‌بینید در واقع همان ماتریس همانی است.\n",
    "    هرچند چیزی که می‌بینید دقیقا 0 و 1 نیست و مقادیر 0 آن آنچنان هم صفر نیستند.\n",
    "    اما اگر دقت کنید بسیار کوچک هستند و ارزش عددی چندانی ندارند. با یک رند کوچک این مقادیر صفر می‌شود.\n",
    "    <br>\n",
    "    چیزی که باید به آن توجه کرد دلیل این مورد است. در کامپیوتر تمام اعداد در مبنای 2 هستند. \n",
    "    به این معنا که اعداد ابتدا به پای 2 برده می‌شوند، محاسبات برروی آن ها انجام می‌شود؛ و سپس دوباره به مبنای 10 باز می‌گردند.\n",
    "    در این تغییر مبنا، برخی داده ها از بین می‌روند. خصوصا در مواردی که اعشار داریم این مورد بیشتر به چشم می‌خورد.\n",
    "    <br>\n",
    "    <br>\n",
    "    در مثال زیر می‌خواهیم معادله\n",
    "    Ax+b=0\n",
    "    را محاسبه کنیم و مقدار x را به دست بیاوریم.\n",
    "    این کار را با استفاده از روش دستی و روش تعریف شده در linalg محاسبه می‌کنیم:\n",
    "</font>\n",
    "</div>"
   ]
  },
  {
   "cell_type": "code",
   "execution_count": 1,
   "metadata": {},
   "outputs": [
    {
     "name": "stdout",
     "output_type": "stream",
     "text": [
      "slow (4.985809ms) version:\n",
      " [[-4. ]\n",
      " [ 4.5]]\n",
      "check:\n",
      " [[0.]\n",
      " [0.]]\n"
     ]
    }
   ],
   "source": [
    "import numpy as np\n",
    "from scipy import linalg\n",
    "import time\n",
    "A = np.array([[1, 2], [3, 4]])\n",
    "b = np.array([[5], [6]])\n",
    "\n",
    "t1 = time.time()\n",
    "result = linalg.inv(A).dot(b)\n",
    "tm = time.time() - t1\n",
    "print('slow ('+str(round(tm*1000,6))+'ms) version:\\n', result) \n",
    "\n",
    "print('check:\\n',A.dot(linalg.inv(A).dot(b)) - b)  "
   ]
  },
  {
   "cell_type": "code",
   "execution_count": 5,
   "metadata": {},
   "outputs": [
    {
     "name": "stdout",
     "output_type": "stream",
     "text": [
      "fast (0.0ms) version: \n",
      " [[-4. ]\n",
      " [ 4.5]]\n",
      "check:\n",
      " [[0.]\n",
      " [0.]]\n"
     ]
    }
   ],
   "source": [
    "t1 = time.time()\n",
    "result = np.linalg.solve(A, b)\n",
    "tm = time.time() - t1\n",
    "print('fast ('+str(round(tm*1000,6))+'ms) version: \\n', result)\n",
    "\n",
    "print('check:\\n',A.dot(np.linalg.solve(A, b)) - b)"
   ]
  },
  {
   "cell_type": "markdown",
   "metadata": {},
   "source": [
    "<div dir=\"rtl\" style=\"line-height:300%;\"><font face=\"XB Nazanin\" size=5>\n",
    "    <p></p>\n",
    "    همانطور که می‌بینید حل با استفاده از توابع از پیش تعیین شده <code>linalg</code> بسیار سریعتر است.\n",
    "    <br>\n",
    "    <br>\n",
    "    اما فرض کنید می‌خواهیم یک معادله درجه n را حل کنیم.\n",
    "    برای این کار نمی‌توانیم به راحتی بالا تبدیل ها را خود انجام دهیم.\n",
    "    در اینجا کتابخانه numpy به کمک ما می‌آید و سریع ترین حل معادله درجه n را در اختیار ما قرار می‌دهد. \n",
    "</font>\n",
    "</div>"
   ]
  },
  {
   "cell_type": "code",
   "execution_count": 9,
   "metadata": {},
   "outputs": [
    {
     "name": "stdout",
     "output_type": "stream",
     "text": [
      "y for these [1, 2, 3] xs is [ 6 23 60]\n",
      "roots are:  [-4.5797401 +0.j          0.28987005+0.75566815j  0.28987005-0.75566815j]\n",
      "[ 0.25        1.33333333 -1.          3.          0.        ]\n",
      "the integrate is 0.250000x^4 +(1.333333)x^3 +(-1.000000)x^2 +(3.000000)x +(0.000000) \n",
      "the derivation is 3.000000x^2 +(8.000000)x +(-2.000000) \n"
     ]
    }
   ],
   "source": [
    "import numpy as np\n",
    "# ضریب های هر درجه:\n",
    "# y = 𝑥^3 + 4𝑥^2 − 2𝑥 + 3\n",
    "p = np.array([1, 4, -2, 3])\n",
    "ys = np.polyval(p, [1, 2, 3])\n",
    "print('y for these [1, 2, 3] xs is', ys)\n",
    " # for y=0 x is:\n",
    "roots = np.roots(p)\n",
    "print('roots are: ',roots)\n",
    "\n",
    "# محاسبه انتگرال تابع بالا:\n",
    "intgr = np.polyint(p)\n",
    "print(intgr)\n",
    "print('the integrate is %fx^4 +(%f)x^3 +(%f)x^2 +(%f)x +(%f) '%tuple(intgr)) \n",
    "\n",
    "# مشتق آن نیز به صورت زیر است:\n",
    "der  = np.polyder(p)\n",
    "print('the derivation is %fx^2 +(%f)x +(%f) '%tuple(der)) \n"
   ]
  },
  {
   "cell_type": "markdown",
   "metadata": {},
   "source": [
    "<div dir=\"rtl\" style=\"line-height:300%;\"><font face=\"XB Nazanin\" size=5>\n",
    "    <p></p>\n",
    "    در تابع بالا تنها 1 ریشه از روی خط x=0 رد شده است و آن هم ریشه اولی است.\n",
    "    2 ریشه دیگر بر اساس فضای i+j تعریف شده‌اند.\n",
    "    <br>\n",
    "    <br>\n",
    "    در ادامه تابع نرم را داریم.\n",
    "    می‌توانید انواع نرم را با استفاده از این تابع بدست بیاورید:\n",
    "</font>\n",
    "</div>"
   ]
  },
  {
   "cell_type": "code",
   "execution_count": 7,
   "metadata": {},
   "outputs": [
    {
     "name": "stdout",
     "output_type": "stream",
     "text": [
      "5.477225575051661\n",
      "5.477225575051661\n",
      "\n",
      "L1: 6.0\n",
      "Linf: 7.0\n"
     ]
    }
   ],
   "source": [
    "import numpy as np\n",
    "from scipy import linalg\n",
    "A=np.array([[1,2],[3,4]])\n",
    "\n",
    "print(linalg.norm(A))\n",
    "print(linalg.norm(A,'fro')) # نرم فروبنیوس یا نرم 2\n",
    "\n",
    "print()\n",
    "print('L1:',linalg.norm(A,1))\n",
    "\n",
    "print('Linf:',linalg.norm(A,np.inf)) # نرم بینهایت"
   ]
  },
  {
   "cell_type": "code",
   "execution_count": 4,
   "metadata": {
    "scrolled": true
   },
   "outputs": [],
   "source": [
    "help(linalg)"
   ]
  },
  {
   "cell_type": "markdown",
   "metadata": {},
   "source": [
    "<div dir=\"rtl\" style=\"line-height:300%;\"><font face=\"XB Nazanin\" size=5>\n",
    "    <p></p>\n",
    "    دیگر توابع این زیربخش را می‌توانید در بالا ببینید.\n",
    "    محاسبات متفاوتی وجود دارد که می‌توانید با استفاده از زیر بخش linalg آنها را به سادگی پیاده سازی کنید.\n",
    "    از جمله محاسبات ماتریسی <code>svd</code>، دسترسی برخی توابع برای ماتریس\n",
    "    و دسترسی به برخی ماتریس های خاص\n",
    "    از جمله دیگر ویژگی هایی است که این زیربخش در اختیار شما قرار می‌دهد.\n",
    "    <br>\n",
    "    <br>\n",
    "    همچنین در زیربخش <code>stats</code> می‌توانید به برخی توابع ارزیابی پیچیده دسترسی پیدا کنید که بیشتر به مباحث آماری در سطح های بالاتر مربوط می‌شوند.\n",
    "</font>\n",
    "</div>"
   ]
  },
  {
   "cell_type": "code",
   "execution_count": 5,
   "metadata": {},
   "outputs": [],
   "source": [
    "from scipy import stats\n",
    "help(stats)"
   ]
  },
  {
   "cell_type": "markdown",
   "metadata": {},
   "source": [
    "<div dir=\"rtl\" style=\"line-height:300%;\"><font face=\"XB Nazanin\" size=5>\n",
    "    <p></p>\n",
    "    جا دارد در اینجا کمی بیشتر در مورد کتابخانه numpy و کارهایی که میتوان با استفاده از آن برروی چند جمله ای ها انجام داد صحبت کنیم.\n",
    "    <br>\n",
    "    در بالاتر با محاسبه مقدار، محاسبه ریشه، انتگرال و مشتق گیری توابع چند جمله ای آشنا شدیم.\n",
    "    <br>\n",
    "    در زیر با برخی ویژگی های دیگر numpy برای چند جمله ای ها نیز آشنا می‌شویم.\n",
    "</font>\n",
    "</div>"
   ]
  },
  {
   "cell_type": "code",
   "execution_count": 10,
   "metadata": {},
   "outputs": [
    {
     "name": "stdout",
     "output_type": "stream",
     "text": [
      "addition: [ 1  4  0 10]\n",
      "subtraction:  [ 1  4 -4 -4]\n"
     ]
    }
   ],
   "source": [
    "p = np.array([1, 4, -2, 3])\n",
    "q = np.array([2, 7]) # 2x + 7\n",
    "\n",
    "# افزودن دو چند جمله ای به هم:\n",
    "print('addition:', np.polyadd(p, q) )\n",
    "# کم کردن دو چند جمله ای از هم:\n",
    "print('subtraction: ',np.polysub(p, q) )"
   ]
  },
  {
   "cell_type": "code",
   "execution_count": 11,
   "metadata": {},
   "outputs": [
    {
     "name": "stdout",
     "output_type": "stream",
     "text": [
      "multiplication:  [ 2 15 24 -8 21]\n",
      "division:  (array([ 0.5  ,  0.25 , -1.875]), array([16.125]))\n"
     ]
    }
   ],
   "source": [
    "p = np.array([1, 4, -2, 3])\n",
    "q = np.array([2, 7]) # 2x + 7\n",
    "\n",
    "# ضرب دو چند جمله ای در هم:\n",
    "print('multiplication: ',np.polymul(p, q) )\n",
    "# تقسیم دو چند جمله ای:\n",
    "print('division: ', np.polydiv(p, q) )"
   ]
  },
  {
   "cell_type": "markdown",
   "metadata": {},
   "source": [
    "<div dir=\"rtl\" style=\"line-height:300%;\"><font face=\"XB Nazanin\" size=5>\n",
    "    <p></p>\n",
    "    اما فرض کنید چند نقطه دارید. می‌خواهید نزدیک ترین چند جمله ای را به آن فیت کنید.\n",
    "    <br>\n",
    "    در این حالت از ویژگی زیر در numpy استفاده می‌کنید.\n",
    "</font>\n",
    "</div>"
   ]
  },
  {
   "cell_type": "code",
   "execution_count": 12,
   "metadata": {},
   "outputs": [
    {
     "data": {
      "text/plain": [
       "array([ 0.375     , -0.88690476,  1.05357143])"
      ]
     },
     "execution_count": 12,
     "metadata": {},
     "output_type": "execute_result"
    }
   ],
   "source": [
    "x = [1, 2, 3, 4, 5, 6, 7, 8]\n",
    "y = [0, 2, 1, 3, 7, 10, 11, 19]\n",
    "np.polyfit(x, y, 2)"
   ]
  },
  {
   "cell_type": "code",
   "execution_count": 14,
   "metadata": {},
   "outputs": [
    {
     "data": {
      "image/png": "[encoded data removed]",
      "text/plain": [
       "<Figure size 432x288 with 1 Axes>"
      ]
     },
     "metadata": {
      "needs_background": "light"
     },
     "output_type": "display_data"
    }
   ],
   "source": [
    "import numpy as np\n",
    "import matplotlib.pyplot as plt\n",
    "size = 1000 # تعدادی نقطه در نظر میگیریم\n",
    "x = np.linspace(-2 * np.pi, 2 * np.pi, size) # به آن تعداد بین منقی 2پی و 2پی نقطخ تعریف میکنیم\n",
    "y = np.sin(x) + np.random.randn(size) # مقدار ایگرگ آن ها را توسط سینوس و اضافه کردن نویز به دست میاوریم\n",
    "degree = 5\n",
    "p = np.polyfit(x, y, degree) # یک چندجمله ای با درجه 5 به آن فیت میکنیم\n",
    "z = np.polyval(p, x) # مقادیر ایکس را در آن چند جمله ای میگذاریم تا ایگرگ را به دست بیاوریم\n",
    "plt.plot(x, y, '.') # مقادیر نویزی سینوسی را میکشیم\n",
    "plt.plot(x, z)# مقادیر چند جمله ای را میکشیم\n",
    "plt.legend(['sin', 'poly']) # برای نمایش لیبل از این دستور استفاده میکنیم\n",
    "plt.show()"
   ]
  },
  {
   "cell_type": "markdown",
   "metadata": {},
   "source": [
    "<div dir=\"rtl\" style=\"line-height:300%;\"><font face=\"XB Nazanin\" size=5>\n",
    "    <p></p>\n",
    "    با دانستن این مطالب و آشنایی ابتدایی با کتابخانه scipy این فصل را به پایان می‌رسانیم.\n",
    "    <br>\n",
    "    در فصل آینده چند مثال برای مروری بر درس های آموخته شده می‌بینیم.\n",
    "    <br>\n",
    "</font>\n",
    "    <a  href=\"#menu\">بازگشت به فهرست اصلی</a>\n",
    "</div>"
   ]
  },
  {
   "cell_type": "markdown",
   "metadata": {},
   "source": [
    "<div dir=\"rtl\" style=\"line-height:300%;\"><font face=\"XB Nazanin\" size=5>\n",
    "    <font color=135FC3 size=6>\n",
    "<p></p>\n",
    "<div align=center><a  name=\"section16\" href=\"#menu\">فصل 16: مروری بر مباحث</a></div>\n",
    "</font>\n",
    "    <p></p>\n",
    "    در این فصل به سراغ حل یک سری از مسائل می‌رویم:\n",
    "    <br>\n",
    "    <br>\n",
    "</font>\n",
    "</div>"
   ]
  },
  {
   "cell_type": "markdown",
   "metadata": {},
   "source": [
    "<div dir=\"rtl\" style=\"line-height:300%;\"><font face=\"XB Nazanin\" size=5>\n",
    "    <p></p>\n",
    "    <br>\n",
    "    1.سه عدد را با هم مقایسه کنید و بزرگترین آن ها را برگردانید؟\n",
    "    <br>\n",
    "</font>\n",
    "</div>"
   ]
  },
  {
   "cell_type": "code",
   "execution_count": 18,
   "metadata": {},
   "outputs": [
    {
     "name": "stdout",
     "output_type": "stream",
     "text": [
      "The largest number is 14\n"
     ]
    }
   ],
   "source": [
    "num1 = 10\n",
    "num2 = 14\n",
    "num3 = 12\n",
    "# میتوانید اعداد را به صورت ورودی بگیرید\n",
    "#num1 = float(input(\"Enter first number: \"))\n",
    "#num2 = float(input(\"Enter second number: \"))\n",
    "#num3 = float(input(\"Enter third number: \"))\n",
    "\n",
    "if (num1 >= num2) and (num1 >= num3):\n",
    "    largest = num1\n",
    "elif (num2 >= num1) and (num2 >= num3):\n",
    "    largest = num2\n",
    "else:\n",
    "    largest = num3\n",
    "\n",
    "print(\"The largest number is\", largest)\n"
   ]
  },
  {
   "cell_type": "markdown",
   "metadata": {},
   "source": [
    "<div dir=\"rtl\" style=\"line-height:300%;\"><font face=\"XB Nazanin\" size=5>\n",
    "    <p></p>\n",
    "    <br>\n",
    "    2.حال این کار را برای یافتن بزرگترین مقدار در یک لیست انجام دهید.\n",
    "    <br>\n",
    "</font>\n",
    "</div>"
   ]
  },
  {
   "cell_type": "code",
   "execution_count": 19,
   "metadata": {},
   "outputs": [
    {
     "name": "stdout",
     "output_type": "stream",
     "text": [
      "The largest is 53\n"
     ]
    }
   ],
   "source": [
    "l = [2,1,5,2,6,4,7,2,8,12,8,5,23,53,7,4,5]\n",
    "\n",
    "maxNum = l[0]\n",
    "for x in l:\n",
    "    if maxNum<x:\n",
    "        maxNum = x\n",
    "print('The largest is',maxNum)"
   ]
  },
  {
   "cell_type": "markdown",
   "metadata": {},
   "source": [
    "<div dir=\"rtl\" style=\"line-height:300%;\"><font face=\"XB Nazanin\" size=5>\n",
    "    <p></p>\n",
    "    <br>\n",
    "    3.\n",
    "    یک تابع بنویسید که مقدار جذر اعداد را محاسبه کند.\n",
    "    <br>\n",
    "</font>\n",
    "</div>"
   ]
  },
  {
   "cell_type": "code",
   "execution_count": 20,
   "metadata": {},
   "outputs": [
    {
     "data": {
      "text/plain": [
       "2.8284271247461903"
      ]
     },
     "execution_count": 20,
     "metadata": {},
     "output_type": "execute_result"
    }
   ],
   "source": [
    "def sqareRoot(n):\n",
    "    return n**(.5)\n",
    "\n",
    "sqareRoot(8)"
   ]
  },
  {
   "cell_type": "markdown",
   "metadata": {},
   "source": [
    "<div dir=\"rtl\" style=\"line-height:300%;\"><font face=\"XB Nazanin\" size=5>\n",
    "    <p></p>\n",
    "    <br>\n",
    "    4.\n",
    "    برنامه ای بنویسید که جدول ضرب را برای عدد 23 نمایش دهد:\n",
    "    <br>\n",
    "</font>\n",
    "</div>"
   ]
  },
  {
   "cell_type": "code",
   "execution_count": 21,
   "metadata": {},
   "outputs": [
    {
     "name": "stdout",
     "output_type": "stream",
     "text": [
      "23 x 1 = 23\n",
      "23 x 2 = 46\n",
      "23 x 3 = 69\n",
      "23 x 4 = 92\n",
      "23 x 5 = 115\n",
      "23 x 6 = 138\n",
      "23 x 7 = 161\n",
      "23 x 8 = 184\n",
      "23 x 9 = 207\n",
      "23 x 10 = 230\n"
     ]
    }
   ],
   "source": [
    "num = 23\n",
    "\n",
    "# اگر میخواهید از کاربر بگیرید\n",
    "# num = int(input(\"Display multiplication table of? \"))\n",
    "\n",
    "\n",
    "for i in range(1, 11):\n",
    "    print(num, 'x', i, '=', num*i)"
   ]
  },
  {
   "cell_type": "markdown",
   "metadata": {},
   "source": [
    "<div dir=\"rtl\" style=\"line-height:300%;\"><font face=\"XB Nazanin\" size=5>\n",
    "    <p></p>\n",
    "    <br>\n",
    "    5.\n",
    "    محاسبه توان 2 چند عدد طبیعی:\n",
    "    Σn^2 \n",
    "    <br>\n",
    "</font>\n",
    "</div>"
   ]
  },
  {
   "cell_type": "code",
   "execution_count": 22,
   "metadata": {},
   "outputs": [
    {
     "name": "stdout",
     "output_type": "stream",
     "text": [
      "30\n"
     ]
    }
   ],
   "source": [
    "def squaresum(n) :\n",
    "    sm = 0\n",
    "    for i in range(1, n+1) :\n",
    "        sm = sm + (i * i)\n",
    "      \n",
    "    return sm\n",
    "  \n",
    "n = 4\n",
    "print(squaresum(n))\n",
    "  "
   ]
  },
  {
   "cell_type": "markdown",
   "metadata": {},
   "source": [
    "<div dir=\"rtl\" style=\"line-height:300%;\"><font face=\"XB Nazanin\" size=5>\n",
    "    <p></p>\n",
    "    <br>\n",
    "    6.\n",
    "    محاسبه توان 3 چند عدد طبیعی:\n",
    "    Σn^3 \n",
    "    <br>\n",
    "    (این کد را خود بزنید.)\n",
    "</font>\n",
    "</div>"
   ]
  },
  {
   "cell_type": "code",
   "execution_count": null,
   "metadata": {},
   "outputs": [],
   "source": []
  },
  {
   "cell_type": "markdown",
   "metadata": {},
   "source": [
    "<div dir=\"rtl\" style=\"line-height:300%;\"><font face=\"XB Nazanin\" size=5>\n",
    "    <p></p>\n",
    "    <br>\n",
    "    7.\n",
    "    محاسبه کنید آیا یک عدد اول است یا خیر:\n",
    "    <br>\n",
    "</font>\n",
    "</div>"
   ]
  },
  {
   "cell_type": "code",
   "execution_count": 24,
   "metadata": {},
   "outputs": [
    {
     "name": "stdout",
     "output_type": "stream",
     "text": [
      "10 is not prime.\n",
      "7  is prime.\n"
     ]
    }
   ],
   "source": [
    "def is_prime(n):\n",
    "    for i in range(2,n):\n",
    "        if(n % i==0):\n",
    "            print(n,'is not prime.')\n",
    "            break\n",
    "    else:\n",
    "        print(n, ' is prime.')\n",
    "        \n",
    "is_prime(10)\n",
    "is_prime(7)"
   ]
  },
  {
   "cell_type": "markdown",
   "metadata": {},
   "source": [
    "<div dir=\"rtl\" style=\"line-height:300%;\"><font face=\"XB Nazanin\" size=5>\n",
    "    <p></p>\n",
    "    <br>\n",
    "    8.\n",
    "    حال تمامی اعداد در یک رینج که اول هستند را چاپ کنید:\n",
    "    <br>\n",
    "</font>\n",
    "</div>"
   ]
  },
  {
   "cell_type": "code",
   "execution_count": 26,
   "metadata": {},
   "outputs": [
    {
     "name": "stdout",
     "output_type": "stream",
     "text": [
      "11\n",
      "13\n",
      "17\n",
      "19\n"
     ]
    }
   ],
   "source": [
    "def is_prime(n):\n",
    "    for i in range(2,n):\n",
    "        if(n % i==0):\n",
    "            return False\n",
    "    else:\n",
    "        return True\n",
    "        \n",
    "def all_prime(first, last):\n",
    "    for i in range(first,last+1):\n",
    "        if is_prime(i):\n",
    "            print(i)\n",
    "\n",
    "all_prime(11,20)"
   ]
  },
  {
   "cell_type": "markdown",
   "metadata": {},
   "source": [
    "<div dir=\"rtl\" style=\"line-height:300%;\"><font face=\"XB Nazanin\" size=5>\n",
    "    <p></p>\n",
    "    <br>\n",
    "    9.\n",
    "    یک ماشین حساب ساده بسازید.\n",
    "    <br>\n",
    "</font>\n",
    "</div>"
   ]
  },
  {
   "cell_type": "code",
   "execution_count": 27,
   "metadata": {},
   "outputs": [
    {
     "name": "stdout",
     "output_type": "stream",
     "text": [
      "Select operation.\n",
      "1.Add\n",
      "2.Subtract\n",
      "3.Multiply\n",
      "4.Divide\n",
      "Enter choice(1/2/3/4): 1\n",
      "Enter first number: 23\n",
      "Enter second number: 32\n",
      "23.0 + 32.0 = 55.0\n",
      "Let's do next calculation? (yes/no): yes\n",
      "Enter choice(1/2/3/4): 2\n",
      "Enter first number: 23\n",
      "Enter second number: 12\n",
      "23.0 - 12.0 = 11.0\n",
      "Let's do next calculation? (yes/no): y\n",
      "Enter choice(1/2/3/4): 3\n",
      "Enter first number: 12\n",
      "Enter second number: 3\n",
      "12.0 * 3.0 = 36.0\n",
      "Let's do next calculation? (yes/no): y\n",
      "Enter choice(1/2/3/4): 4\n",
      "Enter first number: 34\n",
      "Enter second number: 5\n",
      "34.0 / 5.0 = 6.8\n",
      "Let's do next calculation? (yes/no): no\n"
     ]
    }
   ],
   "source": [
    "def add(x, y):\n",
    "    return x + y\n",
    "\n",
    "def subtract(x, y):\n",
    "    return x - y\n",
    "\n",
    "def multiply(x, y):\n",
    "    return x * y\n",
    "\n",
    "def divide(x, y):\n",
    "    return x / y\n",
    "\n",
    "\n",
    "print(\"Select operation.\")\n",
    "print(\"1.Add\")\n",
    "print(\"2.Subtract\")\n",
    "print(\"3.Multiply\")\n",
    "print(\"4.Divide\")\n",
    "\n",
    "while True:\n",
    "    choice = input(\"Enter choice(1/2/3/4): \")\n",
    "\n",
    "    if choice in ('1', '2', '3', '4'):\n",
    "        num1 = float(input(\"Enter first number: \"))\n",
    "        num2 = float(input(\"Enter second number: \"))\n",
    "\n",
    "        if choice == '1':\n",
    "            print(num1, \"+\", num2, \"=\", add(num1, num2))\n",
    "\n",
    "        elif choice == '2':\n",
    "            print(num1, \"-\", num2, \"=\", subtract(num1, num2))\n",
    "\n",
    "        elif choice == '3':\n",
    "            print(num1, \"*\", num2, \"=\", multiply(num1, num2))\n",
    "\n",
    "        elif choice == '4':\n",
    "            print(num1, \"/\", num2, \"=\", divide(num1, num2))\n",
    "        \n",
    "        next_calculation = input(\"Let's do next calculation? (yes/no): \")\n",
    "        if next_calculation == \"no\":\n",
    "            break\n",
    "    \n",
    "    else:\n",
    "        print(\"Invalid Input\")"
   ]
  },
  {
   "cell_type": "markdown",
   "metadata": {},
   "source": [
    "<div dir=\"rtl\" style=\"line-height:300%;\"><font face=\"XB Nazanin\" size=5>\n",
    "    <p></p>\n",
    "    <br>\n",
    "    10.\n",
    "    یک برنامه بنویسید که اعداد برپایه 10 یا دسیمال را به مبنای باینری یا برپایه 2 ببرد.\n",
    "    <br>\n",
    "</font>\n",
    "</div>"
   ]
  },
  {
   "cell_type": "code",
   "execution_count": 30,
   "metadata": {
    "scrolled": true
   },
   "outputs": [
    {
     "data": {
      "text/plain": [
       "'100010'"
      ]
     },
     "execution_count": 30,
     "metadata": {},
     "output_type": "execute_result"
    }
   ],
   "source": [
    "def convertToBinary(n):\n",
    "    b = ''\n",
    "    while n>1:\n",
    "        b = str(n%2)+b\n",
    "        n = n//2\n",
    "    b = str(n)+b\n",
    "    return b\n",
    "\n",
    "dec = 34\n",
    "convertToBinary(dec)"
   ]
  },
  {
   "cell_type": "markdown",
   "metadata": {},
   "source": [
    "<div dir=\"rtl\" style=\"line-height:300%;\"><font face=\"XB Nazanin\" size=5>\n",
    "    <p></p>\n",
    "    <br>\n",
    "    11.\n",
    "    مثال بالا را به صورت بازگشتی پیاده سازی کنید:\n",
    "    <br>\n",
    "</font>\n",
    "</div>"
   ]
  },
  {
   "cell_type": "code",
   "execution_count": 29,
   "metadata": {},
   "outputs": [
    {
     "name": "stdout",
     "output_type": "stream",
     "text": [
      "100010"
     ]
    }
   ],
   "source": [
    "def convertToBinary(n):\n",
    "    if n > 1:\n",
    "        convertToBinary(n//2)\n",
    "    print(n % 2,end = '')\n",
    "\n",
    "# decimal number\n",
    "dec = 34\n",
    "\n",
    "convertToBinary(dec)"
   ]
  },
  {
   "cell_type": "markdown",
   "metadata": {},
   "source": [
    "<div dir=\"rtl\" style=\"line-height:300%;\"><font face=\"XB Nazanin\" size=5>\n",
    "    <p></p>\n",
    "    <br>\n",
    "    12.\n",
    "    فرض کنید با استفاده از یک دستگاه می‌خواهید خرید کنید.\n",
    "    مبلغ به شما نمایش داده می‌شود. شما پول را پرداخت می‌کنید و باقی آن به علاوه محصول را دریافت می‌کنید.\n",
    "    فرض کنید سکه های زیر را داریم:\n",
    "    <br>\n",
    "    1 , 2 , 5 cent\n",
    "    <br>\n",
    "    10, 20, 50 cent\n",
    "    <br>\n",
    "    1, 2 euro\n",
    "    <br>\n",
    "    و اسکناس های زیر را:\n",
    "    5,10,20,50 euro\n",
    "    <br>\n",
    "    و هر 100 سنت یک یورو است.\n",
    "    <br>\n",
    "    حال ماشینی طراحی کنید که مبلغ خواسته شده و مبلغ ورودی را بگیرد و کمترین تعداد سکه و پول نقد را برگرداند:\n",
    "    <br>\n",
    "</font>\n",
    "</div>"
   ]
  },
  {
   "cell_type": "code",
   "execution_count": 35,
   "metadata": {},
   "outputs": [
    {
     "name": "stdout",
     "output_type": "stream",
     "text": [
      "15.350000000000001\n",
      "5.350000000000001\n",
      "0.3500000000000014\n",
      "0.1500000000000014\n",
      "0.050000000000001404\n"
     ]
    },
    {
     "data": {
      "text/plain": [
       "[10, 5, 0.2, 0.1, 0.05]"
      ]
     },
     "execution_count": 35,
     "metadata": {},
     "output_type": "execute_result"
    }
   ],
   "source": [
    "def changeCalculator(income, price):\n",
    "    listOfChanges = [50,20,10,5,2,1,.50,.20,.10,.05,.02,.01]\n",
    "    change = income-price\n",
    "    outcome = []\n",
    "    \n",
    "    while round(change,3)>0: # روند کردن در اینجا یک رکن اساسی است زیرا در صورت نبود آن هیچگاه صفر نخواهیم داشت\n",
    "        print(change) # خرده هایی که در ادامه اعشار دیده میشود به دلیل محاسبات کامپیوتری بر پایه 0 و 1 ایجاد شده است\n",
    "        for ch in listOfChanges:\n",
    "            if change-ch>=0:\n",
    "                change -= ch\n",
    "                outcome.append(ch)\n",
    "                break\n",
    "    return outcome\n",
    "\n",
    "changeCalculator(50,34.65)"
   ]
  },
  {
   "cell_type": "markdown",
   "metadata": {},
   "source": [
    "<div dir=\"rtl\" style=\"line-height:300%;\"><font face=\"XB Nazanin\" size=5>\n",
    "    <p></p>\n",
    "    <br>\n",
    "    با جست و جو در اینترنت می‌توانید مثال های بسیاری را برای حل پیدا کنید.\n",
    "    سایت های زیر نمونه هایی از آن ها هستند که بسیار در فراهم آوری مطالب این فایل به من کمک کرده اند:\n",
    "    <br>\n",
    "    <div dir=\"ltr\">\n",
    "    <a href='https://www.tutorialspoint.com/python/index.htm'> https://www.tutorialspoint.com/</a>\n",
    "    <br>\n",
    "    <a href='https://www.geeksforgeeks.org/'> https://www.geeksforgeeks.org/ </a>\n",
    "    <br>\n",
    "    <a href='https://www.programiz.com/'> https://www.programiz.com/ </a>\n",
    "    </div>\n",
    "    برخی دیگر از سایت هایی که می‌توانید در آنها نمونه هایی برای تمرین بیابید:\n",
    "    <div dir=\"ltr\">\n",
    "    <a href='https://www.w3schools.com/python/python_examples.asp'> https://www.w3schools.com/ </a>\n",
    "    <br>\n",
    "    <a href='https://wiki.python.org/moin/SimplePrograms'> https://wiki.python.org/moin/SimplePrograms </a>\n",
    "    </div>\n",
    "    بعد از مرحله یادگیری نوبت به تست خودتان می‌رسد.\n",
    "    می‌توانید در این سایت ها این کار را انجام دهید:\n",
    "    <div dir=\"ltr\">\n",
    "    <a href='https://edabit.com/challenges/python3'> https://edabit.com/challenges/python3</a>\n",
    "    <br>\n",
    "    <a href='https://www.hackerrank.com/domains/python'> https://www.hackerrank.com/domains/python </a>\n",
    "        <br>\n",
    "    <a href='https://coderbyte.com/challenges'> https://coderbyte.com/challenges</a>\n",
    "    </div>\n",
    "    <br>\n",
    "    <div align=center>\n",
    "    امیدوارم در طول این مسیر به مهارت مناسبی از برنامه نویسی با استفاده از پایتون رسیده باشید.\n",
    "    <br>\n",
    "    از یادگیری دست برندارید.\n",
    "    <br>\n",
    "    موفق باشید.\n",
    "        </div>\n",
    "    <br>\n",
    "    <a href=#menu>بازگشت به منوی اصلی</a>\n",
    "</font>\n",
    "</div>"
   ]
  }
 ],
 "metadata": {
  "kernelspec": {
   "display_name": "Python 3",
   "language": "python",
   "name": "python3"
  },
  "language_info": {
   "codemirror_mode": {
    "name": "ipython",
    "version": 3
   },
   "file_extension": ".py",
   "mimetype": "text/x-python",
   "name": "python",
   "nbconvert_exporter": "python",
   "pygments_lexer": "ipython3",
   "version": "3.7.11"
  }
 },
 "nbformat": 4,
 "nbformat_minor": 2
}
